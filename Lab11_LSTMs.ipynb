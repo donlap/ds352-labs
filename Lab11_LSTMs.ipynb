{
 "cells": [
  {
   "cell_type": "markdown",
   "metadata": {},
   "source": [
    "### Statistical Learning for Data Science 2 (229352) \n",
    "#### Instructor: Donlapark Ponnoprat\n",
    "\n",
    "#### [Course website](https://donlapark.pages.dev/229352/)\n",
    "\n",
    "## Lab #11"
   ]
  },
  {
   "cell_type": "code",
   "execution_count": null,
   "metadata": {
    "id": "OMoXdgLYHmVc"
   },
   "outputs": [],
   "source": [
    "!pip install pythainlp\n",
    "!wget http://www.donlapark.cmustat.com/229352/thai_lyrics.csv"
   ]
  },
  {
   "cell_type": "markdown",
   "metadata": {
    "id": "4htrTvCOhPBD"
   },
   "source": [
    "## Song lyrics generation"
   ]
  },
  {
   "cell_type": "code",
   "execution_count": null,
   "metadata": {
    "colab": {
     "base_uri": "https://localhost:8080/",
     "height": 345
    },
    "id": "EQ51vFVH8uhg",
    "outputId": "a6b0bc60-f057-4017-ac77-bbf43a1eeafd"
   },
   "outputs": [
    {
     "data": {
      "text/html": [
       "\n",
       "  <div id=\"df-7d55beee-ecc9-4f3a-bf4d-c6c15a6998b0\" class=\"colab-df-container\">\n",
       "    <div>\n",
       "<style scoped>\n",
       "    .dataframe tbody tr th:only-of-type {\n",
       "        vertical-align: middle;\n",
       "    }\n",
       "\n",
       "    .dataframe tbody tr th {\n",
       "        vertical-align: top;\n",
       "    }\n",
       "\n",
       "    .dataframe thead th {\n",
       "        text-align: right;\n",
       "    }\n",
       "</style>\n",
       "<table border=\"1\" class=\"dataframe\">\n",
       "  <thead>\n",
       "    <tr style=\"text-align: right;\">\n",
       "      <th></th>\n",
       "      <th>Unnamed: 0</th>\n",
       "      <th>url</th>\n",
       "      <th>soup</th>\n",
       "      <th>song_title</th>\n",
       "      <th>artist_name</th>\n",
       "      <th>n_views</th>\n",
       "      <th>lyrics</th>\n",
       "    </tr>\n",
       "  </thead>\n",
       "  <tbody>\n",
       "    <tr>\n",
       "      <th>0</th>\n",
       "      <td>0</td>\n",
       "      <td>https://www.siamzone.com/music/thailyric/23649</td>\n",
       "      <td>&lt;!DOCTYPE HTML&gt;\\n\\n&lt;html lang=\"th\"&gt;\\n&lt;head&gt;\\n&lt;...</td>\n",
       "      <td>อย่ามาทนกันเลย</td>\n",
       "      <td>พิม ฐิติยากร ทองศรี Pimthitii</td>\n",
       "      <td>ดู 1,080 ครั้ง / แชร์</td>\n",
       "      <td>ไม่อยากให้เธอทนอีกแล้ว\\nไม่อยากให้เธอนั้นต้องฝ...</td>\n",
       "    </tr>\n",
       "    <tr>\n",
       "      <th>1</th>\n",
       "      <td>1</td>\n",
       "      <td>https://www.siamzone.com/music/thailyric/23650</td>\n",
       "      <td>&lt;!DOCTYPE HTML&gt;\\n\\n&lt;html lang=\"th\"&gt;\\n&lt;head&gt;\\n&lt;...</td>\n",
       "      <td>บ่ต้องอ้อนวอน</td>\n",
       "      <td>ศาล สานศิลป์</td>\n",
       "      <td>ดู 1,690 ครั้ง / แชร์</td>\n",
       "      <td>ไสว่าเขาดีคักแหน่ ไสว่าเขาแคร์เจ้าที่สุดแล้ว\\n...</td>\n",
       "    </tr>\n",
       "    <tr>\n",
       "      <th>2</th>\n",
       "      <td>2</td>\n",
       "      <td>https://www.siamzone.com/music/thailyric/23651</td>\n",
       "      <td>&lt;!DOCTYPE HTML&gt;\\n\\n&lt;html lang=\"th\"&gt;\\n&lt;head&gt;\\n&lt;...</td>\n",
       "      <td>ปากดี</td>\n",
       "      <td>โก๊ะ นิพนธ์ สนธิ Koh Niphon</td>\n",
       "      <td>ดู 748 ครั้ง / แชร์</td>\n",
       "      <td>ปาก มันบอกว่าไม่คิดถึง\\nตา ทำไมมันยังมองหา\\nหร...</td>\n",
       "    </tr>\n",
       "    <tr>\n",
       "      <th>3</th>\n",
       "      <td>3</td>\n",
       "      <td>https://www.siamzone.com/music/thailyric/23653</td>\n",
       "      <td>&lt;!DOCTYPE HTML&gt;\\n\\n&lt;html lang=\"th\"&gt;\\n&lt;head&gt;\\n&lt;...</td>\n",
       "      <td>Noprada (นพรดา)</td>\n",
       "      <td>ไรเฟิล Rifle</td>\n",
       "      <td>ดู 18,553 ครั้ง / แชร์</td>\n",
       "      <td>ให้เธอลองมองมาที่เรา\\nLook at me now จ้องตาที่...</td>\n",
       "    </tr>\n",
       "    <tr>\n",
       "      <th>4</th>\n",
       "      <td>4</td>\n",
       "      <td>https://www.siamzone.com/music/thailyric/23654</td>\n",
       "      <td>&lt;!DOCTYPE HTML&gt;\\n\\n&lt;html lang=\"th\"&gt;\\n&lt;head&gt;\\n&lt;...</td>\n",
       "      <td>ไม่เป็นไร (Mai Pen Rai)</td>\n",
       "      <td>มอร์ วสุพล เกรียงประภากิจ Morvasu</td>\n",
       "      <td>ดู 701 ครั้ง / แชร์</td>\n",
       "      <td>ถ้าเธอบอกไม่เป็นไร ฉันจะบอกไม่เป็นไร\\nมันก็แค่...</td>\n",
       "    </tr>\n",
       "  </tbody>\n",
       "</table>\n",
       "</div>\n",
       "    <div class=\"colab-df-buttons\">\n",
       "\n",
       "  <div class=\"colab-df-container\">\n",
       "    <button class=\"colab-df-convert\" onclick=\"convertToInteractive('df-7d55beee-ecc9-4f3a-bf4d-c6c15a6998b0')\"\n",
       "            title=\"Convert this dataframe to an interactive table.\"\n",
       "            style=\"display:none;\">\n",
       "\n",
       "  <svg xmlns=\"http://www.w3.org/2000/svg\" height=\"24px\" viewBox=\"0 -960 960 960\">\n",
       "    <path d=\"M120-120v-720h720v720H120Zm60-500h600v-160H180v160Zm220 220h160v-160H400v160Zm0 220h160v-160H400v160ZM180-400h160v-160H180v160Zm440 0h160v-160H620v160ZM180-180h160v-160H180v160Zm440 0h160v-160H620v160Z\"/>\n",
       "  </svg>\n",
       "    </button>\n",
       "\n",
       "  <style>\n",
       "    .colab-df-container {\n",
       "      display:flex;\n",
       "      gap: 12px;\n",
       "    }\n",
       "\n",
       "    .colab-df-convert {\n",
       "      background-color: #E8F0FE;\n",
       "      border: none;\n",
       "      border-radius: 50%;\n",
       "      cursor: pointer;\n",
       "      display: none;\n",
       "      fill: #1967D2;\n",
       "      height: 32px;\n",
       "      padding: 0 0 0 0;\n",
       "      width: 32px;\n",
       "    }\n",
       "\n",
       "    .colab-df-convert:hover {\n",
       "      background-color: #E2EBFA;\n",
       "      box-shadow: 0px 1px 2px rgba(60, 64, 67, 0.3), 0px 1px 3px 1px rgba(60, 64, 67, 0.15);\n",
       "      fill: #174EA6;\n",
       "    }\n",
       "\n",
       "    .colab-df-buttons div {\n",
       "      margin-bottom: 4px;\n",
       "    }\n",
       "\n",
       "    [theme=dark] .colab-df-convert {\n",
       "      background-color: #3B4455;\n",
       "      fill: #D2E3FC;\n",
       "    }\n",
       "\n",
       "    [theme=dark] .colab-df-convert:hover {\n",
       "      background-color: #434B5C;\n",
       "      box-shadow: 0px 1px 3px 1px rgba(0, 0, 0, 0.15);\n",
       "      filter: drop-shadow(0px 1px 2px rgba(0, 0, 0, 0.3));\n",
       "      fill: #FFFFFF;\n",
       "    }\n",
       "  </style>\n",
       "\n",
       "    <script>\n",
       "      const buttonEl =\n",
       "        document.querySelector('#df-7d55beee-ecc9-4f3a-bf4d-c6c15a6998b0 button.colab-df-convert');\n",
       "      buttonEl.style.display =\n",
       "        google.colab.kernel.accessAllowed ? 'block' : 'none';\n",
       "\n",
       "      async function convertToInteractive(key) {\n",
       "        const element = document.querySelector('#df-7d55beee-ecc9-4f3a-bf4d-c6c15a6998b0');\n",
       "        const dataTable =\n",
       "          await google.colab.kernel.invokeFunction('convertToInteractive',\n",
       "                                                    [key], {});\n",
       "        if (!dataTable) return;\n",
       "\n",
       "        const docLinkHtml = 'Like what you see? Visit the ' +\n",
       "          '<a target=\"_blank\" href=https://colab.research.google.com/notebooks/data_table.ipynb>data table notebook</a>'\n",
       "          + ' to learn more about interactive tables.';\n",
       "        element.innerHTML = '';\n",
       "        dataTable['output_type'] = 'display_data';\n",
       "        await google.colab.output.renderOutput(dataTable, element);\n",
       "        const docLink = document.createElement('div');\n",
       "        docLink.innerHTML = docLinkHtml;\n",
       "        element.appendChild(docLink);\n",
       "      }\n",
       "    </script>\n",
       "  </div>\n",
       "\n",
       "\n",
       "<div id=\"df-383b103f-50cf-4fd3-b76b-9be8a4e44835\">\n",
       "  <button class=\"colab-df-quickchart\" onclick=\"quickchart('df-383b103f-50cf-4fd3-b76b-9be8a4e44835')\"\n",
       "            title=\"Suggest charts.\"\n",
       "            style=\"display:none;\">\n",
       "\n",
       "<svg xmlns=\"http://www.w3.org/2000/svg\" height=\"24px\"viewBox=\"0 0 24 24\"\n",
       "     width=\"24px\">\n",
       "    <g>\n",
       "        <path d=\"M19 3H5c-1.1 0-2 .9-2 2v14c0 1.1.9 2 2 2h14c1.1 0 2-.9 2-2V5c0-1.1-.9-2-2-2zM9 17H7v-7h2v7zm4 0h-2V7h2v10zm4 0h-2v-4h2v4z\"/>\n",
       "    </g>\n",
       "</svg>\n",
       "  </button>\n",
       "\n",
       "<style>\n",
       "  .colab-df-quickchart {\n",
       "      --bg-color: #E8F0FE;\n",
       "      --fill-color: #1967D2;\n",
       "      --hover-bg-color: #E2EBFA;\n",
       "      --hover-fill-color: #174EA6;\n",
       "      --disabled-fill-color: #AAA;\n",
       "      --disabled-bg-color: #DDD;\n",
       "  }\n",
       "\n",
       "  [theme=dark] .colab-df-quickchart {\n",
       "      --bg-color: #3B4455;\n",
       "      --fill-color: #D2E3FC;\n",
       "      --hover-bg-color: #434B5C;\n",
       "      --hover-fill-color: #FFFFFF;\n",
       "      --disabled-bg-color: #3B4455;\n",
       "      --disabled-fill-color: #666;\n",
       "  }\n",
       "\n",
       "  .colab-df-quickchart {\n",
       "    background-color: var(--bg-color);\n",
       "    border: none;\n",
       "    border-radius: 50%;\n",
       "    cursor: pointer;\n",
       "    display: none;\n",
       "    fill: var(--fill-color);\n",
       "    height: 32px;\n",
       "    padding: 0;\n",
       "    width: 32px;\n",
       "  }\n",
       "\n",
       "  .colab-df-quickchart:hover {\n",
       "    background-color: var(--hover-bg-color);\n",
       "    box-shadow: 0 1px 2px rgba(60, 64, 67, 0.3), 0 1px 3px 1px rgba(60, 64, 67, 0.15);\n",
       "    fill: var(--button-hover-fill-color);\n",
       "  }\n",
       "\n",
       "  .colab-df-quickchart-complete:disabled,\n",
       "  .colab-df-quickchart-complete:disabled:hover {\n",
       "    background-color: var(--disabled-bg-color);\n",
       "    fill: var(--disabled-fill-color);\n",
       "    box-shadow: none;\n",
       "  }\n",
       "\n",
       "  .colab-df-spinner {\n",
       "    border: 2px solid var(--fill-color);\n",
       "    border-color: transparent;\n",
       "    border-bottom-color: var(--fill-color);\n",
       "    animation:\n",
       "      spin 1s steps(1) infinite;\n",
       "  }\n",
       "\n",
       "  @keyframes spin {\n",
       "    0% {\n",
       "      border-color: transparent;\n",
       "      border-bottom-color: var(--fill-color);\n",
       "      border-left-color: var(--fill-color);\n",
       "    }\n",
       "    20% {\n",
       "      border-color: transparent;\n",
       "      border-left-color: var(--fill-color);\n",
       "      border-top-color: var(--fill-color);\n",
       "    }\n",
       "    30% {\n",
       "      border-color: transparent;\n",
       "      border-left-color: var(--fill-color);\n",
       "      border-top-color: var(--fill-color);\n",
       "      border-right-color: var(--fill-color);\n",
       "    }\n",
       "    40% {\n",
       "      border-color: transparent;\n",
       "      border-right-color: var(--fill-color);\n",
       "      border-top-color: var(--fill-color);\n",
       "    }\n",
       "    60% {\n",
       "      border-color: transparent;\n",
       "      border-right-color: var(--fill-color);\n",
       "    }\n",
       "    80% {\n",
       "      border-color: transparent;\n",
       "      border-right-color: var(--fill-color);\n",
       "      border-bottom-color: var(--fill-color);\n",
       "    }\n",
       "    90% {\n",
       "      border-color: transparent;\n",
       "      border-bottom-color: var(--fill-color);\n",
       "    }\n",
       "  }\n",
       "</style>\n",
       "\n",
       "  <script>\n",
       "    async function quickchart(key) {\n",
       "      const quickchartButtonEl =\n",
       "        document.querySelector('#' + key + ' button');\n",
       "      quickchartButtonEl.disabled = true;  // To prevent multiple clicks.\n",
       "      quickchartButtonEl.classList.add('colab-df-spinner');\n",
       "      try {\n",
       "        const charts = await google.colab.kernel.invokeFunction(\n",
       "            'suggestCharts', [key], {});\n",
       "      } catch (error) {\n",
       "        console.error('Error during call to suggestCharts:', error);\n",
       "      }\n",
       "      quickchartButtonEl.classList.remove('colab-df-spinner');\n",
       "      quickchartButtonEl.classList.add('colab-df-quickchart-complete');\n",
       "    }\n",
       "    (() => {\n",
       "      let quickchartButtonEl =\n",
       "        document.querySelector('#df-383b103f-50cf-4fd3-b76b-9be8a4e44835 button');\n",
       "      quickchartButtonEl.style.display =\n",
       "        google.colab.kernel.accessAllowed ? 'block' : 'none';\n",
       "    })();\n",
       "  </script>\n",
       "</div>\n",
       "    </div>\n",
       "  </div>\n"
      ],
      "text/plain": [
       "   Unnamed: 0                                             url  \\\n",
       "0           0  https://www.siamzone.com/music/thailyric/23649   \n",
       "1           1  https://www.siamzone.com/music/thailyric/23650   \n",
       "2           2  https://www.siamzone.com/music/thailyric/23651   \n",
       "3           3  https://www.siamzone.com/music/thailyric/23653   \n",
       "4           4  https://www.siamzone.com/music/thailyric/23654   \n",
       "\n",
       "                                                soup               song_title  \\\n",
       "0  <!DOCTYPE HTML>\\n\\n<html lang=\"th\">\\n<head>\\n<...           อย่ามาทนกันเลย   \n",
       "1  <!DOCTYPE HTML>\\n\\n<html lang=\"th\">\\n<head>\\n<...            บ่ต้องอ้อนวอน   \n",
       "2  <!DOCTYPE HTML>\\n\\n<html lang=\"th\">\\n<head>\\n<...                    ปากดี   \n",
       "3  <!DOCTYPE HTML>\\n\\n<html lang=\"th\">\\n<head>\\n<...          Noprada (นพรดา)   \n",
       "4  <!DOCTYPE HTML>\\n\\n<html lang=\"th\">\\n<head>\\n<...  ไม่เป็นไร (Mai Pen Rai)   \n",
       "\n",
       "                         artist_name                 n_views  \\\n",
       "0      พิม ฐิติยากร ทองศรี Pimthitii   ดู 1,080 ครั้ง / แชร์   \n",
       "1                       ศาล สานศิลป์   ดู 1,690 ครั้ง / แชร์   \n",
       "2        โก๊ะ นิพนธ์ สนธิ Koh Niphon     ดู 748 ครั้ง / แชร์   \n",
       "3                       ไรเฟิล Rifle  ดู 18,553 ครั้ง / แชร์   \n",
       "4  มอร์ วสุพล เกรียงประภากิจ Morvasu     ดู 701 ครั้ง / แชร์   \n",
       "\n",
       "                                              lyrics  \n",
       "0  ไม่อยากให้เธอทนอีกแล้ว\\nไม่อยากให้เธอนั้นต้องฝ...  \n",
       "1  ไสว่าเขาดีคักแหน่ ไสว่าเขาแคร์เจ้าที่สุดแล้ว\\n...  \n",
       "2  ปาก มันบอกว่าไม่คิดถึง\\nตา ทำไมมันยังมองหา\\nหร...  \n",
       "3  ให้เธอลองมองมาที่เรา\\nLook at me now จ้องตาที่...  \n",
       "4  ถ้าเธอบอกไม่เป็นไร ฉันจะบอกไม่เป็นไร\\nมันก็แค่...  "
      ]
     },
     "execution_count": 2,
     "metadata": {},
     "output_type": "execute_result"
    }
   ],
   "source": [
    "from collections import Counter\n",
    "import csv\n",
    "from itertools import chain\n",
    "import numpy as np\n",
    "import pandas as pd\n",
    "from pythainlp import word_tokenize\n",
    "\n",
    "import torch\n",
    "import torch.nn as nn\n",
    "import torch.optim as optim\n",
    "from torch.utils.data import DataLoader\n",
    "\n",
    "\n",
    "df = pd.read_csv('thai_lyrics.csv', engine='python')\n",
    "df.head()"
   ]
  },
  {
   "cell_type": "code",
   "execution_count": null,
   "metadata": {
    "colab": {
     "base_uri": "https://localhost:8080/"
    },
    "id": "NF8se3vr9IE6",
    "outputId": "42aa0a42-6dae-4874-e4f8-4b51b32a8f4e"
   },
   "outputs": [
    {
     "name": "stdout",
     "output_type": "stream",
     "text": [
      "['ไม่', 'อยาก', 'ให้', 'เธอ', 'ทน', 'อีกแล้ว', '\\n', 'ไม่', 'อยาก', 'ให้', 'เธอ', 'นั้น', 'ต้อง', 'ฝืน', 'หัวใจ', ' ', 'ตัวเอง', 'ให้', 'มา', 'รัก', 'ฉัน', '\\n', 'มัน', 'เจ็บ', 'จน', 'แทบ', 'ทนไม่ไหว', '\\n', 'เมื่อไหร่', 'ที่', 'ได้', 'เห็น', 'ว่า', 'ใน', 'สายตา', ' ', 'ที่', 'มี', 'แต่', 'เขา', 'คนเดียว', 'เท่านั้น', '\\n', '\\n', 'อู้', 'ว', ' ', 'แค่', 'มอง', 'ก็', 'รู้', ' ', 'ว่า', 'เธอ', 'ยัง', 'รัก', 'เขา', '\\n', 'แต่', 'เธอ', 'เลือก', 'จะ', 'อยู่', ' ', 'แค่', 'กลัว', 'ฉัน', 'จะ', 'เจ็บ', ' ', 'ถึง', 'ทน', 'เก็บ', 'เอาไว้', '\\n', '\\n', 'อย่า', 'มา', 'ทน', 'กัน', 'เลย', ' ', 'ได้', 'โปรด', 'ถ้า', 'เธอ', 'ยัง', 'มา', 'สงสาร', 'กัน', '\\n', 'และ', 'ไม่ต้อง', 'ห่วง', 'ฉัน', ' ', 'ไม่ต้อง', 'ทน', 'มา', 'ปวด', 'หัวใจ', '\\n', 'ให้', 'เธอ', 'กลับ', 'ไป', ' ', 'จะ', 'ยอม', 'ทำใจ', 'คืน', 'เธอ', 'ให้', 'เขา', 'ไป', '\\n', 'ฝืน', 'ตัวเอง', 'ไม่', 'ไหว', ' ', 'ได้', 'แต่', 'ตัว', 'ไม่', 'ได้', 'หัวใจ', ' ', 'มัน', 'ก็', 'เท่านี้', '\\n', '\\n', 'มัน', 'เจ็บ', 'จน', 'จะ', 'ทนไม่ไหว', '\\n', 'ที่', 'เธอ', 'ไม่', 'มี', 'ฉัน', 'อยู่', 'ไหน', 'สายตา', '\\n', 'ทุกอย่าง', 'มัน', 'ฟ้อง', 'ว่า', 'ไม่', 'สำคัญ', '\\n', '\\n', 'อู้', 'ว', ' ', 'แค่', 'มอง', 'ก็', 'รู้', ' ', 'ว่า', 'เธอ', 'ยัง', 'รัก', 'เขา', '\\n', 'แต่', 'เธอ', 'เลือก', 'จะ', 'อยู่', ' ', 'แค่', 'กลัว', 'ฉัน', 'จะ', 'เจ็บ', ' ', 'ถึง', 'ทน', 'เก็บ', 'เอาไว้', '\\n', '\\n', 'อย่า', 'มา', 'ทน', 'กัน', 'เลย', ' ', 'ได้', 'โปรด', 'ถ้า', 'เธอ', 'ยัง', 'มา', 'สงสาร', 'กัน', '\\n', 'และ', 'ไม่ต้อง', 'ห่วง', 'ฉัน', ' ', 'ไม่ต้อง', 'ทน', 'มา', 'ปวด', 'หัวใจ', '\\n', 'ให้', 'เธอ', 'กลับ', 'ไป', ' ', 'จะ', 'ยอม', 'ทำใจ', 'คืน', 'เธอ', 'ให้', 'เขา', 'ไป', '\\n', 'ฝืน', 'ตัวเอง', 'ไม่', 'ไหว', ' ', 'ได้', 'แต่', 'ตัว', 'ไม่', 'ได้', 'หัวใจ', ' ', 'มัน', 'ก็', 'เท่านี้', '\\n', '\\n', 'อย่า', 'มา', 'ทน', 'กัน', 'เลย', ' ', 'ได้', 'โปรด', 'ถ้า', 'เธอ', 'ยัง', 'มา', 'สงสาร', 'กัน', '\\n', 'และ', 'ไม่ต้อง', 'ห่วง', 'ฉัน', ' ', 'ไม่ต้อง', 'ทน', 'มา', 'ปวด', 'หัวใจ', '\\n', 'ให้', 'เธอ', 'กลับ', 'ไป', ' ', 'จะ', 'ยอม', 'ทำใจ', 'คืน', 'เธอ', 'ให้', 'เขา', 'ไป', '\\n', 'ฝืน', 'ตัวเอง', 'ไม่', 'ไหว', ' ', 'ได้', 'แต่', 'ตัว', 'ไม่', 'ได้', 'หัวใจ', '\\n', '\\n', 'อย่า', 'มา', 'ทน', 'กัน', 'เลย', ' ', 'ได้', 'โปรด', 'ถ้า', 'เธอ', 'ยัง', 'มา', 'สงสาร', 'กัน', '\\n', 'และ', 'ไม่ต้อง', 'ห่วง', 'ฉัน', ' ', 'ไม่ต้อง', 'ทน', 'มา', 'ปวด', 'หัวใจ', '\\n', 'ให้', 'เธอ', 'กลับ', 'ไป', ' ', 'จะ', 'ยอม', 'ทำใจ', 'คืน', 'เธอ', 'ให้', 'เขา', 'ไป', '\\n', 'ฝืน', 'ตัวเอง', 'ไม่', 'ไหว', ' ', 'ได้', 'แต่', 'ตัว', 'ไม่', 'ได้', 'หัวใจ', '\\n', 'ถ้า', 'อยู่', 'กัน', 'แล้ว', 'ต้อง', 'มา', 'เสียใจ', ' ', 'มัน', 'ก็', 'เท่านี้']\n"
     ]
    }
   ],
   "source": [
    "tokenized_lyrics = df['lyrics'].map(word_tokenize)\n",
    "print(tokenized_lyrics[0])"
   ]
  },
  {
   "cell_type": "markdown",
   "metadata": {
    "id": "KEg_FFZcg2hn"
   },
   "source": [
    "### Convert from words to numbers"
   ]
  },
  {
   "cell_type": "code",
   "execution_count": null,
   "metadata": {
    "id": "laZhsugj40XF"
   },
   "outputs": [],
   "source": [
    "\n",
    "#[[song , number , one],[song , number , two]] -> [song , number , one , song , number , two]\n",
    "def flatten(ls):\n",
    "    \"\"\"\n",
    "    Flatten list of list\n",
    "    \"\"\"\n",
    "    return list(chain.from_iterable(ls))\n",
    "\n",
    "#[song , number ,one, number, two] -> [1,2,3,2,4] and [1,2,3] -> [song , number , one]\n",
    "def create_lookup_dict(tokenized_lyrics, n_min=None):\n",
    "    \"\"\"\n",
    "    Create lookup dictionary from list of words (lyrics)\n",
    "    \"\"\"\n",
    "    word_counts = Counter(tokenized_lyrics)\n",
    "    sorted_vocab = sorted(word_counts, key=word_counts.get, reverse=True)\n",
    "    if n_min is not None:\n",
    "        sorted_vocab = {k: v for k, v in word_counts.items() if v >= n_min}\n",
    "    vocab_to_int = {word: i for i, word in enumerate(sorted_vocab, 0)}\n",
    "    int_to_vocab = {i: word for word, i in vocab_to_int.items()}\n",
    "    return (vocab_to_int, int_to_vocab)"
   ]
  },
  {
   "cell_type": "code",
   "execution_count": null,
   "metadata": {
    "id": "A7h76Ddh5pxy"
   },
   "outputs": [],
   "source": [
    "tokenized_lyrics = flatten(tokenized_lyrics)\n",
    "#tokenized_lyrics = [token if token is not '\\n' else ' ' for token in tokenized_lyrics]\n",
    "word_counts = Counter(tokenized_lyrics)\n",
    "vocab_to_int, int_to_vocab = create_lookup_dict(tokenized_lyrics, n_min=None)"
   ]
  },
  {
   "cell_type": "code",
   "execution_count": null,
   "metadata": {
    "colab": {
     "base_uri": "https://localhost:8080/"
    },
    "id": "i49_sKArgkeQ",
    "outputId": "797e3eaf-410a-46a1-f774-6cc37bcc74db"
   },
   "outputs": [
    {
     "data": {
      "text/plain": [
       "31"
      ]
     },
     "execution_count": 6,
     "metadata": {},
     "output_type": "execute_result"
    }
   ],
   "source": [
    "vocab_to_int[\"ใคร\"]"
   ]
  },
  {
   "cell_type": "code",
   "execution_count": null,
   "metadata": {
    "colab": {
     "base_uri": "https://localhost:8080/"
    },
    "id": "Ji5YtYv2vqq4",
    "outputId": "f6593404-2e36-4ddd-fc21-338f8c85023e"
   },
   "outputs": [
    {
     "data": {
      "text/plain": [
       "25113"
      ]
     },
     "execution_count": 7,
     "metadata": {},
     "output_type": "execute_result"
    }
   ],
   "source": [
    "len(vocab_to_int)"
   ]
  },
  {
   "cell_type": "code",
   "execution_count": null,
   "metadata": {
    "colab": {
     "base_uri": "https://localhost:8080/",
     "height": 35
    },
    "id": "ZDeFF62ngkmN",
    "outputId": "87d14d9d-f1c6-46cb-c51f-cddb32a3250d"
   },
   "outputs": [
    {
     "data": {
      "application/vnd.google.colaboratory.intrinsic+json": {
       "type": "string"
      },
      "text/plain": [
       "'มัน'"
      ]
     },
     "execution_count": 8,
     "metadata": {},
     "output_type": "execute_result"
    }
   ],
   "source": [
    "int_to_vocab[12]"
   ]
  },
  {
   "cell_type": "markdown",
   "metadata": {
    "id": "TgUDR6WZgqCi"
   },
   "source": [
    "### Create Features (20 words in a song) and Target (the next word)"
   ]
  },
  {
   "cell_type": "code",
   "execution_count": null,
   "metadata": {
    "id": "TaH7s1JS6rXB"
   },
   "outputs": [],
   "source": [
    "sequence_length = 20\n",
    "\n",
    "tokenized_indices = [vocab_to_int.get(token, 0) for token in tokenized_lyrics]\n",
    "\n",
    "X, target = [], []\n",
    "for n in range(0, len(tokenized_indices) - sequence_length, 1):\n",
    "  x = tokenized_indices[n: n + sequence_length]\n",
    "  y = tokenized_indices[n + sequence_length]\n",
    "  X.append(np.array(x))\n",
    "  target.append(y)\n",
    "X = np.array(X)\n",
    "target = np.array(target)"
   ]
  },
  {
   "cell_type": "code",
   "execution_count": null,
   "metadata": {
    "colab": {
     "base_uri": "https://localhost:8080/"
    },
    "id": "UP_j2yBfgjEP",
    "outputId": "3c538137-cdc2-42c0-a275-243bd3efdae3"
   },
   "outputs": [
    {
     "data": {
      "text/plain": [
       "array([  3,  21,   7,   2, 214, 374,   0,   3,  21,   7,   2,  42,  22,\n",
       "       467,  44,   1, 193,   7,  14,  20])"
      ]
     },
     "execution_count": 10,
     "metadata": {},
     "output_type": "execute_result"
    }
   ],
   "source": [
    "X[0]"
   ]
  },
  {
   "cell_type": "code",
   "execution_count": null,
   "metadata": {
    "colab": {
     "base_uri": "https://localhost:8080/"
    },
    "id": "_Re-6oe-gjdB",
    "outputId": "6e17ae77-418f-4066-c7bf-f57491067e24"
   },
   "outputs": [
    {
     "data": {
      "text/plain": [
       "4"
      ]
     },
     "execution_count": 11,
     "metadata": {},
     "output_type": "execute_result"
    }
   ],
   "source": [
    "target[0]"
   ]
  },
  {
   "cell_type": "code",
   "execution_count": null,
   "metadata": {
    "id": "M42FcfW2LgiH"
   },
   "outputs": [],
   "source": [
    "class MyDataSet(torch.utils.data.Dataset):\n",
    "  def __init__(self, X, y):\n",
    "    super(MyDataSet, self).__init__()\n",
    "    self._X = X\n",
    "    self._y = y\n",
    "\n",
    "  def __len__(self):\n",
    "    return self._X.shape[0]\n",
    "\n",
    "  def __getitem__(self, index):\n",
    "    X = self._X[index]\n",
    "    y = self._y[index]\n",
    "    return X, y"
   ]
  },
  {
   "cell_type": "code",
   "execution_count": null,
   "metadata": {
    "id": "-9FTHz2eLqpW"
   },
   "outputs": [],
   "source": [
    "# Hyperparameters\n",
    "LEARNING_RATE = 0.001\n",
    "BATCH_SIZE = 128\n",
    "NUM_EPOCHS = 5\n",
    "\n",
    "# Classification\n",
    "NUM_CLASSES = len(vocab_to_int)\n",
    "\n",
    "dataset = MyDataSet(X, target)\n",
    "\n",
    "trainloader = DataLoader(dataset, batch_size=BATCH_SIZE, shuffle=True)"
   ]
  },
  {
   "cell_type": "markdown",
   "metadata": {
    "id": "CxaVQAwqUTwl"
   },
   "source": [
    "## New layers"
   ]
  },
  {
   "cell_type": "markdown",
   "metadata": {
    "id": "_4L6bwtBUZnw"
   },
   "source": [
    "## 1. `nn.Embedding(num_vocabs, hidden_dim)`\n",
    "\n",
    "[PyTorch Documentation](https://pytorch.org/docs/stable/generated/torch.nn.Embedding.html)\n",
    "\n",
    "![emb](https://miro.medium.com/max/720/1*NuWIU2Iew3Bm8NR78tRj8A.png)"
   ]
  },
  {
   "cell_type": "code",
   "execution_count": null,
   "metadata": {
    "colab": {
     "base_uri": "https://localhost:8080/"
    },
    "id": "6IxIMSJtUs3Y",
    "outputId": "f76b3e41-4024-41e3-c4b1-afd574ffa052"
   },
   "outputs": [
    {
     "name": "stdout",
     "output_type": "stream",
     "text": [
      "tensor([[[ 1.4911, -1.1910,  0.5032],\n",
      "         [-0.7358,  0.8724, -0.6914],\n",
      "         [ 0.4540,  0.0692,  0.3098],\n",
      "         [ 1.7536, -0.8865,  0.9026]],\n",
      "\n",
      "        [[ 0.4540,  0.0692,  0.3098],\n",
      "         [ 2.0970, -0.4025,  0.1752],\n",
      "         [-0.7358,  0.8724, -0.6914],\n",
      "         [ 0.1065,  2.2654, -0.8245]]], grad_fn=<EmbeddingBackward0>)\n"
     ]
    }
   ],
   "source": [
    "embedding = nn.Embedding(num_embeddings=10, embedding_dim=3)\n",
    "# a batch of 2 samples of 4 indices each\n",
    "input = torch.LongTensor([[1,2,4,5],[4,3,2,9]])\n",
    "output = embedding(input)\n",
    "print(output)"
   ]
  },
  {
   "cell_type": "markdown",
   "metadata": {
    "id": "pPuELnL_UnsX"
   },
   "source": [
    "## 2. LSTM\n",
    "[PyTorch Documentation](https://pytorch.org/docs/stable/generated/torch.nn.LSTM.html)"
   ]
  },
  {
   "cell_type": "markdown",
   "metadata": {
    "id": "fMDmCYN6Svkb"
   },
   "source": [
    "![lstm](https://i.stack.imgur.com/sBEBp.png)"
   ]
  },
  {
   "cell_type": "code",
   "execution_count": null,
   "metadata": {
    "colab": {
     "base_uri": "https://localhost:8080/"
    },
    "id": "HZivdouMU0F2",
    "outputId": "23b1ead9-fc6c-4d3e-8409-67d6ce65456b"
   },
   "outputs": [
    {
     "data": {
      "text/plain": [
       "torch.Size([5, 3, 20])"
      ]
     },
     "execution_count": 15,
     "metadata": {},
     "output_type": "execute_result"
    }
   ],
   "source": [
    "lstm = nn.LSTM(input_size=10, hidden_size=20, num_layers=2)\n",
    "input = torch.randn(5, 3, 10)\n",
    "h0 = torch.randn(2, 3, 20)  # initial hidden state\n",
    "c0 = torch.randn(2, 3, 20)  # initial cell state\n",
    "output, (h1, c1) = lstm(input, (h0, c0))\n",
    "\n",
    "output.shape"
   ]
  },
  {
   "cell_type": "markdown",
   "metadata": {
    "id": "UwDMjEUPdn6Z"
   },
   "source": [
    "### Exercise 1: fill in the code below"
   ]
  },
  {
   "cell_type": "code",
   "execution_count": null,
   "metadata": {
    "id": "UOXkBy9ENokC"
   },
   "outputs": [],
   "source": [
    "class Simple_LSTM(nn.Module):\n",
    "    def __init__(self):\n",
    "        super(Simple_LSTM, self).__init__()\n",
    "\n",
    "        # TODO: Fill in the layers' parameters. Suggested hidden dimensions: 64, 128, 256, 512\n",
    "        embedding_dim = 128\n",
    "        hidden_size = 256\n",
    "        num_layers = 2\n",
    "\n",
    "        self.embeddings = nn.Embedding(num_embeddings=NUM_CLASSES, embedding_dim=embedding_dim)\n",
    "        self.lstm = nn.LSTM(input_size=embedding_dim, hidden_size=hidden_size, dropout=0.2, num_layers=num_layers)\n",
    "        self.fc = nn.Linear(hidden_size, NUM_CLASSES)\n",
    "\n",
    "    def forward(self, x):\n",
    "        # for LSTM, input should be (Sequnce_length, batch_size, hidden_layer),\n",
    "        # so we need to transpose the input\n",
    "        x = x.t()\n",
    "        # Apply the Embedding layer\n",
    "        x = self.embeddings(x)\n",
    "        # Apply the LSTM layer (note: LSTM's output is a tuple!)\n",
    "        h, _ = self.lstm(x)\n",
    "        # Only need to keep the last element of the sequence\n",
    "        ht=h[-1]\n",
    "        out = self.fc(ht)\n",
    "        return out"
   ]
  },
  {
   "cell_type": "code",
   "execution_count": null,
   "metadata": {
    "id": "LpZ_4U85IqcB"
   },
   "outputs": [],
   "source": [
    "model = Simple_LSTM().to('cuda')\n",
    "loss_fn = nn.CrossEntropyLoss()\n",
    "optimizer = torch.optim.Adam(model.parameters(), lr=LEARNING_RATE)"
   ]
  },
  {
   "cell_type": "markdown",
   "metadata": {
    "id": "fPALHPWyeH_V"
   },
   "source": [
    "### Exercise 2: The `generate` functions is used to generate full text from user's starting words (`start_word`)\n",
    "\n",
    "### Complete the code in `TODO#1` and `TODO#2` in the `generate ` function below."
   ]
  },
  {
   "cell_type": "code",
   "execution_count": null,
   "metadata": {
    "id": "sLRparXRIrZ9"
   },
   "outputs": [],
   "source": [
    "def train_loop(dataloader, model, loss_fn, optimizer):\n",
    "    size = len(dataloader.dataset)\n",
    "    for batch, (X, y) in enumerate(dataloader):\n",
    "        # Compute prediction and loss\n",
    "        X = X.to('cuda')\n",
    "        y = y.to('cuda')\n",
    "        pred = model(X)\n",
    "        loss = loss_fn(pred, y)\n",
    "\n",
    "        # Backpropagation\n",
    "        optimizer.zero_grad()\n",
    "        loss.backward()\n",
    "        optimizer.step()\n",
    "\n",
    "        if batch % 1000 == 0:\n",
    "            loss, current = loss.item(), batch * len(X)\n",
    "            print(f\"loss: {loss:>7f}  [{current:>5d}/{size:>5d}]\")\n",
    "\n",
    "@torch.no_grad()\n",
    "def generate(model, start_word, int_to_vocab, vocab_to_int, predict_len=100):\n",
    "\n",
    "    words = word_tokenize(start_word)\n",
    "    start_word_ids = []\n",
    "\n",
    "    predicted = words  # we will append new words to this list\n",
    "\n",
    "    pad_value = vocab_to_int[\" \"]\n",
    "    word_ids = [vocab_to_int.get(word, pad_value) for word in words]\n",
    "\n",
    "    # Pad with zeros Ex: [28,15,16] -> [0,0,0,0,0,0,0,0,0,0,0,0,0,0,0,28,15,16]\n",
    "    current_seq = [np.pad(word_ids, (20 - len(word_ids), pad_value), 'constant')]\n",
    "\n",
    "    for _ in range(predict_len):\n",
    "        # transform the array of words into a tensor\n",
    "        current_seq = torch.LongTensor(np.array(current_seq)).to('cuda')\n",
    "        ############### TODO#1: Fill in the following steps##############\n",
    "        # 1. With the trained model, use current_seq as input and obtain the output\n",
    "        # 2. Apply the Softmax function (nn.Softmax) to turn the output from step 1 into a vector of probabilities.\n",
    "        #    nn.Softmax Documentation: https://pytorch.org/docs/stable/generated/torch.nn.Softmax.html\n",
    "        # 3. Make sure that the output has shape (NUM_CLASSES,). Name the output p.\n",
    "        output = model(current_seq)\n",
    "        softmax = nn.Softmax(dim=1)\n",
    "        p = softmax(output)\n",
    "\n",
    "\n",
    "\n",
    "        ############################end#################################\n",
    "\n",
    "        # top-k sampling\n",
    "        topk_probs, topk_indices = torch.topk(p, k=100)\n",
    "        kth_prob = topk_probs[0][-1]\n",
    "\n",
    "        # Filter out probabilities below the threshold\n",
    "        p = p * (p >= kth_prob).float()\n",
    "\n",
    "        # Normalize the filtered probabilities\n",
    "        p /= p.sum()\n",
    "        p = p.cpu().detach().numpy()\n",
    "\n",
    "        # Sample from probability distribution p\n",
    "        # word_i is an integer representing a word.\n",
    "        word_i = np.random.choice(np.arange(0, p.shape[1]), p=p[0])\n",
    "\n",
    "        ############### TODO#2: Fill in the following code ##############\n",
    "        # 1. Convert from word_i (int) --> word (str)\n",
    "        # 2. Append the word from 1. into the `predicted` list defined above.\n",
    "\n",
    "        predicted_word = int_to_vocab[word_i]\n",
    "        predicted.append(predicted_word)\n",
    "\n",
    "        ############################ end #################################\n",
    "\n",
    "        # the generated word becomes the next \"current sequence\" and the cycle can continue\n",
    "        current_seq = current_seq.cpu().detach().numpy()\n",
    "        current_seq = np.roll(current_seq, -1, axis=1)\n",
    "        current_seq[-1][-1] = word_i\n",
    "\n",
    "    gen_sentences = ' '.join(predicted)\n",
    "    return gen_sentences"
   ]
  },
  {
   "cell_type": "markdown",
   "metadata": {
    "id": "I-9hflaPec0j"
   },
   "source": [
    "### Exercise 3: use `generate` function to generate three more songs. You may try using different starting words."
   ]
  },
  {
   "cell_type": "code",
   "execution_count": null,
   "metadata": {
    "colab": {
     "base_uri": "https://localhost:8080/"
    },
    "id": "GInZpHdqI8p2",
    "outputId": "08513d41-099f-40c3-e429-72624c5d60dd"
   },
   "outputs": [
    {
     "name": "stdout",
     "output_type": "stream",
     "text": [
      "Epoch 1\n",
      "-------------------------------\n",
      "loss: 4.372168  [    0/1992033]\n",
      "loss: 4.503863  [128000/1992033]\n",
      "loss: 4.627172  [256000/1992033]\n",
      "loss: 4.317053  [384000/1992033]\n",
      "loss: 4.713269  [512000/1992033]\n",
      "loss: 4.885366  [640000/1992033]\n",
      "loss: 4.404613  [768000/1992033]\n",
      "loss: 4.848622  [896000/1992033]\n",
      "loss: 4.037385  [1024000/1992033]\n",
      "loss: 4.406329  [1152000/1992033]\n",
      "loss: 4.456506  [1280000/1992033]\n",
      "loss: 4.105869  [1408000/1992033]\n",
      "loss: 3.721589  [1536000/1992033]\n",
      "loss: 4.050063  [1664000/1992033]\n",
      "loss: 4.145799  [1792000/1992033]\n",
      "loss: 4.175897  [1920000/1992033]\n",
      "วันที่ ฉัน เดิน อยู่ คนเดียว ของ เธอ อยู่ เสมอ \n",
      " อยาก มี ใจ ฉัน ที่ รอ   คนเดียว ที่ ฉัน ต้องการ ให้ เธอ มัน ลืม ดี นะ \n",
      " แม้ มัน ก็ ทำ มา ทำให้ รัก ที่ เธอ นั้น \n",
      " \n",
      " รู้ ไหม ว่า ฉัน คิดถึง   คิดถึง เธอ อยู่ ใน ใจ \n",
      " วันนี้ ฉัน ต้อง เสียใจ เมื่อ เธอ เหงา เธอ ก็ ไม่เป็นไร \n",
      " รู้ เธอ อยู่ ที่ไหน   คง เป็นไปไม่ได้ \n",
      " ใจ คน นี้ นั้น กลายเป็น ของ ฉัน ที่ เธอ ยังอยู่ \n",
      " \n",
      " ต้อง ลอง มอง ตา มากมาย \n",
      " จาก เมื่อวาน ก็ ให้ รู้ ว่า ฉัน น่ะ เป็น ยังไง \n",
      " แค่ ฉัน อยาก ถาม ไม่\n",
      "Epoch 2\n",
      "-------------------------------\n",
      "loss: 4.667954  [    0/1992033]\n",
      "loss: 4.070722  [128000/1992033]\n",
      "loss: 4.208934  [256000/1992033]\n",
      "loss: 4.336846  [384000/1992033]\n",
      "loss: 3.997788  [512000/1992033]\n",
      "loss: 3.795481  [640000/1992033]\n",
      "loss: 4.394521  [768000/1992033]\n",
      "loss: 4.338527  [896000/1992033]\n",
      "loss: 4.340016  [1024000/1992033]\n",
      "loss: 3.765660  [1152000/1992033]\n",
      "loss: 4.373892  [1280000/1992033]\n",
      "loss: 3.511330  [1408000/1992033]\n",
      "loss: 3.812888  [1536000/1992033]\n",
      "loss: 3.893558  [1664000/1992033]\n",
      "loss: 3.687568  [1792000/1992033]\n",
      "loss: 3.684173  [1920000/1992033]\n",
      "วันที่ ฉัน เดิน อยู่ คนเดียว เธอ คือ คน ที่ ฉัน ได้ เจอ \n",
      " อยาก จะ รู้ ว่า เธอ นั้น คิด อะไร \n",
      " ฉัน ไม่ ได้ พูดเล่น ใด \n",
      " \n",
      " ฉัน ก็ คิด ว่า เธอ ไม่ สนใจ \n",
      " เธอ ก็ แค่ บอก   ฉัน ไม่ เข้าใจ \n",
      " ฉัน กลัว ว่า เธอ จะ มีใจ \n",
      " ก็ แค่ อยาก กอด ให้ ถึง ตอนนั้น \n",
      " \n",
      " แค่ เพื่อน กัน ได้ ไหม \n",
      " ว่า เธอ ยังอยู่ ไหน   ก็ เพิ่ง อยู่ อีก ไห ร \n",
      " ถ้าหากว่า ไม่ มี ใคร   คือ เธอ ต้อง คุย กับ ใจ \n",
      " \n",
      " ทำ แบบนี้ ไป ก็ ทำ อีก \n",
      " เจ็บ หลาย เลย ทำ ยังไง\n",
      "Epoch 3\n",
      "-------------------------------\n",
      "loss: 4.236254  [    0/1992033]\n",
      "loss: 3.884951  [128000/1992033]\n",
      "loss: 3.798018  [256000/1992033]\n",
      "loss: 3.837825  [384000/1992033]\n",
      "loss: 4.067259  [512000/1992033]\n",
      "loss: 3.426327  [640000/1992033]\n",
      "loss: 3.758451  [768000/1992033]\n",
      "loss: 3.724307  [896000/1992033]\n",
      "loss: 3.796083  [1024000/1992033]\n",
      "loss: 3.865357  [1152000/1992033]\n",
      "loss: 3.965358  [1280000/1992033]\n",
      "loss: 4.135574  [1408000/1992033]\n",
      "loss: 4.343845  [1536000/1992033]\n",
      "loss: 3.909415  [1664000/1992033]\n",
      "loss: 3.887110  [1792000/1992033]\n",
      "loss: 3.701603  [1920000/1992033]\n",
      "วันที่ ฉัน เดิน อยู่ คนเดียว แม้ ชีวิต มัน จะ ผ่าน มา \n",
      " ยัง คิดถึง เธอ \n",
      " \n",
      " หาก เธอ เลือก ใคร เข้ามา ทิ้ง ไป \n",
      " ภาพ ทุก บาดแผล   ที่ วาด ไว้ \n",
      " วันนี้ \n",
      " เจ็บ จน ใจ ท้อ \n",
      " เจ็บ ทุกครั้ง ให้ เสียน้ำตา \n",
      " แต่ สุดท้าย สุดท้าย ก็ ลืม ได้ หมด แล้ว พูด อย่างไร \n",
      " อย่า ลืม ว่า เธอ นั้น ให้ ลอง ทัก มา รัก กัน \n",
      " รัก กัน จน นาที ที่ ช้ำ กับ เธอ   แต่ วันนี้ เธอ ยัง เคย เห็น \n",
      " ก็ ยังคง จด   ใน ทุก ช่วงเวลา ยัง ห่วงใย   ฉัน ยัง มีความหวัง \n",
      " \n",
      " แม้   ให้ ผ่าน เวลา ไกล\n",
      "Epoch 4\n",
      "-------------------------------\n",
      "loss: 3.506268  [    0/1992033]\n",
      "loss: 3.864535  [128000/1992033]\n",
      "loss: 3.790259  [256000/1992033]\n",
      "loss: 3.794526  [384000/1992033]\n",
      "loss: 3.669873  [512000/1992033]\n",
      "loss: 3.484344  [640000/1992033]\n",
      "loss: 3.684358  [768000/1992033]\n",
      "loss: 3.589207  [896000/1992033]\n",
      "loss: 3.772284  [1024000/1992033]\n",
      "loss: 3.417337  [1152000/1992033]\n",
      "loss: 3.765986  [1280000/1992033]\n",
      "loss: 3.594352  [1408000/1992033]\n",
      "loss: 3.775425  [1536000/1992033]\n",
      "loss: 3.698828  [1664000/1992033]\n",
      "loss: 3.622583  [1792000/1992033]\n",
      "loss: 3.978443  [1920000/1992033]\n",
      "วันที่ ฉัน เดิน อยู่ คนเดียว กับ ความเสียใจ ก็ เจอ ใจ เธอ หรือเปล่า \n",
      " จน ละเอียด จะ รู้สึก ให้ ใคร ได้ พบ เจอ \n",
      " \n",
      " เธอ คิด อะไร กับ ฉัน \n",
      " และ ฉันนั้น เป็น มาร บน นั้น You   มอง ที่ ตา ฉัน เธอ พูด รึเปล่า \n",
      " ใน ชีวิตจริง ฉัน อยู่ ด้วย เธอ เหลือเกิน \n",
      " หาก เรื่อง นี้ มัน ได้ แต่ ไม่ รู้ จะ เป็น อย่างไร \n",
      " \n",
      " แค่   Only   you   โอ้   วัน จะ เป็น ของ เธอ บางเวลา ไม่ เคย รู้ \n",
      " ถึง เกิด ไม่ มี ใคร อย่า ให้ เขา มา   ได้ ไหม \n",
      " ให้ เวลา แล้ว ยังไง   โบกมือ สักที\n",
      "Epoch 5\n",
      "-------------------------------\n",
      "loss: 3.599089  [    0/1992033]\n",
      "loss: 3.051747  [128000/1992033]\n",
      "loss: 3.104381  [256000/1992033]\n",
      "loss: 3.473011  [384000/1992033]\n",
      "loss: 3.723837  [512000/1992033]\n",
      "loss: 3.711597  [640000/1992033]\n",
      "loss: 3.609159  [768000/1992033]\n",
      "loss: 3.603044  [896000/1992033]\n",
      "loss: 3.976716  [1024000/1992033]\n",
      "loss: 3.460350  [1152000/1992033]\n",
      "loss: 3.541061  [1280000/1992033]\n",
      "loss: 3.848372  [1408000/1992033]\n",
      "loss: 3.221578  [1536000/1992033]\n",
      "loss: 3.825936  [1664000/1992033]\n",
      "loss: 3.518023  [1792000/1992033]\n",
      "loss: 3.786206  [1920000/1992033]\n",
      "วันที่ ฉัน เดิน อยู่ คนเดียว มอง ไป ทาง ไหน ก็ พร้อม ไป ฝัน \n",
      " และ เธอ ต้อง มา นั่ง ร้องไห้ ตลอด \n",
      " \n",
      " ก็ แบบ ว่า งานเลี้ยง เรา จะ ได้ เจอ \n",
      " ช่วย บอก ได้ ไหม เผื่อ เขา มี แฟน ที่ไหน \n",
      " ถ้า ไม่ ใช่ เธอ   ไม่ต้อง ผิดหวัง \n",
      " เธอ ทำให้ ดี   ไหนล่ะ ฉัน เลย ดี ดี \n",
      " Oh   boy   when   you ' re   care \n",
      " ก็ ขอให้ เธอ นั้น โอเค   No   never   about   my \n",
      " \n",
      " I   wanna   move   again   with   you   all   our   love  \n",
      "Done!\n"
     ]
    }
   ],
   "source": [
    "for t in range(NUM_EPOCHS):\n",
    "    print(f\"Epoch {t+1}\\n-------------------------------\")\n",
    "    train_loop(trainloader, model, loss_fn, optimizer)\n",
    "    print(generate(model, 'วันที่ฉันเดินอยู่คนเดียว', int_to_vocab, vocab_to_int, predict_len=100))\n",
    "print(\"Done!\")"
   ]
  },
  {
   "cell_type": "markdown",
   "metadata": {
    "id": "GmwrYv8MImyY"
   },
   "source": [
    "# Extra: Web scraping with Beautiful soup"
   ]
  },
  {
   "cell_type": "code",
   "execution_count": null,
   "metadata": {
    "id": "Stitl9W-IpXf"
   },
   "outputs": [],
   "source": [
    "from itertools import chain\n",
    "from collections import Counter\n",
    "import requests\n",
    "from bs4 import BeautifulSoup\n",
    "\n",
    "\n",
    "\n",
    "def scrape_siamzone_url(d):\n",
    "    \"\"\"\n",
    "    Script to scrape Siamzone lyrics from a given song_id (integer)\n",
    "    \"\"\"\n",
    "    soup = BeautifulSoup(requests.get('https://www.siamzone.com/music/thailyric/{}'.format(d)).content, 'html.parser')\n",
    "    song_title, artist_name = soup.find('title').text.split('|')\n",
    "    song_title, artist_name = song_title.replace(\"เนื้อเพลง \", \"\").strip(), artist_name.strip()\n",
    "    try:\n",
    "        n_views = ' '.join(soup.find('div', attrs={'class': 'has-text-info'}).text.strip().split())\n",
    "    except:\n",
    "        n_views = ''\n",
    "    try:\n",
    "        full_lyrics = soup.find_all('div', attrs={'class': 'column is-6-desktop'})[1]\n",
    "        lyrics = full_lyrics.find(\"div\", attrs={'style': \"margin-bottom: 1rem;\"}).text.strip()\n",
    "    except:\n",
    "        lyrics = \"\"\n",
    "    return {\n",
    "        'url': 'https://www.siamzone.com/music/thailyric/%d' % d,\n",
    "        'soup': soup,\n",
    "        'song_title': song_title,\n",
    "        'artist_name': artist_name,\n",
    "        'n_views': n_views,\n",
    "        'lyrics': lyrics\n",
    "    }\n",
    "\n",
    "def clean_lyrics(lyric):\n",
    "    \"\"\"\n",
    "    Clean lines that do not contain lyrics\n",
    "    \"\"\"\n",
    "    lines = lyric.split('\\n')\n",
    "    lyrics_clean = []\n",
    "    for line in lines:\n",
    "        # remove headers from the file\n",
    "        headers = [\n",
    "            'เพลง ', 'คำร้อง ', 'คำร้อง/ทำนอง ', 'ศิลปิน ', 'ทำนอง ',\n",
    "            'เรียบเรียง ', 'เพลงประกอบละคร ', 'อัลบัม ', 'ร่วมร้องโดย ',\n",
    "            'เนื้อร้อง/ทำนอง', 'ทำนอง/เรียบเรียง ', 'เพลงประกอบภาพยนตร์ ',\n",
    "            'เพลงประกอบละครซิทคอม ', 'คำร้อง/ทำนอง/เรียบเรียง ',\n",
    "            'คำร้อง/เรียบเรียง ', 'เพลงประกอบ ', 'ร้องโดย ',\n",
    "            'ทำนอง / เรียบเรียง :', ' สังกัด'\n",
    "        ]\n",
    "        if any(line.startswith(s) for s in headers):\n",
    "            pass\n",
    "        else:\n",
    "            line = ' '.join(line.replace('(', ' ').replace(')', ' ').replace('-', ' ').split())\n",
    "            lyrics_clean.append(line)\n",
    "    return '\\n'.join(lyrics_clean).strip()\n",
    "\n",
    "def scrape_siamzone():\n",
    "    data = []\n",
    "    for i in range(23649, 28649):\n",
    "        try:\n",
    "            data.append(scrape_siamzone_url(i))\n",
    "        except:\n",
    "            pass\n",
    "        if i % 100 == 0:\n",
    "            print(i)\n",
    "\n",
    "    df = pd.DataFrame(data)\n",
    "    df['lyrics'] = df['lyrics'].map(clean_lyrics)\n",
    "    return df"
   ]
  }
 ],
 "metadata": {
  "accelerator": "GPU",
  "colab": {
   "provenance": []
  },
  "kernelspec": {
   "display_name": "Python 3 (ipykernel)",
   "language": "python",
   "name": "python3"
  },
  "language_info": {
   "codemirror_mode": {
    "name": "ipython",
    "version": 3
   },
   "file_extension": ".py",
   "mimetype": "text/x-python",
   "name": "python",
   "nbconvert_exporter": "python",
   "pygments_lexer": "ipython3",
   "version": "3.10.12"
  }
 },
 "nbformat": 4,
 "nbformat_minor": 4
}
