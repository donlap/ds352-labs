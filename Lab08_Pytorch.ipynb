{
  "nbformat": 4,
  "nbformat_minor": 0,
  "metadata": {
    "colab": {
      "provenance": []
    },
    "kernelspec": {
      "name": "python3",
      "display_name": "Python 3"
    },
    "language_info": {
      "name": "python"
    },
    "gpuClass": "standard",
    "accelerator": "GPU"
  },
  "cells": [
    {
      "cell_type": "markdown",
      "source": [
        "### There are currently three popular  deep learning frameworks.\n",
        "\n",
        "<img src=\"https://upload.wikimedia.org/wikipedia/commons/thumb/c/c6/PyTorch_logo_black.svg/2560px-PyTorch_logo_black.svg.png\" width=\"500\"/>\n",
        "<img src=\"https://upload.wikimedia.org/wikipedia/commons/2/2d/Tensorflow_logo.svg\" width=\"200\"/>\n",
        "<img src=\"https://assets-global.website-files.com/621e749a546b7592125f38ed/62277da165ed192adba475fc_JAX.jpg\" width=\"500\"/>\n",
        "\n",
        "In this class, we will use PyTorch"
      ],
      "metadata": {
        "id": "G-nQb7jGS3PJ"
      }
    },
    {
      "cell_type": "code",
      "execution_count": null,
      "metadata": {
        "id": "MzJSrt8CSv4p"
      },
      "outputs": [],
      "source": [
        "import numpy as np\n",
        "\n",
        "import torch"
      ]
    },
    {
      "cell_type": "markdown",
      "source": [
        "# Tensor basics"
      ],
      "metadata": {
        "id": "QEsXce8XuwIW"
      }
    },
    {
      "cell_type": "markdown",
      "source": [
        "## Basic tensor creation"
      ],
      "metadata": {
        "id": "qr1d7mpfrQ-W"
      }
    },
    {
      "cell_type": "markdown",
      "source": [
        "### Creating a scalar (1D) tensor"
      ],
      "metadata": {
        "id": "zoo78UqZZBmo"
      }
    },
    {
      "cell_type": "code",
      "source": [
        "a = torch.tensor(8)\n",
        "b = torch.tensor(9)\n",
        "print(a)\n",
        "print(b)\n",
        "print(a+b)"
      ],
      "metadata": {
        "id": "8QkirMVZUpfe",
        "colab": {
          "base_uri": "https://localhost:8080/"
        },
        "outputId": "b62f767b-1698-4916-e3b2-93d377f6ad03"
      },
      "execution_count": null,
      "outputs": [
        {
          "output_type": "stream",
          "name": "stdout",
          "text": [
            "tensor(8)\n",
            "tensor(9)\n",
            "tensor(17)\n"
          ]
        }
      ]
    },
    {
      "cell_type": "markdown",
      "source": [
        "### Convert a tensor to scalar"
      ],
      "metadata": {
        "id": "Y2D_T5PPZI4L"
      }
    },
    {
      "cell_type": "code",
      "source": [
        "a.item()"
      ],
      "metadata": {
        "id": "BSkS98iYXVZI",
        "colab": {
          "base_uri": "https://localhost:8080/"
        },
        "outputId": "7ad5e700-e18f-4ca9-f874-c059c79842c3"
      },
      "execution_count": null,
      "outputs": [
        {
          "output_type": "execute_result",
          "data": {
            "text/plain": [
              "8"
            ]
          },
          "metadata": {},
          "execution_count": 5
        }
      ]
    },
    {
      "cell_type": "markdown",
      "source": [
        "### Creating 2D tensor"
      ],
      "metadata": {
        "id": "wLUTVuu8ZPCV"
      }
    },
    {
      "cell_type": "code",
      "source": [
        "A = torch.tensor([[1, 2], [3, 4]])\n",
        "print(A)"
      ],
      "metadata": {
        "id": "ST-ZldGXX9SY",
        "colab": {
          "base_uri": "https://localhost:8080/"
        },
        "outputId": "d05ddf98-fb65-4f93-e136-a371b2cf85a2"
      },
      "execution_count": null,
      "outputs": [
        {
          "output_type": "stream",
          "name": "stdout",
          "text": [
            "tensor([[1, 2],\n",
            "        [3, 4]])\n"
          ]
        }
      ]
    },
    {
      "cell_type": "markdown",
      "source": [
        "## Tensor and Numpy"
      ],
      "metadata": {
        "id": "RL1rmhg8rVgY"
      }
    },
    {
      "cell_type": "markdown",
      "source": [
        "### Convert from tensor to numpy array"
      ],
      "metadata": {
        "id": "1LSTMBVNZjAu"
      }
    },
    {
      "cell_type": "code",
      "source": [
        "A.numpy()"
      ],
      "metadata": {
        "id": "I4LkkrQdYbLq",
        "colab": {
          "base_uri": "https://localhost:8080/"
        },
        "outputId": "78ce1d6d-033f-4e71-d11d-2e855bc236a5"
      },
      "execution_count": null,
      "outputs": [
        {
          "output_type": "execute_result",
          "data": {
            "text/plain": [
              "array([[1, 2],\n",
              "       [3, 4]])"
            ]
          },
          "metadata": {},
          "execution_count": 7
        }
      ]
    },
    {
      "cell_type": "markdown",
      "source": [
        "### Convert from numpy array to tensor"
      ],
      "metadata": {
        "id": "xcFexnBYZn73"
      }
    },
    {
      "cell_type": "code",
      "source": [
        "B = np.array([[1, 2], [3, 4]])\n",
        "\n",
        "C = torch.from_numpy(B)\n",
        "print(C)"
      ],
      "metadata": {
        "id": "lDRLWyGkZmjM",
        "colab": {
          "base_uri": "https://localhost:8080/"
        },
        "outputId": "9a05dc2a-233f-4370-e696-e7e8a4572fe3"
      },
      "execution_count": null,
      "outputs": [
        {
          "output_type": "stream",
          "name": "stdout",
          "text": [
            "tensor([[1, 2],\n",
            "        [3, 4]])\n"
          ]
        }
      ]
    },
    {
      "cell_type": "markdown",
      "source": [
        "## Basic operations"
      ],
      "metadata": {
        "id": "5bLYQUdDb47c"
      }
    },
    {
      "cell_type": "code",
      "source": [
        "D = 2*C\n",
        "\n",
        "E = C - 10\n",
        "\n",
        "print(D)\n",
        "print(E)"
      ],
      "metadata": {
        "id": "O1ZL-UgraQZG",
        "colab": {
          "base_uri": "https://localhost:8080/"
        },
        "outputId": "d8f9c825-a4d2-49da-ca9b-dcdc8ef5d42d"
      },
      "execution_count": null,
      "outputs": [
        {
          "output_type": "stream",
          "name": "stdout",
          "text": [
            "tensor([[2, 4],\n",
            "        [6, 8]])\n",
            "tensor([[-9, -8],\n",
            "        [-7, -6]])\n"
          ]
        }
      ]
    },
    {
      "cell_type": "markdown",
      "source": [
        "### Matrix multiplication"
      ],
      "metadata": {
        "id": "K_k3thRzrdpd"
      }
    },
    {
      "cell_type": "code",
      "source": [
        "print(torch.matmul(D, E))\n",
        "print(torch.mm(D, E))\n",
        "print(D @ E)"
      ],
      "metadata": {
        "id": "d1XwpoNaakY2",
        "colab": {
          "base_uri": "https://localhost:8080/"
        },
        "outputId": "3b36bdd9-f953-47a3-ebf5-62baae08d944"
      },
      "execution_count": null,
      "outputs": [
        {
          "output_type": "stream",
          "name": "stdout",
          "text": [
            "tensor([[ -46,  -40],\n",
            "        [-110,  -96]])\n",
            "tensor([[ -46,  -40],\n",
            "        [-110,  -96]])\n",
            "tensor([[ -46,  -40],\n",
            "        [-110,  -96]])\n"
          ]
        }
      ]
    },
    {
      "cell_type": "markdown",
      "source": [
        "### Matrix transpose"
      ],
      "metadata": {
        "id": "TwJki4afrf0m"
      }
    },
    {
      "cell_type": "code",
      "source": [
        "print(C)\n",
        "print( C.t() )"
      ],
      "metadata": {
        "id": "IumkARr4g3Nv",
        "colab": {
          "base_uri": "https://localhost:8080/"
        },
        "outputId": "e35cbd50-beb7-47f2-affe-9db216713a79"
      },
      "execution_count": null,
      "outputs": [
        {
          "output_type": "stream",
          "name": "stdout",
          "text": [
            "tensor([[1, 2],\n",
            "        [3, 4]])\n",
            "tensor([[1, 3],\n",
            "        [2, 4]])\n"
          ]
        }
      ]
    },
    {
      "cell_type": "markdown",
      "source": [
        "## Creating a specific type of tensor"
      ],
      "metadata": {
        "id": "AuwWEOBYcbiL"
      }
    },
    {
      "cell_type": "code",
      "source": [
        "# print(torch.zeros(2,3))\n",
        "# print(torch.ones(2,3))\n",
        "# print(torch.rand(2,3))\n",
        "# print(torch.randn(2,3))  # sample each number from N(0, 1)\n",
        "# print(torch.arange(9))"
      ],
      "metadata": {
        "id": "Vg757DJLaoqh"
      },
      "execution_count": null,
      "outputs": []
    },
    {
      "cell_type": "markdown",
      "source": [
        "## Tensor's shape"
      ],
      "metadata": {
        "id": "aUeodCiLrofw"
      }
    },
    {
      "cell_type": "markdown",
      "source": [
        "### Checking the shape of a tensor"
      ],
      "metadata": {
        "id": "qJTX5WOHhVsB"
      }
    },
    {
      "cell_type": "code",
      "source": [
        "F = torch.zeros((4, 5))\n",
        "print(F.shape)\n",
        "print(F.size())"
      ],
      "metadata": {
        "id": "Nzn5Lyqfhcmf",
        "colab": {
          "base_uri": "https://localhost:8080/"
        },
        "outputId": "6cb982a7-eceb-402d-e01a-55720c809fe2"
      },
      "execution_count": null,
      "outputs": [
        {
          "output_type": "stream",
          "name": "stdout",
          "text": [
            "torch.Size([4, 5])\n",
            "torch.Size([4, 5])\n"
          ]
        }
      ]
    },
    {
      "cell_type": "markdown",
      "source": [
        "### Changing the shape of a tensor"
      ],
      "metadata": {
        "id": "Vf21H-EvgE87"
      }
    },
    {
      "cell_type": "code",
      "source": [
        "G = torch.arange(6)\n",
        "print(G.view(2, 3))\n",
        "print(G.reshape(2, 3))"
      ],
      "metadata": {
        "id": "o71IJ7_ic1U8",
        "colab": {
          "base_uri": "https://localhost:8080/"
        },
        "outputId": "75c1a4e5-f981-43fb-dbf6-3b99442a2efc"
      },
      "execution_count": null,
      "outputs": [
        {
          "output_type": "stream",
          "name": "stdout",
          "text": [
            "tensor([[0, 1, 2],\n",
            "        [3, 4, 5]])\n",
            "tensor([[0, 1, 2],\n",
            "        [3, 4, 5]])\n"
          ]
        }
      ]
    },
    {
      "cell_type": "markdown",
      "source": [
        "In general, use `reshape`, but if you are worried about the memory usage, use `view`."
      ],
      "metadata": {
        "id": "7nZgFYT5gd2_"
      }
    },
    {
      "cell_type": "markdown",
      "source": [
        "### Stacking and concatenating tensors"
      ],
      "metadata": {
        "id": "uEA3iRzznjNx"
      }
    },
    {
      "cell_type": "code",
      "source": [
        "H = torch.arange(6)\n",
        "I = torch.stack([H, H, H, H], axis=0)\n",
        "J = torch.stack([H, H, H, H], axis=1)\n",
        "print(I)\n",
        "print(J)"
      ],
      "metadata": {
        "id": "MQ6JEjsmgbpI",
        "colab": {
          "base_uri": "https://localhost:8080/"
        },
        "outputId": "e77d24b5-dccd-49a9-c93f-f608a7b36370"
      },
      "execution_count": null,
      "outputs": [
        {
          "output_type": "stream",
          "name": "stdout",
          "text": [
            "tensor([[0, 1, 2, 3, 4, 5],\n",
            "        [0, 1, 2, 3, 4, 5],\n",
            "        [0, 1, 2, 3, 4, 5],\n",
            "        [0, 1, 2, 3, 4, 5]])\n",
            "tensor([[0, 0, 0, 0],\n",
            "        [1, 1, 1, 1],\n",
            "        [2, 2, 2, 2],\n",
            "        [3, 3, 3, 3],\n",
            "        [4, 4, 4, 4],\n",
            "        [5, 5, 5, 5]])\n"
          ]
        }
      ]
    },
    {
      "cell_type": "code",
      "source": [
        "# concatenate\n",
        "\n",
        "I = torch.cat([H, H, H, H], axis=0)\n",
        "print(I)\n",
        "# J = torch.cat([H, H, H, H], axis=1)\n",
        "#print(J)"
      ],
      "metadata": {
        "id": "Zkz--DJuXyD1",
        "colab": {
          "base_uri": "https://localhost:8080/"
        },
        "outputId": "460d6f4a-533f-4bd3-c51c-263a7c9f3b23"
      },
      "execution_count": null,
      "outputs": [
        {
          "output_type": "stream",
          "name": "stdout",
          "text": [
            "tensor([0, 1, 2, 3, 4, 5, 0, 1, 2, 3, 4, 5, 0, 1, 2, 3, 4, 5, 0, 1, 2, 3, 4, 5])\n"
          ]
        }
      ]
    },
    {
      "cell_type": "markdown",
      "source": [
        "### Squeezing a tensor (removing an extra dimension)"
      ],
      "metadata": {
        "id": "eWd_-Ub_pF3b"
      }
    },
    {
      "cell_type": "code",
      "source": [
        "# [[1,2]] this is (1,2) tensor, want (2,)\n",
        "print(\"H=\", H) # shape = (6,)\n",
        "K = H.reshape(1,6)\n",
        "print(\"K=\", K)\n",
        "print(K.shape)"
      ],
      "metadata": {
        "id": "gf8iDb_PoX_4",
        "colab": {
          "base_uri": "https://localhost:8080/"
        },
        "outputId": "4a487bdb-2428-4276-820a-935c0883311a"
      },
      "execution_count": null,
      "outputs": [
        {
          "output_type": "stream",
          "name": "stdout",
          "text": [
            "H= tensor([0, 1, 2, 3, 4, 5])\n",
            "K= tensor([[0, 1, 2, 3, 4, 5]])\n",
            "torch.Size([1, 6])\n"
          ]
        }
      ]
    },
    {
      "cell_type": "code",
      "source": [
        "print(K.squeeze())"
      ],
      "metadata": {
        "id": "Ke3ro96Cp7rT",
        "colab": {
          "base_uri": "https://localhost:8080/"
        },
        "outputId": "6871440f-d6e0-48ba-8bed-91db1f1539cb"
      },
      "execution_count": null,
      "outputs": [
        {
          "output_type": "stream",
          "name": "stdout",
          "text": [
            "tensor([0, 1, 2, 3, 4, 5])\n"
          ]
        }
      ]
    },
    {
      "cell_type": "code",
      "source": [
        "# H.shape = (6, )\n",
        "L = H.unsqueeze(axis=0)  # L.shape(1, 6)\n",
        "M = H.unsqueeze(axis=1)  # L.shape(6, 1)\n",
        "print(L)\n",
        "print(M)"
      ],
      "metadata": {
        "id": "DJxWfoyOqaQs",
        "colab": {
          "base_uri": "https://localhost:8080/"
        },
        "outputId": "4ba473a6-8996-49fa-c4f1-d3e53ab29748"
      },
      "execution_count": null,
      "outputs": [
        {
          "output_type": "stream",
          "name": "stdout",
          "text": [
            "tensor([[0, 1, 2, 3, 4, 5]])\n",
            "tensor([[0],\n",
            "        [1],\n",
            "        [2],\n",
            "        [3],\n",
            "        [4],\n",
            "        [5]])\n"
          ]
        }
      ]
    },
    {
      "cell_type": "markdown",
      "source": [
        "## Indexing"
      ],
      "metadata": {
        "id": "bfaM--ZlsUsB"
      }
    },
    {
      "cell_type": "code",
      "source": [
        "P = torch.arange(12).reshape(3,4)\n",
        "print(P)\n",
        "print(P[0])\n",
        "print(P[:, 0])\n",
        "print(P[-1])\n",
        "print(P[:, -1])\n",
        "print(P[-2:])\n",
        "print(P[:, -2:])"
      ],
      "metadata": {
        "id": "fPqsnD8qsWsH",
        "colab": {
          "base_uri": "https://localhost:8080/"
        },
        "outputId": "26864a28-e9fa-46d8-fbea-9303843d636e"
      },
      "execution_count": null,
      "outputs": [
        {
          "output_type": "stream",
          "name": "stdout",
          "text": [
            "tensor([[ 0,  1,  2,  3],\n",
            "        [ 4,  5,  6,  7],\n",
            "        [ 8,  9, 10, 11]])\n",
            "tensor([0, 1, 2, 3])\n",
            "tensor([0, 4, 8])\n",
            "tensor([ 8,  9, 10, 11])\n",
            "tensor([ 3,  7, 11])\n",
            "tensor([[ 4,  5,  6,  7],\n",
            "        [ 8,  9, 10, 11]])\n",
            "tensor([[ 2,  3],\n",
            "        [ 6,  7],\n",
            "        [10, 11]])\n"
          ]
        }
      ]
    },
    {
      "cell_type": "markdown",
      "source": [
        "## PyTorch and GPU"
      ],
      "metadata": {
        "id": "ftVXJ-3ur9yk"
      }
    },
    {
      "cell_type": "markdown",
      "source": [
        "check if GPU is available"
      ],
      "metadata": {
        "id": "2TmzZR23sKOW"
      }
    },
    {
      "cell_type": "code",
      "source": [
        "torch.cuda.is_available()"
      ],
      "metadata": {
        "id": "TSiXGmqrqyzw",
        "colab": {
          "base_uri": "https://localhost:8080/"
        },
        "outputId": "a47df186-85ac-45a6-b250-ef6857b23ef9"
      },
      "execution_count": null,
      "outputs": [
        {
          "output_type": "execute_result",
          "data": {
            "text/plain": [
              "True"
            ]
          },
          "metadata": {},
          "execution_count": 35
        }
      ]
    },
    {
      "cell_type": "code",
      "source": [
        "Q = torch.tensor([1, 2, 3])\n",
        "print(Q.device)"
      ],
      "metadata": {
        "id": "wjDt08_7sMxz",
        "colab": {
          "base_uri": "https://localhost:8080/"
        },
        "outputId": "e59a14d7-bda1-46dd-9dba-8d20c9c7a369"
      },
      "execution_count": null,
      "outputs": [
        {
          "output_type": "stream",
          "name": "stdout",
          "text": [
            "cpu\n"
          ]
        }
      ]
    },
    {
      "cell_type": "code",
      "source": [
        "R = Q.to('cuda')\n",
        "print(Q.device)\n",
        "print(R.device)"
      ],
      "metadata": {
        "id": "7BitUf-RtdG3",
        "colab": {
          "base_uri": "https://localhost:8080/"
        },
        "outputId": "9e993d33-ceb9-45d8-c8a4-6a9f4cab9b64"
      },
      "execution_count": null,
      "outputs": [
        {
          "output_type": "stream",
          "name": "stdout",
          "text": [
            "cpu\n",
            "cuda:0\n"
          ]
        }
      ]
    },
    {
      "cell_type": "code",
      "source": [
        "R.cpu().numpy()"
      ],
      "metadata": {
        "id": "PbsTOQ-Itiax",
        "colab": {
          "base_uri": "https://localhost:8080/"
        },
        "outputId": "b871db5e-c906-499b-92cf-5669c161025b"
      },
      "execution_count": null,
      "outputs": [
        {
          "output_type": "execute_result",
          "data": {
            "text/plain": [
              "array([1, 2, 3])"
            ]
          },
          "metadata": {},
          "execution_count": 38
        }
      ]
    },
    {
      "cell_type": "code",
      "source": [],
      "metadata": {
        "id": "RkI3ITOLt2S6"
      },
      "execution_count": null,
      "outputs": []
    },
    {
      "cell_type": "markdown",
      "source": [
        "# Exercise\n",
        "\n",
        "In this exercise, we will simulate data to perform linear regression with 200 rows and 7 variables.\n",
        "\n",
        "1. Create three random $N(0,1)$ tensors: `X`, `b` and `e` with `X.shape = (200, 7)`, `b.shape = (8, 1)` and `e.shape = (200, 1)` respectively.\n",
        "2. Create a tensor that contains only 1's with shape `(200, 1)`.\n",
        "3. Modify tensor `X` by adding the tensor in 2. as the first column.\n",
        "4. Compute `y` using the following formula:\n",
        "$$ y = Xb + e $$.\n",
        "5. Fit a linear regression to the data `X` and `y` and obtain a tensor of estimated coefficient `b_hat`. The formula for `b_hat` is given by:\n",
        "$$ \\hat{b} = (X^TX)^{-1}X^Ty $$\n",
        "Note: use `torch.inverse(...)` to calculate the inverse\n",
        "6. Compute the predictions `y_hat`, given by:\n",
        "$$ \\hat{y} = X\\hat{b} $$\n",
        "7. Convert both `y` and `y_hat` from tensor to Numpy array and calculate MSE:\n",
        "$$ MSE = \\frac{1}{200}\\sum_{i=1}^{200} (y_i - \\hat{y}_i)^2 $$"
      ],
      "metadata": {
        "id": "aZBZ3f66AFye"
      }
    },
    {
      "cell_type": "code",
      "source": [
        "X = torch.tensor([[2, 3, 2], [4, 6, 7], [7, 2, 4]])\n",
        "print(X)\n",
        "\n",
        "X = torch.tensor([[1, 2, 3, 2], [1, 4, 6, 7], [1, 7, 2, 4]])\n",
        "print(X)"
      ],
      "metadata": {
        "colab": {
          "base_uri": "https://localhost:8080/"
        },
        "id": "eQOsf3B_QnvN",
        "outputId": "cd6e8bf7-01d5-409c-efa3-fbfc0d6c4938"
      },
      "execution_count": null,
      "outputs": [
        {
          "output_type": "stream",
          "name": "stdout",
          "text": [
            "tensor([[2, 3, 2],\n",
            "        [4, 6, 7],\n",
            "        [7, 2, 4]])\n",
            "tensor([[1, 2, 3, 2],\n",
            "        [1, 4, 6, 7],\n",
            "        [1, 7, 2, 4]])\n"
          ]
        }
      ]
    },
    {
      "cell_type": "code",
      "source": [],
      "metadata": {
        "id": "Qm_SlwkZQ_i1"
      },
      "execution_count": null,
      "outputs": []
    }
  ]
}