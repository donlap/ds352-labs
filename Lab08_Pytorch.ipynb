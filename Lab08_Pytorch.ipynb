{
  "nbformat": 4,
  "nbformat_minor": 0,
  "metadata": {
    "colab": {
      "provenance": []
    },
    "kernelspec": {
      "name": "python3",
      "display_name": "Python 3"
    },
    "language_info": {
      "name": "python"
    },
    "gpuClass": "standard",
    "accelerator": "GPU"
  },
  "cells": [
    {
      "cell_type": "markdown",
      "source": [
        "### There are currently three popular  deep learning frameworks.\n",
        "\n",
        "<img src=\"https://upload.wikimedia.org/wikipedia/commons/thumb/c/c6/PyTorch_logo_black.svg/2560px-PyTorch_logo_black.svg.png\" width=\"500\"/>\n",
        "<img src=\"https://upload.wikimedia.org/wikipedia/commons/2/2d/Tensorflow_logo.svg\" width=\"200\"/>\n",
        "<img src=\"https://assets-global.website-files.com/621e749a546b7592125f38ed/62277da165ed192adba475fc_JAX.jpg\" width=\"500\"/>\n",
        "\n",
        "In this class, we will use PyTorch"
      ],
      "metadata": {
        "id": "G-nQb7jGS3PJ"
      }
    },
    {
      "cell_type": "code",
      "execution_count": 2,
      "metadata": {
        "id": "MzJSrt8CSv4p"
      },
      "outputs": [],
      "source": [
        "import numpy as np\n",
        "\n",
        "import torch"
      ]
    },
    {
      "cell_type": "markdown",
      "source": [
        "# Tensor basics"
      ],
      "metadata": {
        "id": "QEsXce8XuwIW"
      }
    },
    {
      "cell_type": "markdown",
      "source": [
        "## Basic tensor creation"
      ],
      "metadata": {
        "id": "qr1d7mpfrQ-W"
      }
    },
    {
      "cell_type": "markdown",
      "source": [
        "### Creating a scalar (1D) tensor"
      ],
      "metadata": {
        "id": "zoo78UqZZBmo"
      }
    },
    {
      "cell_type": "code",
      "source": [
        "a = torch.tensor(8)\n",
        "b = torch.tensor(9)\n",
        "print(a)\n",
        "print(b)\n",
        "print(a+b)"
      ],
      "metadata": {
        "id": "8QkirMVZUpfe",
        "colab": {
          "base_uri": "https://localhost:8080/"
        },
        "outputId": "b62f767b-1698-4916-e3b2-93d377f6ad03"
      },
      "execution_count": 3,
      "outputs": [
        {
          "output_type": "stream",
          "name": "stdout",
          "text": [
            "tensor(8)\n",
            "tensor(9)\n",
            "tensor(17)\n"
          ]
        }
      ]
    },
    {
      "cell_type": "markdown",
      "source": [
        "### Convert a tensor to scalar"
      ],
      "metadata": {
        "id": "Y2D_T5PPZI4L"
      }
    },
    {
      "cell_type": "code",
      "source": [
        "a.item()"
      ],
      "metadata": {
        "id": "BSkS98iYXVZI",
        "colab": {
          "base_uri": "https://localhost:8080/"
        },
        "outputId": "79a6da6e-77e9-4085-c2be-11873b4026d3"
      },
      "execution_count": null,
      "outputs": [
        {
          "output_type": "execute_result",
          "data": {
            "text/plain": [
              "8"
            ]
          },
          "metadata": {},
          "execution_count": 3
        }
      ]
    },
    {
      "cell_type": "markdown",
      "source": [
        "### Creating 2D tensor"
      ],
      "metadata": {
        "id": "wLUTVuu8ZPCV"
      }
    },
    {
      "cell_type": "code",
      "source": [
        "A = torch.tensor([[1, 2], [3, 4]])\n",
        "print(A)"
      ],
      "metadata": {
        "id": "ST-ZldGXX9SY",
        "colab": {
          "base_uri": "https://localhost:8080/"
        },
        "outputId": "48813b15-60a7-4c99-f200-8e544da657a4"
      },
      "execution_count": null,
      "outputs": [
        {
          "output_type": "stream",
          "name": "stdout",
          "text": [
            "tensor([[1, 2],\n",
            "        [3, 4]])\n"
          ]
        }
      ]
    },
    {
      "cell_type": "markdown",
      "source": [
        "## Tensor and Numpy"
      ],
      "metadata": {
        "id": "RL1rmhg8rVgY"
      }
    },
    {
      "cell_type": "markdown",
      "source": [
        "### Convert from tensor to numpy array"
      ],
      "metadata": {
        "id": "1LSTMBVNZjAu"
      }
    },
    {
      "cell_type": "code",
      "source": [
        "A.numpy()"
      ],
      "metadata": {
        "id": "I4LkkrQdYbLq",
        "colab": {
          "base_uri": "https://localhost:8080/"
        },
        "outputId": "6b4cfc8b-7c86-4973-f6bc-aa4b6e524e9d"
      },
      "execution_count": null,
      "outputs": [
        {
          "output_type": "execute_result",
          "data": {
            "text/plain": [
              "array([[1, 2],\n",
              "       [3, 4]])"
            ]
          },
          "metadata": {},
          "execution_count": 5
        }
      ]
    },
    {
      "cell_type": "markdown",
      "source": [
        "### Convert from numpy array to tensor"
      ],
      "metadata": {
        "id": "xcFexnBYZn73"
      }
    },
    {
      "cell_type": "code",
      "source": [
        "B = np.array([[1, 2], [3, 4]])\n",
        "\n",
        "C = torch.from_numpy(B)\n",
        "print(C)"
      ],
      "metadata": {
        "id": "lDRLWyGkZmjM",
        "colab": {
          "base_uri": "https://localhost:8080/"
        },
        "outputId": "eab0b794-f376-4745-a687-75661b26aee8"
      },
      "execution_count": null,
      "outputs": [
        {
          "output_type": "stream",
          "name": "stdout",
          "text": [
            "tensor([[1, 2],\n",
            "        [3, 4]])\n"
          ]
        }
      ]
    },
    {
      "cell_type": "markdown",
      "source": [
        "## Basic operations"
      ],
      "metadata": {
        "id": "5bLYQUdDb47c"
      }
    },
    {
      "cell_type": "code",
      "source": [
        "D = 2*C\n",
        "\n",
        "E = C - 10\n",
        "\n",
        "print(D)\n",
        "print(E)"
      ],
      "metadata": {
        "id": "O1ZL-UgraQZG",
        "colab": {
          "base_uri": "https://localhost:8080/"
        },
        "outputId": "919d4d26-2473-4fd0-cad7-18ce3f13a952"
      },
      "execution_count": null,
      "outputs": [
        {
          "output_type": "stream",
          "name": "stdout",
          "text": [
            "tensor([[2, 4],\n",
            "        [6, 8]])\n",
            "tensor([[-9, -8],\n",
            "        [-7, -6]])\n"
          ]
        }
      ]
    },
    {
      "cell_type": "markdown",
      "source": [
        "### Matrix multiplication"
      ],
      "metadata": {
        "id": "K_k3thRzrdpd"
      }
    },
    {
      "cell_type": "code",
      "source": [
        "print(torch.matmul(D, E))\n",
        "print(D @ E)"
      ],
      "metadata": {
        "id": "d1XwpoNaakY2",
        "colab": {
          "base_uri": "https://localhost:8080/"
        },
        "outputId": "c40618f2-efa9-408e-f212-5faff8727b9c"
      },
      "execution_count": null,
      "outputs": [
        {
          "output_type": "stream",
          "name": "stdout",
          "text": [
            "tensor([[ -46,  -40],\n",
            "        [-110,  -96]])\n",
            "tensor([[ -46,  -40],\n",
            "        [-110,  -96]])\n"
          ]
        }
      ]
    },
    {
      "cell_type": "markdown",
      "source": [
        "### Matrix transpose"
      ],
      "metadata": {
        "id": "TwJki4afrf0m"
      }
    },
    {
      "cell_type": "code",
      "source": [
        "print( C.t() )"
      ],
      "metadata": {
        "id": "IumkARr4g3Nv",
        "colab": {
          "base_uri": "https://localhost:8080/"
        },
        "outputId": "7ca3b7d8-05b1-4011-9655-ce1c9a9adc46"
      },
      "execution_count": null,
      "outputs": [
        {
          "output_type": "stream",
          "name": "stdout",
          "text": [
            "tensor([[1, 3],\n",
            "        [2, 4]])\n"
          ]
        }
      ]
    },
    {
      "cell_type": "markdown",
      "source": [
        "## Creating a specific type of tensor"
      ],
      "metadata": {
        "id": "AuwWEOBYcbiL"
      }
    },
    {
      "cell_type": "code",
      "source": [
        "print(torch.zeros(2,3))\n",
        "print(torch.ones(2,3))\n",
        "print(torch.rand(2,3))\n",
        "print(torch.randn(2,3))\n",
        "print(torch.arange(9))"
      ],
      "metadata": {
        "id": "Vg757DJLaoqh",
        "colab": {
          "base_uri": "https://localhost:8080/"
        },
        "outputId": "903ea596-8650-4ed5-f552-5fcb7e1acd35"
      },
      "execution_count": null,
      "outputs": [
        {
          "output_type": "stream",
          "name": "stdout",
          "text": [
            "tensor([[0., 0., 0.],\n",
            "        [0., 0., 0.]])\n",
            "tensor([[1., 1., 1.],\n",
            "        [1., 1., 1.]])\n",
            "tensor([[0.8144, 0.1612, 0.1887],\n",
            "        [0.2925, 0.1859, 0.2281]])\n",
            "tensor([[-0.5934, -0.2851,  0.0877],\n",
            "        [ 0.0877,  1.6336, -1.5732]])\n",
            "tensor([0, 1, 2, 3, 4, 5, 6, 7, 8])\n"
          ]
        }
      ]
    },
    {
      "cell_type": "markdown",
      "source": [
        "## Tensor's shape"
      ],
      "metadata": {
        "id": "aUeodCiLrofw"
      }
    },
    {
      "cell_type": "markdown",
      "source": [
        "### Checking the shape of a tensor"
      ],
      "metadata": {
        "id": "qJTX5WOHhVsB"
      }
    },
    {
      "cell_type": "code",
      "source": [
        "F = torch.zeros((4, 5))\n",
        "print(F.shape)\n",
        "print(F.size())"
      ],
      "metadata": {
        "id": "Nzn5Lyqfhcmf",
        "colab": {
          "base_uri": "https://localhost:8080/"
        },
        "outputId": "56b3a331-5827-457c-da43-10bc0e5a7f13"
      },
      "execution_count": null,
      "outputs": [
        {
          "output_type": "stream",
          "name": "stdout",
          "text": [
            "torch.Size([4, 5])\n",
            "torch.Size([4, 5])\n"
          ]
        }
      ]
    },
    {
      "cell_type": "markdown",
      "source": [
        "### Changing the shape of a tensor"
      ],
      "metadata": {
        "id": "Vf21H-EvgE87"
      }
    },
    {
      "cell_type": "code",
      "source": [
        "G = torch.arange(6)\n",
        "print(G.view(2, 3))\n",
        "print(G.reshape(2, 3))"
      ],
      "metadata": {
        "id": "o71IJ7_ic1U8",
        "colab": {
          "base_uri": "https://localhost:8080/"
        },
        "outputId": "fd96d8cf-9ce5-49b6-c3f6-ea33edad3178"
      },
      "execution_count": null,
      "outputs": [
        {
          "output_type": "stream",
          "name": "stdout",
          "text": [
            "tensor([[0, 1, 2],\n",
            "        [3, 4, 5]])\n",
            "tensor([[0, 1, 2],\n",
            "        [3, 4, 5]])\n"
          ]
        }
      ]
    },
    {
      "cell_type": "markdown",
      "source": [
        "In general, use `reshape`, but if you are worried about the memory usage, use `view`."
      ],
      "metadata": {
        "id": "7nZgFYT5gd2_"
      }
    },
    {
      "cell_type": "markdown",
      "source": [
        "### Stacking and concatenating tensors"
      ],
      "metadata": {
        "id": "uEA3iRzznjNx"
      }
    },
    {
      "cell_type": "code",
      "source": [
        "H = torch.arange(6)\n",
        "I = torch.stack([H, H, H, H], axis=0)\n",
        "J = torch.stack([H, H, H, H], axis=1)\n",
        "print(I)\n",
        "print(J)"
      ],
      "metadata": {
        "id": "MQ6JEjsmgbpI",
        "colab": {
          "base_uri": "https://localhost:8080/"
        },
        "outputId": "d10bc551-37be-4247-dda6-ed2359e127e2"
      },
      "execution_count": null,
      "outputs": [
        {
          "output_type": "stream",
          "name": "stdout",
          "text": [
            "tensor([[0, 1, 2, 3, 4, 5],\n",
            "        [0, 1, 2, 3, 4, 5],\n",
            "        [0, 1, 2, 3, 4, 5],\n",
            "        [0, 1, 2, 3, 4, 5]])\n",
            "tensor([[0, 0, 0, 0],\n",
            "        [1, 1, 1, 1],\n",
            "        [2, 2, 2, 2],\n",
            "        [3, 3, 3, 3],\n",
            "        [4, 4, 4, 4],\n",
            "        [5, 5, 5, 5]])\n"
          ]
        }
      ]
    },
    {
      "cell_type": "code",
      "source": [
        "I = torch.cat([H, H, H, H], axis=0)\n",
        "print(I)\n",
        "#J = torch.cat([H, H, H, H], axis=1)\n",
        "#print(J)"
      ],
      "metadata": {
        "id": "Zkz--DJuXyD1",
        "colab": {
          "base_uri": "https://localhost:8080/",
          "height": 229
        },
        "outputId": "7ec402aa-2a71-41e2-be03-8159892d3d68"
      },
      "execution_count": 1,
      "outputs": [
        {
          "output_type": "error",
          "ename": "NameError",
          "evalue": "ignored",
          "traceback": [
            "\u001b[0;31m---------------------------------------------------------------------------\u001b[0m",
            "\u001b[0;31mNameError\u001b[0m                                 Traceback (most recent call last)",
            "\u001b[0;32m<ipython-input-1-9135d4ae1bec>\u001b[0m in \u001b[0;36m<cell line: 1>\u001b[0;34m()\u001b[0m\n\u001b[0;32m----> 1\u001b[0;31m \u001b[0mI\u001b[0m \u001b[0;34m=\u001b[0m \u001b[0mtorch\u001b[0m\u001b[0;34m.\u001b[0m\u001b[0mcat\u001b[0m\u001b[0;34m(\u001b[0m\u001b[0;34m[\u001b[0m\u001b[0mH\u001b[0m\u001b[0;34m,\u001b[0m \u001b[0mH\u001b[0m\u001b[0;34m,\u001b[0m \u001b[0mH\u001b[0m\u001b[0;34m,\u001b[0m \u001b[0mH\u001b[0m\u001b[0;34m]\u001b[0m\u001b[0;34m,\u001b[0m \u001b[0maxis\u001b[0m\u001b[0;34m=\u001b[0m\u001b[0;36m0\u001b[0m\u001b[0;34m)\u001b[0m\u001b[0;34m\u001b[0m\u001b[0;34m\u001b[0m\u001b[0m\n\u001b[0m\u001b[1;32m      2\u001b[0m \u001b[0mprint\u001b[0m\u001b[0;34m(\u001b[0m\u001b[0mI\u001b[0m\u001b[0;34m)\u001b[0m\u001b[0;34m\u001b[0m\u001b[0;34m\u001b[0m\u001b[0m\n\u001b[1;32m      3\u001b[0m \u001b[0;31m#J = torch.cat([H, H, H, H], axis=1)\u001b[0m\u001b[0;34m\u001b[0m\u001b[0;34m\u001b[0m\u001b[0m\n\u001b[1;32m      4\u001b[0m \u001b[0;31m#print(J)\u001b[0m\u001b[0;34m\u001b[0m\u001b[0;34m\u001b[0m\u001b[0m\n",
            "\u001b[0;31mNameError\u001b[0m: name 'torch' is not defined"
          ]
        }
      ]
    },
    {
      "cell_type": "markdown",
      "source": [
        "### Squeezing a tensor (removing an extra dimension)"
      ],
      "metadata": {
        "id": "eWd_-Ub_pF3b"
      }
    },
    {
      "cell_type": "code",
      "source": [
        "# [[1,2]] this is (1,2) tensor, want (2,)\n",
        "print(\"H=\", H) # shape = (6,)\n",
        "K = H.reshape(1,6)\n",
        "print(\"K=\", K)\n",
        "print(K.shape)"
      ],
      "metadata": {
        "id": "gf8iDb_PoX_4",
        "colab": {
          "base_uri": "https://localhost:8080/"
        },
        "outputId": "778769e0-1fa3-4e82-acd8-9d56e4111dbf"
      },
      "execution_count": null,
      "outputs": [
        {
          "output_type": "stream",
          "name": "stdout",
          "text": [
            "tensor([0, 1, 2, 3, 4, 5])\n",
            "tensor([[0, 1, 2, 3, 4, 5]])\n",
            "torch.Size([1, 6])\n"
          ]
        }
      ]
    },
    {
      "cell_type": "code",
      "source": [
        "print(K.squeeze())"
      ],
      "metadata": {
        "id": "Ke3ro96Cp7rT",
        "colab": {
          "base_uri": "https://localhost:8080/"
        },
        "outputId": "b849b970-da96-4d96-e97e-b903b21dc16a"
      },
      "execution_count": null,
      "outputs": [
        {
          "output_type": "stream",
          "name": "stdout",
          "text": [
            "tensor([0, 1, 2, 3, 4, 5])\n"
          ]
        }
      ]
    },
    {
      "cell_type": "code",
      "source": [
        "L = H.unsqueeze(axis=0)\n",
        "M = H.unsqueeze(axis=1)\n",
        "print(L)\n",
        "print(M)"
      ],
      "metadata": {
        "id": "DJxWfoyOqaQs",
        "colab": {
          "base_uri": "https://localhost:8080/"
        },
        "outputId": "1243b28f-81e9-4a9f-e4ce-e96b3a6622c6"
      },
      "execution_count": null,
      "outputs": [
        {
          "output_type": "stream",
          "name": "stdout",
          "text": [
            "tensor([[0, 1, 2, 3, 4, 5]])\n",
            "tensor([[0],\n",
            "        [1],\n",
            "        [2],\n",
            "        [3],\n",
            "        [4],\n",
            "        [5]])\n"
          ]
        }
      ]
    },
    {
      "cell_type": "markdown",
      "source": [
        "## Indexing"
      ],
      "metadata": {
        "id": "bfaM--ZlsUsB"
      }
    },
    {
      "cell_type": "code",
      "source": [
        "P = torch.arange(12).reshape(3,4)\n",
        "print(P)\n",
        "print(P[0])\n",
        "print(P[:, 0])\n",
        "print(P[-1])\n",
        "print(P[:, -1])\n",
        "print(P[-2:])\n",
        "print(P[:, -2:])"
      ],
      "metadata": {
        "id": "fPqsnD8qsWsH",
        "colab": {
          "base_uri": "https://localhost:8080/"
        },
        "outputId": "26864a28-e9fa-46d8-fbea-9303843d636e"
      },
      "execution_count": null,
      "outputs": [
        {
          "output_type": "stream",
          "name": "stdout",
          "text": [
            "tensor([[ 0,  1,  2,  3],\n",
            "        [ 4,  5,  6,  7],\n",
            "        [ 8,  9, 10, 11]])\n",
            "tensor([0, 1, 2, 3])\n",
            "tensor([0, 4, 8])\n",
            "tensor([ 8,  9, 10, 11])\n",
            "tensor([ 3,  7, 11])\n",
            "tensor([[ 4,  5,  6,  7],\n",
            "        [ 8,  9, 10, 11]])\n",
            "tensor([[ 2,  3],\n",
            "        [ 6,  7],\n",
            "        [10, 11]])\n"
          ]
        }
      ]
    },
    {
      "cell_type": "markdown",
      "source": [
        "## PyTorch and GPU"
      ],
      "metadata": {
        "id": "ftVXJ-3ur9yk"
      }
    },
    {
      "cell_type": "markdown",
      "source": [
        "check if GPU is available"
      ],
      "metadata": {
        "id": "2TmzZR23sKOW"
      }
    },
    {
      "cell_type": "code",
      "source": [
        "torch.cuda.is_available()"
      ],
      "metadata": {
        "id": "TSiXGmqrqyzw",
        "colab": {
          "base_uri": "https://localhost:8080/"
        },
        "outputId": "13dd2315-affa-4332-8cac-e39ea9bb10b0"
      },
      "execution_count": null,
      "outputs": [
        {
          "output_type": "execute_result",
          "data": {
            "text/plain": [
              "True"
            ]
          },
          "metadata": {},
          "execution_count": 25
        }
      ]
    },
    {
      "cell_type": "code",
      "source": [
        "Q = torch.tensor([1, 2, 3])\n",
        "print(Q.device)"
      ],
      "metadata": {
        "id": "wjDt08_7sMxz",
        "colab": {
          "base_uri": "https://localhost:8080/"
        },
        "outputId": "3011d114-ac9b-4eb1-d02d-11922dd6df88"
      },
      "execution_count": null,
      "outputs": [
        {
          "output_type": "stream",
          "name": "stdout",
          "text": [
            "cpu\n"
          ]
        }
      ]
    },
    {
      "cell_type": "code",
      "source": [
        "R = Q.to('cuda')\n",
        "print(Q.device)\n",
        "print(R.device)"
      ],
      "metadata": {
        "id": "7BitUf-RtdG3",
        "colab": {
          "base_uri": "https://localhost:8080/"
        },
        "outputId": "c11c4d5a-a4e9-4557-a495-d5b2dbf475f3"
      },
      "execution_count": null,
      "outputs": [
        {
          "output_type": "stream",
          "name": "stdout",
          "text": [
            "cpu\n",
            "cuda:0\n"
          ]
        }
      ]
    },
    {
      "cell_type": "code",
      "source": [
        "R.cpu().numpy()"
      ],
      "metadata": {
        "id": "PbsTOQ-Itiax",
        "colab": {
          "base_uri": "https://localhost:8080/"
        },
        "outputId": "bf54a4c8-1c9e-4824-c2b3-165a40dab868"
      },
      "execution_count": null,
      "outputs": [
        {
          "output_type": "execute_result",
          "data": {
            "text/plain": [
              "array([1, 2, 3])"
            ]
          },
          "metadata": {},
          "execution_count": 29
        }
      ]
    },
    {
      "cell_type": "code",
      "source": [],
      "metadata": {
        "id": "RkI3ITOLt2S6"
      },
      "execution_count": null,
      "outputs": []
    },
    {
      "cell_type": "markdown",
      "source": [
        "# Exercise\n",
        "\n",
        "1. Create a random **uniform** tensor with shape `(7, 7)`.\n",
        "2. Perform a matrix multiplication on the tensor from 1. with another random **normal** tensor with shape `(1, 7)` (hint: you may have to transpose the second tensor).\n",
        "3. Find the maximum and minimum values of the output of 2. (hint: use `max()` method).\n",
        "4. Find the **index** of the maximum and minimum  values of the output of 2. (hint: use `argmax()` method).\n",
        "5. Make a random tensor with shape `(1, 1, 1, 10)` and then create a new tensor with all the 1 dimensions removed to be left with a tensor of shape `(10)`."
      ],
      "metadata": {
        "id": "y_jglMFiQwzP"
      }
    },
    {
      "cell_type": "markdown",
      "source": [
        "# Exercise\n",
        "\n",
        "In this exercise, we will simulate data to perform linear regression with 200 rows and 7 variables.\n",
        "\n",
        "1. Create three random $N(0,1)$ tensors: `X`, `b` and `e` with `X.shape = (200, 7)`, `b.shape = (8, 1)` and `e.shape = (200, 1)` respectively.\n",
        "2. Create a tensor that contains only 1's with shape `(200, 1)`.\n",
        "3. Modify tensor `X` by adding the tensor in 2. as the first column.\n",
        "4. Compute `y` using the following formula:\n",
        "$$ y = Xb + e $$.\n",
        "5. Fit a linear regression to the data `X` and `y` and obtain a tensor of estimated coefficient `b_hat`. The formula for `b_hat` is given by:\n",
        "$$ \\hat{b} = (X^TX)^{-1}X^Ty $$\n",
        "Note: use `torch.inverse(...)` to calculate the inverse\n",
        "6. Compute the predictions `y_hat`, given by:\n",
        "$$ \\hat{y} = X\\hat{b} $$\n",
        "7. Convert both `y` and `y_hat` from tensor to Numpy array and calculate MSE:\n",
        "$$ MSE = \\frac{1}{200}\\sum_{i=1}^{200} (y_i - \\hat{y}_i)^2 $$"
      ],
      "metadata": {
        "id": "aZBZ3f66AFye"
      }
    }
  ]
}