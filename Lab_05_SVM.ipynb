{
 "cells": [
  {
   "cell_type": "markdown",
   "id": "ceb0ebd5-f2fa-464d-9ccb-5030b9729ac5",
   "metadata": {},
   "source": [
    "## Support Vector Machines (SVM)"
   ]
  },
  {
   "cell_type": "markdown",
   "id": "0f4351f5-a63a-47f6-b567-c549f8f0495a",
   "metadata": {},
   "source": [
    "[SVM module documentation](https://scikit-learn.org/stable/modules/svm.html#svm)\n",
    "\n",
    "[LinearSVC documentation](https://scikit-learn.org/stable/modules/generated/sklearn.svm.LinearSVC.html#sklearn.svm.LinearSVC)\n",
    "\n",
    "[SVC documentation](https://scikit-learn.org/stable/modules/generated/sklearn.svm.SVC.html#sklearn.svm.SVC)"
   ]
  },
  {
   "cell_type": "code",
   "execution_count": null,
   "id": "145006ec-424f-437d-883e-a2c8257a3c93",
   "metadata": {},
   "outputs": [],
   "source": [
    "import numpy as np\n",
    "import matplotlib.pyplot as plt\n",
    "from sklearn import datasets\n",
    "from sklearn.model_selection import train_test_split\n",
    "from sklearn.svm import LinearSVC, SVC"
   ]
  },
  {
   "cell_type": "code",
   "execution_count": null,
   "id": "7eaa1514-dff9-4dee-a40e-17c26a0337b7",
   "metadata": {},
   "outputs": [],
   "source": [
    "# Load the iris data\n",
    "iris = datasets.load_iris()\n",
    "X = iris.data[:, 2:]\n",
    "y = iris.target"
   ]
  },
  {
   "cell_type": "code",
   "execution_count": null,
   "id": "b4858a66-cda5-4f7b-b955-21132bfa0be6",
   "metadata": {},
   "outputs": [],
   "source": [
    "# Plot the data\n",
    "plt.figure(figsize=(7,6))\n",
    "plt.scatter(X[:, 0], X[:, 1], c=y)\n",
    "plt.xlabel(iris.feature_names[2])\n",
    "plt.ylabel(iris.feature_names[3])\n",
    "plt.show()"
   ]
  },
  {
   "cell_type": "markdown",
   "id": "da3651c6-91b3-44a9-977b-5c4bc1c332ad",
   "metadata": {},
   "source": [
    "#### In this problem, you'll use support vector machines to classify the Iris data\n",
    "\n",
    "#### The following function helps you plot the decision boundary."
   ]
  },
  {
   "cell_type": "code",
   "execution_count": null,
   "id": "5949c584-42d0-4a09-8bbd-3a876d1c8993",
   "metadata": {},
   "outputs": [],
   "source": [
    "# Plot the decision boundaries\n",
    "def plot_decision_boundary(clf, X, y):\n",
    "    h = 0.005  # Boundary lines' resolution\n",
    "    x_min, x_max = X[:,0].min() - 10*h, X[:,0].max() + 10*h\n",
    "    y_min, y_max = X[:,1].min() - 10*h, X[:,1].max() + 10*h\n",
    "    xx, yy = np.meshgrid(np.arange(x_min, x_max, h),\n",
    "                         np.arange(y_min, y_max, h))\n",
    "    Z = clf.predict(np.c_[xx.ravel(), yy.ravel()])\n",
    "    Z = Z.reshape(xx.shape)\n",
    "\n",
    "    plt.figure(figsize=(7,6))\n",
    "    plt.contourf(xx, yy, Z, alpha=0.25)  # Background\n",
    "    plt.contour(xx, yy, Z, colors='k', linewidths=0.2)  # Boundary lines\n",
    "    plt.scatter(X[:,0], X[:,1], c=y);  # Data points\n",
    "    plt.xlabel(iris.feature_names[2])\n",
    "    plt.ylabel(iris.feature_names[3])"
   ]
  },
  {
   "cell_type": "markdown",
   "id": "45547faa-82b6-49c1-ad52-cf9e65a953f0",
   "metadata": {},
   "source": [
    "#### 1. Split the data into training set and test set."
   ]
  },
  {
   "cell_type": "code",
   "execution_count": null,
   "id": "f9369f4d-0ab9-4f92-9d0b-8245edd78744",
   "metadata": {},
   "outputs": [],
   "source": [
    "#TODO: your code here"
   ]
  },
  {
   "cell_type": "markdown",
   "id": "36f49e86-2e59-4b08-b384-139a04bba30a",
   "metadata": {},
   "source": [
    "#### 2. Learn a linear SVM classifier using sklearn.svm.LinearSVC. You will need to set `loss='hinge'`.\n",
    "\n",
    "#### Try different values of the tradeoff parameter: `C = 0.01, 0.1, 1.0, 10.0, 100.0` and use `plot_decision_boundary` to plot the decision boundary.\n",
    "\n",
    "#### If you encounter `RuntimeError`, consider setting `max_iter=100000`\n",
    "\n",
    "#### What is the effect of `C` on the decision boundary?"
   ]
  },
  {
   "cell_type": "code",
   "execution_count": null,
   "id": "c3cc1858-e075-428f-afd5-4f9905065c8c",
   "metadata": {},
   "outputs": [],
   "source": [
    "#TODO: your code here"
   ]
  },
  {
   "cell_type": "markdown",
   "id": "45ef99f5-6343-4780-87b1-4375164478ed",
   "metadata": {},
   "source": [
    "Answer:"
   ]
  },
  {
   "cell_type": "markdown",
   "id": "170e615a-71d3-430a-89b0-0180978068fd",
   "metadata": {},
   "source": [
    "#### 3. Pick a value of `C` that you like. Then report the test error and the number of support vectors."
   ]
  },
  {
   "cell_type": "code",
   "execution_count": null,
   "id": "f8df15a9-631a-4b7d-8489-ed97ed5c81e9",
   "metadata": {},
   "outputs": [],
   "source": []
  },
  {
   "cell_type": "markdown",
   "id": "1d0870ac-f415-41e7-ae64-afda214e04a0",
   "metadata": {},
   "source": [
    "#### 4. Now try kernel SVM with a quadratic kernel. You can do this with sklearn.svm.SVC, setting `kernel='rbf'` and `C = 1.0`.\n",
    "\n",
    "#### Try different values of the tradeoff parameter: `gamma = 0.01, 0.1, 1.0, 10.0, 100.0` and use `plot_decision_boundary` to plot the decision boundary.\n",
    "\n",
    "#### If you encounter `RuntimeError`, consider setting `max_iter=100000`\n",
    "\n",
    "#### What is the effect of `C` on the decision boundary?"
   ]
  },
  {
   "cell_type": "code",
   "execution_count": null,
   "id": "7bf3bc9e-04e3-4fe4-a505-70624baf6153",
   "metadata": {},
   "outputs": [],
   "source": [
    "#TODO: your code here"
   ]
  },
  {
   "cell_type": "markdown",
   "id": "db739c3f-9474-4733-8c42-3dc566872629",
   "metadata": {},
   "source": [
    "Answer"
   ]
  },
  {
   "cell_type": "markdown",
   "id": "0ec823cb-0601-4e3c-966c-e42d862c7837",
   "metadata": {},
   "source": [
    "#### 5. Pick a value of `gamma` that you like. Then report the test error and the number of support vectors."
   ]
  },
  {
   "cell_type": "code",
   "execution_count": null,
   "id": "87e4b680-046e-4785-a92f-2fe05d991486",
   "metadata": {},
   "outputs": [],
   "source": [
    "#TODO: your code here"
   ]
  },
  {
   "cell_type": "markdown",
   "id": "f33770ff-ef21-43bf-9982-ccf95f0a674d",
   "metadata": {},
   "source": [
    "#### 6. ระหว่าง Linear SVM กับ Kernel SVM คุณคิดว่าโมเดลไหนที่เหมาะสมกับการแบ่งกลุ่มข้อมูลชุดนี้มากกว่ากัน สามารถใช้ test accuracy หรือ decison boundary plot ในการอธิบาย"
   ]
  },
  {
   "cell_type": "markdown",
   "id": "a44b0fe8-d2e3-4e91-9936-6423e37cc5e1",
   "metadata": {},
   "source": [
    "Answer:"
   ]
  }
 ],
 "metadata": {
  "kernelspec": {
   "display_name": "Python 3 (ipykernel)",
   "language": "python",
   "name": "python3"
  },
  "language_info": {
   "codemirror_mode": {
    "name": "ipython",
    "version": 3
   },
   "file_extension": ".py",
   "mimetype": "text/x-python",
   "name": "python",
   "nbconvert_exporter": "python",
   "pygments_lexer": "ipython3",
   "version": "3.10.12"
  }
 },
 "nbformat": 4,
 "nbformat_minor": 5
}
