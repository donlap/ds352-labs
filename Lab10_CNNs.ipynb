{
 "cells": [
  {
   "cell_type": "markdown",
   "metadata": {},
   "source": [
    "### Statistical Learning for Data Science 2 (229352) \n",
    "#### Instructor: Donlapark Ponnoprat\n",
    "\n",
    "#### [Course website](https://donlapark.pages.dev/229352/)\n",
    "\n",
    "## Lab #10"
   ]
  },
  {
   "cell_type": "code",
   "execution_count": null,
   "metadata": {
    "id": "zf4A_acgttVI"
   },
   "outputs": [],
   "source": [
    "import torch\n",
    "import torch.nn as nn"
   ]
  },
  {
   "cell_type": "markdown",
   "metadata": {
    "id": "0latKPFtv9H3"
   },
   "source": [
    "### Stacking layer with `nn.Sequential`"
   ]
  },
  {
   "cell_type": "code",
   "execution_count": null,
   "metadata": {
    "id": "bSz1K-kFtiCQ"
   },
   "outputs": [],
   "source": [
    "class SimpleNN(nn.Module):\n",
    "    def __init__(self):\n",
    "        super(SimpleNN, self).__init__()\n",
    "        self.flatten = nn.Flatten()\n",
    "        self.linear_stack = nn.Sequential(nn.Linear(28*28, 512),\n",
    "                                          nn.ReLU(),\n",
    "                                          nn.Linear(512, 512),\n",
    "                                          nn.ReLU(),\n",
    "                                          nn.Linear(512, 10))\n",
    "\n",
    "    def forward(self, x):\n",
    "        x = self.flatten(x)\n",
    "        logits = self.linear_stack(x)\n",
    "        return logits\n",
    "\n",
    "\n",
    "model = SimpleNN()"
   ]
  },
  {
   "cell_type": "markdown",
   "metadata": {
    "id": "5dy7nJbkwHO-"
   },
   "source": [
    "### Model's prediction of an instance"
   ]
  },
  {
   "cell_type": "code",
   "execution_count": null,
   "metadata": {
    "id": "9N-UH6GXt1iN"
   },
   "outputs": [],
   "source": [
    "x = torch.rand(28, 28, 1)\n",
    "\n",
    "x_us = x.unsqueeze(axis=0)\n",
    "print(x_us.shape)\n",
    "\n",
    "model(x_us)"
   ]
  },
  {
   "cell_type": "markdown",
   "metadata": {
    "id": "4gY2qk9axKLJ"
   },
   "source": [
    "# Image classification with LeNet-5\n",
    "\n",
    "![lenet5](http://d2l.ai/_images/lenet.svg)"
   ]
  },
  {
   "cell_type": "code",
   "execution_count": null,
   "metadata": {
    "id": "tnLaTtoat9Dl"
   },
   "outputs": [],
   "source": [
    "import torch\n",
    "import torch.nn as nn\n",
    "from torch.utils.data import DataLoader\n",
    "\n",
    "from torchvision import datasets\n",
    "from torchvision import transforms\n",
    "\n",
    "import matplotlib.pyplot as plt"
   ]
  },
  {
   "cell_type": "code",
   "execution_count": null,
   "metadata": {
    "id": "il1gJukrzJei"
   },
   "outputs": [],
   "source": [
    "# Hyperparameters\n",
    "LEARNING_RATE = 0.001\n",
    "BATCH_SIZE = 128\n",
    "NUM_EPOCHS = 5\n",
    "\n",
    "# Classification\n",
    "NUM_CLASSES = 10"
   ]
  },
  {
   "cell_type": "markdown",
   "metadata": {
    "id": "abwqzWkkE6Rr"
   },
   "source": [
    "# CIFAR10 dataset\n",
    "\n",
    "Classify (32x32x3) images into 10 classes\n",
    "\n",
    "Here, `train_dataset` and `val_dataset` are `(image, label)` generators"
   ]
  },
  {
   "cell_type": "code",
   "execution_count": null,
   "metadata": {
    "id": "03k3ZjnCzRCB"
   },
   "outputs": [],
   "source": [
    "train_dataset = datasets.CIFAR10(root='data',\n",
    "                                 train=True,\n",
    "                                 transform=transforms.ToTensor(),\n",
    "                                 download=True)\n",
    "\n",
    "val_dataset = datasets.CIFAR10(root='data',\n",
    "                                train=False,\n",
    "                                transform=transforms.ToTensor())"
   ]
  },
  {
   "cell_type": "markdown",
   "metadata": {
    "id": "ed-tHQC1nDTD"
   },
   "source": [
    "Look at an image in the dataset"
   ]
  },
  {
   "cell_type": "code",
   "execution_count": null,
   "metadata": {
    "id": "-EczeB3sGBuK"
   },
   "outputs": [],
   "source": [
    "image, label = train_dataset[1]\n",
    "\n",
    "print(image.shape)\n",
    "\n",
    "plt.imshow(image.permute(1, 2, 0))"
   ]
  },
  {
   "cell_type": "markdown",
   "metadata": {
    "id": "VEJoUtruCBGP"
   },
   "source": [
    "# Data augmentation\n",
    "\n",
    "![augmentation](https://miro.medium.com/max/700/0*LR1ZQucYW96prDte)"
   ]
  },
  {
   "cell_type": "markdown",
   "metadata": {
    "id": "TYj9b6ADLydR"
   },
   "source": [
    "See more transformations in [Pytorch documentation](https://pytorch.org/vision/0.9/transforms.html)"
   ]
  },
  {
   "cell_type": "code",
   "execution_count": null,
   "metadata": {
    "id": "58W6orzSNzjv"
   },
   "outputs": [],
   "source": [
    "train_transform = transforms.Compose([transforms.RandomHorizontalFlip(),\n",
    "                                      transforms.RandomResizedCrop((32, 32),\n",
    "                                                                   scale=(0.7,0.8),\n",
    "                                                                   ratio=(0.6,0.7)),\n",
    "                                     transforms.ToTensor()\n",
    "                                     ])\n",
    "\n",
    "train_dataset = datasets.CIFAR10(root='data',\n",
    "                                 train=True,\n",
    "                                 transform=train_transform,\n",
    "                                 download=True)\n",
    "\n",
    "val_dataset = datasets.CIFAR10(root='data',\n",
    "                                train=False,\n",
    "                                transform=transforms.ToTensor())"
   ]
  },
  {
   "cell_type": "code",
   "execution_count": null,
   "metadata": {
    "id": "3mAy7rXbO9Yu"
   },
   "outputs": [],
   "source": [
    "image, labels = train_dataset[6]\n",
    "plt.imshow(image.permute(1,2,0))"
   ]
  },
  {
   "cell_type": "markdown",
   "metadata": {
    "id": "YQAF-_gD_iyW"
   },
   "source": [
    "Use `DataLoader` to split the dataset into minibatches."
   ]
  },
  {
   "cell_type": "code",
   "execution_count": null,
   "metadata": {
    "id": "7X6Te4-R_fXG"
   },
   "outputs": [],
   "source": [
    "train_loader = DataLoader(dataset=train_dataset,\n",
    "                          batch_size=BATCH_SIZE,\n",
    "                          num_workers=2,\n",
    "                          shuffle=True)\n",
    "\n",
    "val_loader = DataLoader(dataset=val_dataset,\n",
    "                         batch_size=BATCH_SIZE,\n",
    "                         num_workers=2,\n",
    "                         shuffle=False)\n"
   ]
  },
  {
   "cell_type": "markdown",
   "metadata": {
    "id": "5Edats3xmjJl"
   },
   "source": [
    "Check the size of each minibatch"
   ]
  },
  {
   "cell_type": "code",
   "execution_count": null,
   "metadata": {
    "id": "r2w6bDzlmgHf"
   },
   "outputs": [],
   "source": [
    "for images, labels in train_loader:\n",
    "  print(images.shape)\n",
    "  break"
   ]
  },
  {
   "cell_type": "markdown",
   "metadata": {
    "id": "xhkEwwbU-6e9"
   },
   "source": [
    "# LeNet5\n",
    "\n",
    "![lenet5](http://d2l.ai/_images/lenet.svg)"
   ]
  },
  {
   "cell_type": "code",
   "execution_count": null,
   "metadata": {
    "id": "sYhBlQUhzX_S"
   },
   "outputs": [],
   "source": [
    "class LeNet5(nn.Module):\n",
    "\n",
    "    def __init__(self, num_classes):\n",
    "        super(LeNet5, self).__init__()\n",
    "\n",
    "        self.num_classes = num_classes\n",
    "\n",
    "        self.features = nn.Sequential(\n",
    "            # Input shape = 28 x 28 x 3\n",
    "            nn.Conv2d(in_channels=3, out_channels=6*3, kernel_size=5),\n",
    "            # Output shape = 28 - (5 - 1) = 24\n",
    "            nn.Dropout(0.2),\n",
    "            nn.BatchNorm2d(6*3),\n",
    "            nn.Tanh(),\n",
    "            nn.MaxPool2d(kernel_size=3),\n",
    "            # shape = 24/3 = 8\n",
    "            nn.Conv2d(in_channels=6*3, out_channels=16*3, kernel_size=5),\n",
    "            # shape = 8 - (5 - 1) = 4\n",
    "            nn.Tanh(),\n",
    "            nn.MaxPool2d(kernel_size=2)\n",
    "            # shape = 4/2 = 2\n",
    "        )\n",
    "\n",
    "        self.classifier = nn.Sequential(\n",
    "            nn.Flatten(),\n",
    "            nn.Linear(16*2*2*3, 3*120),\n",
    "            nn.Tanh(),\n",
    "            nn.Linear(3*120, 3*84),\n",
    "            nn.Tanh(),\n",
    "            nn.Linear(3*84, self.num_classes)\n",
    "        )\n",
    "\n",
    "\n",
    "    def forward(self, x):\n",
    "      x = self.features(x)\n",
    "      logits = self.classifier(x)\n",
    "      return logits\n",
    "\n",
    "model = LeNet5(NUM_CLASSES)"
   ]
  },
  {
   "cell_type": "markdown",
   "metadata": {
    "id": "saYGWU8zHdne"
   },
   "source": [
    "Apply the model on an image"
   ]
  },
  {
   "cell_type": "code",
   "execution_count": null,
   "metadata": {
    "id": "xUGliDLeze9u"
   },
   "outputs": [],
   "source": [
    "loss_fn = nn.CrossEntropyLoss()\n",
    "optimizer = torch.optim.Adam(model.parameters(), lr=LEARNING_RATE)"
   ]
  },
  {
   "cell_type": "code",
   "execution_count": null,
   "metadata": {
    "id": "oCfFg8hbzfrf"
   },
   "outputs": [],
   "source": [
    "def train_loop(dataloader, model, loss_fn, optimizer):\n",
    "    size = len(dataloader.dataset)\n",
    "    for batch, (X, y) in enumerate(dataloader):\n",
    "        # Compute prediction and loss\n",
    "        pred = model(X)\n",
    "        loss = loss_fn(pred, y)\n",
    "\n",
    "        # Backpropagation\n",
    "        optimizer.zero_grad()\n",
    "        loss.backward()\n",
    "        optimizer.step()\n",
    "\n",
    "        if batch % 100 == 0:\n",
    "            loss, current = loss.item(), batch * len(X)\n",
    "            print(f\"loss: {loss:>7f}  [{current:>5d}/{size:>5d}]\")\n",
    "\n",
    "\n",
    "def test_loop(dataloader, model, loss_fn):\n",
    "    size = len(dataloader.dataset)\n",
    "    num_batches = len(dataloader)\n",
    "    test_loss, correct = 0, 0\n",
    "\n",
    "    with torch.no_grad():\n",
    "        for X, y in dataloader:\n",
    "            pred = model(X)\n",
    "            test_loss += loss_fn(pred, y).item()\n",
    "            correct += (pred.argmax(1) == y).sum().item()\n",
    "\n",
    "    test_loss /= num_batches\n",
    "    correct /= size\n",
    "    print(f\"Test Error: \\n Accuracy: {(100*correct):>0.1f}%, Avg loss: {test_loss:>8f} \\n\")"
   ]
  },
  {
   "cell_type": "code",
   "execution_count": null,
   "metadata": {
    "colab": {
     "base_uri": "https://localhost:8080/"
    },
    "id": "zNZxtibx6Coz",
    "outputId": "84667e10-d1d1-426d-fb4c-0f4dd9cd9e3b"
   },
   "outputs": [
    {
     "name": "stdout",
     "output_type": "stream",
     "text": [
      "Epoch 1\n",
      "-------------------------------\n",
      "loss: 2.306655  [    0/50000]\n",
      "loss: 1.612821  [12800/50000]\n",
      "loss: 1.499798  [25600/50000]\n",
      "loss: 1.417957  [38400/50000]\n",
      "Test Error: \n",
      " Accuracy: 47.8%, Avg loss: 1.432063 \n",
      "\n",
      "Epoch 2\n",
      "-------------------------------\n",
      "loss: 1.521928  [    0/50000]\n",
      "loss: 1.587631  [12800/50000]\n",
      "loss: 1.336206  [25600/50000]\n",
      "loss: 1.337718  [38400/50000]\n",
      "Test Error: \n",
      " Accuracy: 53.1%, Avg loss: 1.335955 \n",
      "\n",
      "Epoch 3\n",
      "-------------------------------\n",
      "loss: 1.227350  [    0/50000]\n",
      "loss: 1.276722  [12800/50000]\n",
      "loss: 1.187620  [25600/50000]\n",
      "loss: 1.143427  [38400/50000]\n",
      "Test Error: \n",
      " Accuracy: 55.5%, Avg loss: 1.251594 \n",
      "\n",
      "Epoch 4\n",
      "-------------------------------\n",
      "loss: 1.198739  [    0/50000]\n",
      "loss: 1.228100  [12800/50000]\n",
      "loss: 1.153681  [25600/50000]\n",
      "loss: 1.302835  [38400/50000]\n",
      "Test Error: \n",
      " Accuracy: 57.3%, Avg loss: 1.205092 \n",
      "\n",
      "Epoch 5\n",
      "-------------------------------\n",
      "loss: 1.148103  [    0/50000]\n",
      "loss: 0.987750  [12800/50000]\n",
      "loss: 1.215715  [25600/50000]\n",
      "loss: 1.129617  [38400/50000]\n",
      "Test Error: \n",
      " Accuracy: 60.2%, Avg loss: 1.121170 \n",
      "\n",
      "Done!\n"
     ]
    }
   ],
   "source": [
    "for t in range(NUM_EPOCHS):\n",
    "    print(f\"Epoch {t+1}\\n-------------------------------\")\n",
    "    train_loop(train_loader, model, loss_fn, optimizer)\n",
    "    test_loop(val_loader, model, loss_fn)\n",
    "print(\"Done!\")"
   ]
  },
  {
   "cell_type": "code",
   "execution_count": null,
   "metadata": {
    "colab": {
     "base_uri": "https://localhost:8080/"
    },
    "id": "nxd6YQyUXlen",
    "outputId": "b605c556-d6c5-45ea-a9c7-6d71f19289c7"
   },
   "outputs": [
    {
     "name": "stdout",
     "output_type": "stream",
     "text": [
      "Label = 9\n",
      "Prediction = tensor([[-0.1624,  1.3433, -1.1425, -2.4824, -1.1832, -0.5600, -3.7437,  2.0615,\n",
      "         -2.5818,  7.4315]], grad_fn=<AddmmBackward0>)\n"
     ]
    }
   ],
   "source": [
    "image, label = train_dataset[1]\n",
    "\n",
    "print(\"Label =\", label)\n",
    "\n",
    "print(\"Prediction =\", model(image.unsqueeze(axis=0)))"
   ]
  },
  {
   "cell_type": "markdown",
   "metadata": {
    "id": "EfsgLYVlQJIA"
   },
   "source": [
    "# Exercise\n",
    "\n",
    "1. Modify the model to have at least **3 convolution layers** and **3 Max-pooling layers** (and possibly some batch normalization and some dropout layers)\n",
    "2. Change the activation function from Tanh to other functions (see [Pytorch documentation](https://pytorch.org/docs/stable/nn.html#non-linear-activations-weighted-sum-nonlinearity))\n",
    "3. Your model must have more than 69% accuracy on validation set."
   ]
  },
  {
   "cell_type": "code",
   "execution_count": null,
   "metadata": {
    "id": "bVBuPMflho9v"
   },
   "outputs": [],
   "source": []
  }
 ],
 "metadata": {
  "accelerator": "GPU",
  "colab": {
   "provenance": []
  },
  "kernelspec": {
   "display_name": "Python 3 (ipykernel)",
   "language": "python",
   "name": "python3"
  },
  "language_info": {
   "codemirror_mode": {
    "name": "ipython",
    "version": 3
   },
   "file_extension": ".py",
   "mimetype": "text/x-python",
   "name": "python",
   "nbconvert_exporter": "python",
   "pygments_lexer": "ipython3",
   "version": "3.10.12"
  }
 },
 "nbformat": 4,
 "nbformat_minor": 4
}
