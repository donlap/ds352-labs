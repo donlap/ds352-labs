{
  "nbformat": 4,
  "nbformat_minor": 0,
  "metadata": {
    "colab": {
      "provenance": []
    },
    "kernelspec": {
      "name": "python3",
      "display_name": "Python 3"
    },
    "language_info": {
      "name": "python"
    },
    "accelerator": "GPU"
  },
  "cells": [
    {
      "cell_type": "code",
      "source": [
        "import torch\n",
        "import torch.nn as nn"
      ],
      "metadata": {
        "id": "zf4A_acgttVI"
      },
      "execution_count": null,
      "outputs": []
    },
    {
      "cell_type": "markdown",
      "source": [
        "### Stacking layer with `nn.Sequential`"
      ],
      "metadata": {
        "id": "0latKPFtv9H3"
      }
    },
    {
      "cell_type": "code",
      "execution_count": null,
      "metadata": {
        "id": "bSz1K-kFtiCQ"
      },
      "outputs": [],
      "source": [
        "class SimpleNN(nn.Module):\n",
        "    def __init__(self):\n",
        "        super(SimpleNN, self).__init__()\n",
        "        self.flatten = nn.Flatten()\n",
        "        self.linear_stack = nn.Sequential(nn.Linear(28*28, 512),\n",
        "                                          nn.ReLU(),\n",
        "                                          nn.Linear(512, 512),\n",
        "                                          nn.ReLU(),\n",
        "                                          nn.Linear(512, 10))\n",
        "\n",
        "    def forward(self, x):\n",
        "        x = self.flatten(x)\n",
        "        logits = self.linear_stack(x)\n",
        "        return logits\n",
        "\n",
        "\n",
        "model = SimpleNN()"
      ]
    },
    {
      "cell_type": "markdown",
      "source": [
        "### Model's prediction of an instance"
      ],
      "metadata": {
        "id": "5dy7nJbkwHO-"
      }
    },
    {
      "cell_type": "code",
      "source": [
        "x = torch.rand(28, 28, 1)\n",
        "\n",
        "x_us = x.unsqueeze(axis=0)\n",
        "print(x_us.shape)\n",
        "\n",
        "model(x_us)"
      ],
      "metadata": {
        "id": "9N-UH6GXt1iN"
      },
      "execution_count": null,
      "outputs": []
    },
    {
      "cell_type": "markdown",
      "source": [
        "# Image classification with LeNet-5\n",
        "\n",
        "![lenet5](http://d2l.ai/_images/lenet.svg)"
      ],
      "metadata": {
        "id": "4gY2qk9axKLJ"
      }
    },
    {
      "cell_type": "code",
      "source": [
        "import torch\n",
        "import torch.nn as nn\n",
        "from torch.utils.data import DataLoader\n",
        "\n",
        "from torchvision import datasets\n",
        "from torchvision import transforms\n",
        "\n",
        "import matplotlib.pyplot as plt"
      ],
      "metadata": {
        "id": "tnLaTtoat9Dl"
      },
      "execution_count": null,
      "outputs": []
    },
    {
      "cell_type": "code",
      "source": [
        "# Hyperparameters\n",
        "LEARNING_RATE = 0.001\n",
        "BATCH_SIZE = 128\n",
        "NUM_EPOCHS = 5\n",
        "\n",
        "# Classification\n",
        "NUM_CLASSES = 10"
      ],
      "metadata": {
        "id": "il1gJukrzJei"
      },
      "execution_count": null,
      "outputs": []
    },
    {
      "cell_type": "markdown",
      "source": [
        "# CIFAR10 dataset\n",
        "\n",
        "Classify (32x32x3) images into 10 classes\n",
        "\n",
        "Here, `train_dataset` and `val_dataset` are `(image, label)` generators"
      ],
      "metadata": {
        "id": "abwqzWkkE6Rr"
      }
    },
    {
      "cell_type": "code",
      "source": [
        "train_dataset = datasets.CIFAR10(root='data',\n",
        "                                 train=True,\n",
        "                                 transform=transforms.ToTensor(),\n",
        "                                 download=True)\n",
        "\n",
        "val_dataset = datasets.CIFAR10(root='data',\n",
        "                                train=False,\n",
        "                                transform=transforms.ToTensor())"
      ],
      "metadata": {
        "id": "03k3ZjnCzRCB"
      },
      "execution_count": null,
      "outputs": []
    },
    {
      "cell_type": "markdown",
      "source": [
        "Look at an image in the dataset"
      ],
      "metadata": {
        "id": "ed-tHQC1nDTD"
      }
    },
    {
      "cell_type": "code",
      "source": [
        "image, label = train_dataset[1]\n",
        "\n",
        "print(image.shape)\n",
        "\n",
        "plt.imshow(image.permute(1, 2, 0))"
      ],
      "metadata": {
        "id": "-EczeB3sGBuK"
      },
      "execution_count": null,
      "outputs": []
    },
    {
      "cell_type": "markdown",
      "source": [
        "# Data augmentation\n",
        "\n",
        "![augmentation](https://miro.medium.com/max/700/0*LR1ZQucYW96prDte)"
      ],
      "metadata": {
        "id": "VEJoUtruCBGP"
      }
    },
    {
      "cell_type": "markdown",
      "source": [
        "See more transformations in [Pytorch documentation](https://pytorch.org/vision/0.9/transforms.html)"
      ],
      "metadata": {
        "id": "TYj9b6ADLydR"
      }
    },
    {
      "cell_type": "code",
      "source": [
        "train_transform = transforms.Compose([transforms.RandomHorizontalFlip(),\n",
        "                                      transforms.RandomResizedCrop((32, 32),\n",
        "                                                                   scale=(0.7,0.8),\n",
        "                                                                   ratio=(0.6,0.7)),\n",
        "                                     transforms.ToTensor()\n",
        "                                     ])\n",
        "\n",
        "train_dataset = datasets.CIFAR10(root='data',\n",
        "                                 train=True,\n",
        "                                 transform=train_transform,\n",
        "                                 download=True)\n",
        "\n",
        "val_dataset = datasets.CIFAR10(root='data',\n",
        "                                train=False,\n",
        "                                transform=transforms.ToTensor())"
      ],
      "metadata": {
        "id": "58W6orzSNzjv"
      },
      "execution_count": null,
      "outputs": []
    },
    {
      "cell_type": "code",
      "source": [
        "image, labels = train_dataset[6]\n",
        "plt.imshow(image.permute(1,2,0))"
      ],
      "metadata": {
        "id": "3mAy7rXbO9Yu"
      },
      "execution_count": null,
      "outputs": []
    },
    {
      "cell_type": "markdown",
      "source": [
        "Use `DataLoader` to split the dataset into minibatches."
      ],
      "metadata": {
        "id": "YQAF-_gD_iyW"
      }
    },
    {
      "cell_type": "code",
      "source": [
        "train_loader = DataLoader(dataset=train_dataset,\n",
        "                          batch_size=BATCH_SIZE,\n",
        "                          num_workers=2,\n",
        "                          shuffle=True)\n",
        "\n",
        "val_loader = DataLoader(dataset=val_dataset,\n",
        "                         batch_size=BATCH_SIZE,\n",
        "                         num_workers=2,\n",
        "                         shuffle=False)\n"
      ],
      "metadata": {
        "id": "7X6Te4-R_fXG"
      },
      "execution_count": null,
      "outputs": []
    },
    {
      "cell_type": "markdown",
      "source": [
        "Check the size of each minibatch"
      ],
      "metadata": {
        "id": "5Edats3xmjJl"
      }
    },
    {
      "cell_type": "code",
      "source": [
        "for images, labels in train_loader:\n",
        "  print(images.shape)\n",
        "  break"
      ],
      "metadata": {
        "id": "r2w6bDzlmgHf"
      },
      "execution_count": null,
      "outputs": []
    },
    {
      "cell_type": "markdown",
      "source": [
        "# LeNet5\n",
        "\n",
        "![lenet5](http://d2l.ai/_images/lenet.svg)"
      ],
      "metadata": {
        "id": "xhkEwwbU-6e9"
      }
    },
    {
      "cell_type": "code",
      "source": [
        "class LeNet5(nn.Module):\n",
        "\n",
        "    def __init__(self, num_classes):\n",
        "        super(LeNet5, self).__init__()\n",
        "\n",
        "        self.num_classes = num_classes\n",
        "\n",
        "        self.features = nn.Sequential(\n",
        "            # Input shape = 28 x 28 x 3\n",
        "            nn.Conv2d(in_channels=3, out_channels=6*3, kernel_size=5),\n",
        "            # Output shape = 28 - (5 - 1) = 24\n",
        "            nn.Dropout(0.2),\n",
        "            nn.BatchNorm2d(6*3),\n",
        "            nn.Tanh(),\n",
        "            nn.MaxPool2d(kernel_size=3),\n",
        "            # shape = 24/3 = 8\n",
        "            nn.Conv2d(in_channels=6*3, out_channels=16*3, kernel_size=5),\n",
        "            # shape = 8 - (5 - 1) = 4\n",
        "            nn.Tanh(),\n",
        "            nn.MaxPool2d(kernel_size=2)\n",
        "            # shape = 4/2 = 2\n",
        "        )\n",
        "\n",
        "        self.classifier = nn.Sequential(\n",
        "            nn.Flatten(),\n",
        "            nn.Linear(16*2*2*3, 3*120),\n",
        "            nn.Tanh(),\n",
        "            nn.Linear(3*120, 3*84),\n",
        "            nn.Tanh(),\n",
        "            nn.Linear(3*84, self.num_classes)\n",
        "        )\n",
        "\n",
        "\n",
        "    def forward(self, x):\n",
        "      x = self.features(x)\n",
        "      logits = self.classifier(x)\n",
        "      return logits\n",
        "\n",
        "model = LeNet5(NUM_CLASSES)"
      ],
      "metadata": {
        "id": "sYhBlQUhzX_S"
      },
      "execution_count": null,
      "outputs": []
    },
    {
      "cell_type": "markdown",
      "source": [
        "Apply the model on an image"
      ],
      "metadata": {
        "id": "saYGWU8zHdne"
      }
    },
    {
      "cell_type": "code",
      "source": [
        "loss_fn = nn.CrossEntropyLoss()\n",
        "optimizer = torch.optim.Adam(model.parameters(), lr=LEARNING_RATE)"
      ],
      "metadata": {
        "id": "xUGliDLeze9u"
      },
      "execution_count": null,
      "outputs": []
    },
    {
      "cell_type": "code",
      "source": [
        "def train_loop(dataloader, model, loss_fn, optimizer):\n",
        "    size = len(dataloader.dataset)\n",
        "    for batch, (X, y) in enumerate(dataloader):\n",
        "        # Compute prediction and loss\n",
        "        pred = model(X)\n",
        "        loss = loss_fn(pred, y)\n",
        "\n",
        "        # Backpropagation\n",
        "        optimizer.zero_grad()\n",
        "        loss.backward()\n",
        "        optimizer.step()\n",
        "\n",
        "        if batch % 100 == 0:\n",
        "            loss, current = loss.item(), batch * len(X)\n",
        "            print(f\"loss: {loss:>7f}  [{current:>5d}/{size:>5d}]\")\n",
        "\n",
        "\n",
        "def test_loop(dataloader, model, loss_fn):\n",
        "    size = len(dataloader.dataset)\n",
        "    num_batches = len(dataloader)\n",
        "    test_loss, correct = 0, 0\n",
        "\n",
        "    with torch.no_grad():\n",
        "        for X, y in dataloader:\n",
        "            pred = model(X)\n",
        "            test_loss += loss_fn(pred, y).item()\n",
        "            correct += (pred.argmax(1) == y).sum().item()\n",
        "\n",
        "    test_loss /= num_batches\n",
        "    correct /= size\n",
        "    print(f\"Test Error: \\n Accuracy: {(100*correct):>0.1f}%, Avg loss: {test_loss:>8f} \\n\")"
      ],
      "metadata": {
        "id": "oCfFg8hbzfrf"
      },
      "execution_count": null,
      "outputs": []
    },
    {
      "cell_type": "code",
      "source": [
        "for t in range(NUM_EPOCHS):\n",
        "    print(f\"Epoch {t+1}\\n-------------------------------\")\n",
        "    train_loop(train_loader, model, loss_fn, optimizer)\n",
        "    test_loop(val_loader, model, loss_fn)\n",
        "print(\"Done!\")"
      ],
      "metadata": {
        "id": "zNZxtibx6Coz",
        "colab": {
          "base_uri": "https://localhost:8080/"
        },
        "outputId": "84667e10-d1d1-426d-fb4c-0f4dd9cd9e3b"
      },
      "execution_count": null,
      "outputs": [
        {
          "output_type": "stream",
          "name": "stdout",
          "text": [
            "Epoch 1\n",
            "-------------------------------\n",
            "loss: 2.306655  [    0/50000]\n",
            "loss: 1.612821  [12800/50000]\n",
            "loss: 1.499798  [25600/50000]\n",
            "loss: 1.417957  [38400/50000]\n",
            "Test Error: \n",
            " Accuracy: 47.8%, Avg loss: 1.432063 \n",
            "\n",
            "Epoch 2\n",
            "-------------------------------\n",
            "loss: 1.521928  [    0/50000]\n",
            "loss: 1.587631  [12800/50000]\n",
            "loss: 1.336206  [25600/50000]\n",
            "loss: 1.337718  [38400/50000]\n",
            "Test Error: \n",
            " Accuracy: 53.1%, Avg loss: 1.335955 \n",
            "\n",
            "Epoch 3\n",
            "-------------------------------\n",
            "loss: 1.227350  [    0/50000]\n",
            "loss: 1.276722  [12800/50000]\n",
            "loss: 1.187620  [25600/50000]\n",
            "loss: 1.143427  [38400/50000]\n",
            "Test Error: \n",
            " Accuracy: 55.5%, Avg loss: 1.251594 \n",
            "\n",
            "Epoch 4\n",
            "-------------------------------\n",
            "loss: 1.198739  [    0/50000]\n",
            "loss: 1.228100  [12800/50000]\n",
            "loss: 1.153681  [25600/50000]\n",
            "loss: 1.302835  [38400/50000]\n",
            "Test Error: \n",
            " Accuracy: 57.3%, Avg loss: 1.205092 \n",
            "\n",
            "Epoch 5\n",
            "-------------------------------\n",
            "loss: 1.148103  [    0/50000]\n",
            "loss: 0.987750  [12800/50000]\n",
            "loss: 1.215715  [25600/50000]\n",
            "loss: 1.129617  [38400/50000]\n",
            "Test Error: \n",
            " Accuracy: 60.2%, Avg loss: 1.121170 \n",
            "\n",
            "Done!\n"
          ]
        }
      ]
    },
    {
      "cell_type": "code",
      "source": [
        "image, label = train_dataset[1]\n",
        "\n",
        "print(\"Label =\", label)\n",
        "\n",
        "print(\"Prediction =\", model(image.unsqueeze(axis=0)))"
      ],
      "metadata": {
        "colab": {
          "base_uri": "https://localhost:8080/"
        },
        "id": "nxd6YQyUXlen",
        "outputId": "b605c556-d6c5-45ea-a9c7-6d71f19289c7"
      },
      "execution_count": null,
      "outputs": [
        {
          "output_type": "stream",
          "name": "stdout",
          "text": [
            "Label = 9\n",
            "Prediction = tensor([[-0.1624,  1.3433, -1.1425, -2.4824, -1.1832, -0.5600, -3.7437,  2.0615,\n",
            "         -2.5818,  7.4315]], grad_fn=<AddmmBackward0>)\n"
          ]
        }
      ]
    },
    {
      "cell_type": "markdown",
      "source": [
        "# Exercise\n",
        "\n",
        "1. Modify the model to have at least **3 convolution layers** and **3 Max-pooling layers** (and possibly some batch normalization and some dropout layers)\n",
        "2. Change the activation function from Tanh to other functions (see [Pytorch documentation](https://pytorch.org/docs/stable/nn.html#non-linear-activations-weighted-sum-nonlinearity))\n",
        "3. Your model must have more than 69% accuracy on validation set."
      ],
      "metadata": {
        "id": "EfsgLYVlQJIA"
      }
    },
    {
      "cell_type": "code",
      "source": [],
      "metadata": {
        "id": "bVBuPMflho9v"
      },
      "execution_count": null,
      "outputs": []
    }
  ]
}