{
 "cells": [
  {
   "cell_type": "markdown",
   "metadata": {
    "id": "p66yvE_BimNE"
   },
   "source": [
    "# Lists"
   ]
  },
  {
   "cell_type": "code",
   "execution_count": 1,
   "metadata": {
    "id": "HDHxXRfyqnS9"
   },
   "outputs": [],
   "source": [
    "mylist = [1, 2, 3, 5]"
   ]
  },
  {
   "cell_type": "markdown",
   "metadata": {
    "id": "0X9k_isqi0Pn"
   },
   "source": [
    "## Adding two lists"
   ]
  },
  {
   "cell_type": "code",
   "execution_count": 2,
   "metadata": {
    "colab": {
     "base_uri": "https://localhost:8080/"
    },
    "id": "8wsKIhYnrAKw",
    "outputId": "d5596af3-42ca-4309-b83c-e7cdb9c41db3"
   },
   "outputs": [
    {
     "data": {
      "text/plain": [
       "[1, 2, 4, 2, 3, 4, 5]"
      ]
     },
     "execution_count": 2,
     "metadata": {},
     "output_type": "execute_result"
    }
   ],
   "source": [
    "listone = [1, 2, 4]\n",
    "listtwo = [2, 3, 4, 5]\n",
    "\n",
    "listone + listtwo"
   ]
  },
  {
   "cell_type": "markdown",
   "metadata": {
    "id": "EFuXWFqBrBpU"
   },
   "source": [
    "## Scalar multiplications"
   ]
  },
  {
   "cell_type": "code",
   "execution_count": 3,
   "metadata": {
    "colab": {
     "base_uri": "https://localhost:8080/"
    },
    "id": "JwIUAuderH89",
    "outputId": "437b3c95-ce94-4d79-fbc2-109585c0df7c"
   },
   "outputs": [
    {
     "data": {
      "text/plain": [
       "[1, 2, 4, 1, 2, 4, 1, 2, 4]"
      ]
     },
     "execution_count": 3,
     "metadata": {},
     "output_type": "execute_result"
    }
   ],
   "source": [
    "listone * 3"
   ]
  },
  {
   "cell_type": "code",
   "execution_count": 5,
   "metadata": {},
   "outputs": [
    {
     "data": {
      "text/plain": [
       "[0, 0, 0, 0, 0, 0, 0, 0, 0, 0]"
      ]
     },
     "execution_count": 5,
     "metadata": {},
     "output_type": "execute_result"
    }
   ],
   "source": [
    "[0] * 10"
   ]
  },
  {
   "cell_type": "markdown",
   "metadata": {
    "id": "LSKFXgqtrKvo"
   },
   "source": [
    "## `in` and `not in`"
   ]
  },
  {
   "cell_type": "code",
   "execution_count": 7,
   "metadata": {
    "colab": {
     "base_uri": "https://localhost:8080/"
    },
    "id": "UmH8Dzjxih0U",
    "outputId": "4fb253d0-3538-4e8d-f735-4a1108ba2ad8"
   },
   "outputs": [
    {
     "data": {
      "text/plain": [
       "True"
      ]
     },
     "execution_count": 7,
     "metadata": {},
     "output_type": "execute_result"
    }
   ],
   "source": [
    "mylist = [1, 3, 4, 5, 6, 7]\n",
    "\n",
    "2 not in mylist"
   ]
  },
  {
   "cell_type": "markdown",
   "metadata": {
    "id": "R9ySU2insMsU"
   },
   "source": [
    "## List comprehensions \n",
    "\n",
    "### Example: create a list of `[1,4,9...,10000]`"
   ]
  },
  {
   "cell_type": "code",
   "execution_count": 9,
   "metadata": {
    "colab": {
     "base_uri": "https://localhost:8080/"
    },
    "id": "aUF1RUQRGr5Z",
    "outputId": "f5da59af-0237-4260-ef42-00c36442a6a1"
   },
   "outputs": [
    {
     "data": {
      "text/plain": [
       "[1, 4, 9, 16, 25, 36, 49, 64]"
      ]
     },
     "execution_count": 9,
     "metadata": {},
     "output_type": "execute_result"
    }
   ],
   "source": [
    "[n ** 2 for n in range(1, 9)]"
   ]
  },
  {
   "cell_type": "markdown",
   "metadata": {
    "id": "2_aR-IOAsqjt"
   },
   "source": [
    "## List indexing"
   ]
  },
  {
   "cell_type": "code",
   "execution_count": 17,
   "metadata": {
    "colab": {
     "base_uri": "https://localhost:8080/"
    },
    "id": "_kg9kJTzts-S",
    "outputId": "754ecfee-3a12-482b-f43c-8e3dce64810c"
   },
   "outputs": [
    {
     "data": {
      "text/plain": [
       "[10, 9, 8, 7, 6, 5, 4, 3, 2, 1, 0]"
      ]
     },
     "execution_count": 17,
     "metadata": {},
     "output_type": "execute_result"
    }
   ],
   "source": [
    "mylist = [0, 1, 2, 3, 4, 5, 6, 7, 8, 9, 10]\n",
    "\n",
    "mylist[2]\n",
    "\n",
    "mylist[:]\n",
    "mylist[1:]\n",
    "mylist[:-1]\n",
    "mylist[2:-2]\n",
    "\n",
    "mylist[::2]\n",
    "mylist[1:9:2]\n",
    "mylist[::-1]"
   ]
  },
  {
   "cell_type": "markdown",
   "metadata": {
    "id": "nrAZI7okuJdd"
   },
   "source": [
    "## Changing a value"
   ]
  },
  {
   "cell_type": "code",
   "execution_count": 18,
   "metadata": {
    "colab": {
     "base_uri": "https://localhost:8080/"
    },
    "id": "PyIPYTSMuNT1",
    "outputId": "51080729-d074-4754-e32f-4cfe8462b29c"
   },
   "outputs": [
    {
     "data": {
      "text/plain": [
       "[0, 1, 'Two', 3, 4, 5, 6]"
      ]
     },
     "execution_count": 18,
     "metadata": {},
     "output_type": "execute_result"
    }
   ],
   "source": [
    "mylist = [0, 1, 2, 3, 4, 5, 6]\n",
    "\n",
    "mylist[2] = \"Two\"\n",
    "\n",
    "mylist"
   ]
  },
  {
   "cell_type": "markdown",
   "metadata": {
    "id": "EpspfLe97PUR"
   },
   "source": [
    "## Number of elements"
   ]
  },
  {
   "cell_type": "code",
   "execution_count": 19,
   "metadata": {
    "colab": {
     "base_uri": "https://localhost:8080/"
    },
    "id": "Fbnrl9PH7cYZ",
    "outputId": "a75cbd5a-cd34-4533-ab83-c2d3229b8528"
   },
   "outputs": [
    {
     "data": {
      "text/plain": [
       "7"
      ]
     },
     "execution_count": 19,
     "metadata": {},
     "output_type": "execute_result"
    }
   ],
   "source": [
    "mylist = [0,1,2,3,4,5,6]\n",
    "\n",
    "len(mylist)"
   ]
  },
  {
   "cell_type": "markdown",
   "metadata": {
    "id": "gRmam3c6I4vD"
   },
   "source": [
    "## Adding (appending) element"
   ]
  },
  {
   "cell_type": "code",
   "execution_count": 20,
   "metadata": {
    "colab": {
     "base_uri": "https://localhost:8080/"
    },
    "id": "Wxs7mZ9nI8m8",
    "outputId": "4fdf8485-480b-4d8c-d47a-79f6dafa2839"
   },
   "outputs": [
    {
     "data": {
      "text/plain": [
       "[2, 5, 2]"
      ]
     },
     "execution_count": 20,
     "metadata": {},
     "output_type": "execute_result"
    }
   ],
   "source": [
    "a = [2,5]\n",
    "\n",
    "a.append(2)\n",
    "\n",
    "a"
   ]
  },
  {
   "cell_type": "markdown",
   "metadata": {
    "id": "bp4Cg9HE7kNk"
   },
   "source": [
    "## Removing elements"
   ]
  },
  {
   "cell_type": "code",
   "execution_count": 21,
   "metadata": {
    "colab": {
     "base_uri": "https://localhost:8080/"
    },
    "id": "qLt8YbYz7rlX",
    "outputId": "e5488992-157e-4166-a5bd-f89b5f8aac39"
   },
   "outputs": [
    {
     "data": {
      "text/plain": [
       "[1, 2, 3, 4]"
      ]
     },
     "execution_count": 21,
     "metadata": {},
     "output_type": "execute_result"
    }
   ],
   "source": [
    "mylist = [1, 2, 3, 4, 5]\n",
    "\n",
    "mylist.remove(5)\n",
    "\n",
    "mylist"
   ]
  },
  {
   "cell_type": "code",
   "execution_count": 22,
   "metadata": {
    "colab": {
     "base_uri": "https://localhost:8080/"
    },
    "id": "AGOOM7YK73eX",
    "outputId": "147f2e60-a910-4f1d-f5e7-362ca1a365a9"
   },
   "outputs": [
    {
     "data": {
      "text/plain": [
       "[1, 3, 4]"
      ]
     },
     "execution_count": 22,
     "metadata": {},
     "output_type": "execute_result"
    }
   ],
   "source": [
    "del mylist[1]\n",
    "\n",
    "mylist\n"
   ]
  },
  {
   "cell_type": "markdown",
   "metadata": {
    "id": "9FJpaQitv7B1"
   },
   "source": [
    "# Tuples"
   ]
  },
  {
   "cell_type": "code",
   "execution_count": null,
   "metadata": {
    "id": "rt9OPQQIv-IT"
   },
   "outputs": [],
   "source": [
    "mytuple = (1, 3, 5, 6)\n",
    "\n"
   ]
  },
  {
   "cell_type": "markdown",
   "metadata": {
    "id": "9hd5YJqVxjyg"
   },
   "source": [
    "## Tuple indexing"
   ]
  },
  {
   "cell_type": "code",
   "execution_count": 23,
   "metadata": {
    "colab": {
     "base_uri": "https://localhost:8080/"
    },
    "id": "9an58avvxPYE",
    "outputId": "9f83b1e4-e483-4927-9dad-7238951307cc"
   },
   "outputs": [
    {
     "data": {
      "text/plain": [
       "3"
      ]
     },
     "execution_count": 23,
     "metadata": {},
     "output_type": "execute_result"
    }
   ],
   "source": [
    "mytuple = (1, 2, 3, 4, 5, 6)\n",
    "\n",
    "mytuple[2]"
   ]
  },
  {
   "cell_type": "markdown",
   "metadata": {
    "id": "GmvxKNouuMid"
   },
   "source": [
    "## `in` and `not in`"
   ]
  },
  {
   "cell_type": "code",
   "execution_count": 24,
   "metadata": {
    "colab": {
     "base_uri": "https://localhost:8080/"
    },
    "id": "59QQ8VziyCw0",
    "outputId": "83e0e2c5-a4ce-4a00-d2fb-73fd67121ada"
   },
   "outputs": [
    {
     "data": {
      "text/plain": [
       "False"
      ]
     },
     "execution_count": 24,
     "metadata": {},
     "output_type": "execute_result"
    }
   ],
   "source": [
    "mytuple = (1, 3, 4, 5, 6)\n",
    "\n",
    "2 in mytuple"
   ]
  },
  {
   "cell_type": "markdown",
   "metadata": {
    "id": "pbLry4r7umaI"
   },
   "source": [
    "## Functions return multiple values as a tuples"
   ]
  },
  {
   "cell_type": "code",
   "execution_count": 25,
   "metadata": {
    "id": "1OUjDs2YtW0h"
   },
   "outputs": [],
   "source": [
    "def func(a, b): #a and b are floats\n",
    "    x = a + b\n",
    "    y = a - b\n",
    "\n",
    "    return x, y"
   ]
  },
  {
   "cell_type": "code",
   "execution_count": 26,
   "metadata": {
    "colab": {
     "base_uri": "https://localhost:8080/"
    },
    "id": "Un1Tzvr5zNnq",
    "outputId": "b5e0d9c7-a6d5-42ba-b022-9c9f89923f6d"
   },
   "outputs": [
    {
     "name": "stdout",
     "output_type": "stream",
     "text": [
      "4 -2\n"
     ]
    }
   ],
   "source": [
    "n, m = func(1, 3)\n",
    "\n",
    "print(n, m)"
   ]
  },
  {
   "cell_type": "markdown",
   "metadata": {
    "id": "Kh2SS7Sb0XER"
   },
   "source": [
    "# Dictionaries"
   ]
  },
  {
   "cell_type": "markdown",
   "metadata": {
    "id": "ehU223Kt0ow6"
   },
   "source": [
    "สมมติว่าทางมหาวิทยาลัยวางแผนการเก็บข้อมูล **รหัสนักศึกษา** และ **ชื่อ-นามสกุล** ของนักศึกษา เราอาจจะลองเก็บข้อมูลให้อยู่ในรูปของ tuple: \n",
    "```\n",
    "student1 = (690100101 , \"Peter Piper\")\n",
    "```\n",
    "สามารถดึงรหัสของนักศึกษาโดยใช้ `student1[0]` และดึงชื่อด้วย `student1[1]` \n",
    "```\n",
    "student1[0]\n",
    "out: 690100101\n",
    "student1[1]\n",
    "out: \"Peter Piper\"\n",
    "```\n",
    "แต่บางครั้งเราก็อยากจะดึงชื่อของนักศึกษาโดยใช้รหัสนักศึกษา ตัวอย่างเช่น \n",
    "```\n",
    "student1[690100101]\n",
    "out: \"Peter Piper\"\n",
    "```\n",
    "เราสามารถทำได้โดยการเก็บข้อมูลไว้ใน **dictionary** แทน"
   ]
  },
  {
   "cell_type": "code",
   "execution_count": 27,
   "metadata": {
    "id": "wJtvjTWJ3YzR"
   },
   "outputs": [],
   "source": [
    "students = {101: \"Peter Parker\", 102: \"Mary Jane\"}"
   ]
  },
  {
   "cell_type": "markdown",
   "metadata": {
    "id": "7MX6sNKh3vqh"
   },
   "source": [
    "dictionary ประกอบไปด้วย 2 ส่วน: **key** (`101`, `102`) และ **value** (`\"Peter Piper\"`, `\"Mary Jane\"`) โดยที่การเรียก key ใน dictionary นั้น เปรียบเสมือนการไขกุญแจเพื่อเรียก value ที่มากับ key นั้น"
   ]
  },
  {
   "cell_type": "code",
   "execution_count": 29,
   "metadata": {
    "colab": {
     "base_uri": "https://localhost:8080/",
     "height": 35
    },
    "id": "WSDWLZ8mvfrL",
    "outputId": "3f15f7d5-bec3-4471-ac7c-43b99718fc94"
   },
   "outputs": [
    {
     "data": {
      "text/plain": [
       "'Mary Jane'"
      ]
     },
     "execution_count": 29,
     "metadata": {},
     "output_type": "execute_result"
    }
   ],
   "source": [
    "students[102]"
   ]
  },
  {
   "cell_type": "markdown",
   "metadata": {
    "id": "NiJpKXJv58BJ"
   },
   "source": [
    "## Adding/Modifying values of dict"
   ]
  },
  {
   "cell_type": "code",
   "execution_count": 30,
   "metadata": {
    "colab": {
     "base_uri": "https://localhost:8080/"
    },
    "id": "PtrfXZNG6d0B",
    "outputId": "d348b2be-8a35-4e96-8bd2-4736c5ba3145"
   },
   "outputs": [
    {
     "data": {
      "text/plain": [
       "{101: 'Peter Parker', 102: 'Mary Jane', 103: 'Jeehun'}"
      ]
     },
     "execution_count": 30,
     "metadata": {},
     "output_type": "execute_result"
    }
   ],
   "source": [
    "students[103] = \"Jeehun\"\n",
    "\n",
    "students"
   ]
  },
  {
   "cell_type": "code",
   "execution_count": 31,
   "metadata": {
    "colab": {
     "base_uri": "https://localhost:8080/"
    },
    "id": "P2UY3u4_6iC1",
    "outputId": "4731d035-a7e9-4d1a-958d-2e6665a1b04c"
   },
   "outputs": [
    {
     "data": {
      "text/plain": [
       "{101: 'Peter Pan', 102: 'Mary Jane', 103: 'Jeehun'}"
      ]
     },
     "execution_count": 31,
     "metadata": {},
     "output_type": "execute_result"
    }
   ],
   "source": [
    "students[101] = \"Peter Pan\"\n",
    "\n",
    "students"
   ]
  },
  {
   "cell_type": "markdown",
   "metadata": {
    "id": "bF58ozvmBh8c"
   },
   "source": [
    "## Obtain the keys, values, and key+value pairs"
   ]
  },
  {
   "cell_type": "code",
   "execution_count": 35,
   "metadata": {
    "colab": {
     "base_uri": "https://localhost:8080/"
    },
    "id": "wohkOH1RBoa2",
    "outputId": "0bb45a97-d091-4461-db31-20938e635baa"
   },
   "outputs": [
    {
     "data": {
      "text/plain": [
       "dict_items([(101, 'Peter Pan'), (102, 'Mary Jane'), (103, 'Jeehun')])"
      ]
     },
     "execution_count": 35,
     "metadata": {},
     "output_type": "execute_result"
    }
   ],
   "source": [
    "list(students.keys())\n",
    "students.values()\n",
    "students.items()"
   ]
  },
  {
   "cell_type": "markdown",
   "metadata": {},
   "source": [
    "## Dictionary comprehension"
   ]
  },
  {
   "cell_type": "code",
   "execution_count": 36,
   "metadata": {},
   "outputs": [
    {
     "data": {
      "text/plain": [
       "{1: 1, 2: 4, 3: 9, 4: 16, 5: 25, 6: 36, 7: 49, 8: 64, 9: 81, 10: 100}"
      ]
     },
     "execution_count": 36,
     "metadata": {},
     "output_type": "execute_result"
    }
   ],
   "source": [
    "{n: n ** 2 for n in range(1, 11)}"
   ]
  },
  {
   "cell_type": "markdown",
   "metadata": {
    "id": "nOUlgUTxDOr6"
   },
   "source": [
    "## A dictionary is an implementation of a hash table \n",
    "<img src=\"https://upload.wikimedia.org/wikipedia/commons/thumb/7/7d/Hash_table_3_1_1_0_1_0_0_SP.svg/800px-Hash_table_3_1_1_0_1_0_0_SP.svg.png\" width=\"400\" height=\"300\" />"
   ]
  },
  {
   "cell_type": "markdown",
   "metadata": {
    "id": "KTwPkaU5RI09"
   },
   "source": [
    "### * การหาค่าใน list ใช้เวลา `O(n)` \n",
    "### * การหาค่าใน key ของ dictionary ใช้เวลา `O(1)` "
   ]
  }
 ],
 "metadata": {
  "colab": {
   "collapsed_sections": [],
   "provenance": []
  },
  "kernelspec": {
   "display_name": "Python 3 (ipykernel)",
   "language": "python",
   "name": "python3"
  },
  "language_info": {
   "codemirror_mode": {
    "name": "ipython",
    "version": 3
   },
   "file_extension": ".py",
   "mimetype": "text/x-python",
   "name": "python",
   "nbconvert_exporter": "python",
   "pygments_lexer": "ipython3",
   "version": "3.10.12"
  }
 },
 "nbformat": 4,
 "nbformat_minor": 4
}
