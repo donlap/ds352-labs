{
  "cells": [
    {
      "cell_type": "markdown",
      "metadata": {
        "id": "DulDhkQVeB48"
      },
      "source": [
        "### Statistical Learning for Data Science 2 (229352)\n",
        "#### Instructor: Donlapark Ponnoprat\n",
        "\n",
        "#### [Course website](https://donlapark.pages.dev/229352/)\n",
        "\n",
        "## Lab #1"
      ]
    },
    {
      "cell_type": "markdown",
      "metadata": {
        "id": "p66yvE_BimNE"
      },
      "source": [
        "# Lists"
      ]
    },
    {
      "cell_type": "code",
      "execution_count": 2,
      "metadata": {
        "id": "HDHxXRfyqnS9"
      },
      "outputs": [],
      "source": [
        "mylist = [1, 2, 3, 5, \"two\"]"
      ]
    },
    {
      "cell_type": "markdown",
      "metadata": {
        "id": "0X9k_isqi0Pn"
      },
      "source": [
        "## Adding two lists"
      ]
    },
    {
      "cell_type": "code",
      "execution_count": 3,
      "metadata": {
        "colab": {
          "base_uri": "https://localhost:8080/",
          "height": 0
        },
        "id": "8wsKIhYnrAKw",
        "outputId": "a0af5802-819d-4ec4-e17d-823c60367316"
      },
      "outputs": [
        {
          "output_type": "execute_result",
          "data": {
            "text/plain": [
              "[1, 2, 4, 2, 3, 4, 5]"
            ]
          },
          "metadata": {},
          "execution_count": 3
        }
      ],
      "source": [
        "listone = [1, 2, 4]\n",
        "listtwo = [2, 3, 4, 5]\n",
        "\n",
        "listone + listtwo"
      ]
    },
    {
      "cell_type": "markdown",
      "metadata": {
        "id": "EFuXWFqBrBpU"
      },
      "source": [
        "## Scalar multiplications"
      ]
    },
    {
      "cell_type": "code",
      "execution_count": 4,
      "metadata": {
        "colab": {
          "base_uri": "https://localhost:8080/",
          "height": 0
        },
        "id": "JwIUAuderH89",
        "outputId": "211a5278-9219-4ae0-b194-30166d14b107"
      },
      "outputs": [
        {
          "output_type": "execute_result",
          "data": {
            "text/plain": [
              "[1, 2, 4, 1, 2, 4, 1, 2, 4]"
            ]
          },
          "metadata": {},
          "execution_count": 4
        }
      ],
      "source": [
        "listone * 3"
      ]
    },
    {
      "cell_type": "code",
      "execution_count": 5,
      "metadata": {
        "id": "rKYCKJrEeB5K",
        "outputId": "9f8a1387-fb12-407c-e27f-49f35f67150d",
        "colab": {
          "base_uri": "https://localhost:8080/",
          "height": 0
        }
      },
      "outputs": [
        {
          "output_type": "execute_result",
          "data": {
            "text/plain": [
              "[0, 0, 0, 0, 0, 0, 0, 0, 0, 0]"
            ]
          },
          "metadata": {},
          "execution_count": 5
        }
      ],
      "source": [
        "[0] * 10"
      ]
    },
    {
      "cell_type": "markdown",
      "metadata": {
        "id": "LSKFXgqtrKvo"
      },
      "source": [
        "## `in` and `not in`"
      ]
    },
    {
      "cell_type": "code",
      "execution_count": 7,
      "metadata": {
        "colab": {
          "base_uri": "https://localhost:8080/",
          "height": 0
        },
        "id": "UmH8Dzjxih0U",
        "outputId": "e206dd22-f8ec-48d4-e817-a194c2035cef"
      },
      "outputs": [
        {
          "output_type": "execute_result",
          "data": {
            "text/plain": [
              "True"
            ]
          },
          "metadata": {},
          "execution_count": 7
        }
      ],
      "source": [
        "mylist = [1, 3, 4, 5, 6, 7]\n",
        "\n",
        "2 not in mylist"
      ]
    },
    {
      "cell_type": "markdown",
      "metadata": {
        "id": "R9ySU2insMsU"
      },
      "source": [
        "## List comprehensions\n",
        "\n",
        "### Example: create a list of `[1,4,9...,10000]`"
      ]
    },
    {
      "cell_type": "code",
      "execution_count": 8,
      "metadata": {
        "colab": {
          "base_uri": "https://localhost:8080/",
          "height": 0
        },
        "id": "aUF1RUQRGr5Z",
        "outputId": "2bdb3ddf-9b68-484c-897a-3c694067a396"
      },
      "outputs": [
        {
          "output_type": "execute_result",
          "data": {
            "text/plain": [
              "[0.5, 1.0, 1.5, 2.0, 2.5, 3.0, 3.5, 4.0]"
            ]
          },
          "metadata": {},
          "execution_count": 8
        }
      ],
      "source": [
        "[n/2 for n in range(1, 9)]"
      ]
    },
    {
      "cell_type": "markdown",
      "metadata": {
        "id": "2_aR-IOAsqjt"
      },
      "source": [
        "## List indexing"
      ]
    },
    {
      "cell_type": "code",
      "execution_count": 9,
      "metadata": {
        "colab": {
          "base_uri": "https://localhost:8080/",
          "height": 0
        },
        "id": "_kg9kJTzts-S",
        "outputId": "22321e71-85bf-4b0e-fe4a-5dc31891294a"
      },
      "outputs": [
        {
          "output_type": "execute_result",
          "data": {
            "text/plain": [
              "[10, 9, 8, 7, 6, 5, 4, 3, 2, 1, 0]"
            ]
          },
          "metadata": {},
          "execution_count": 9
        }
      ],
      "source": [
        "mylist = [0, 1, 2, 3, 4, 5, 6, 7, 8, 9, 10]\n",
        "\n",
        "mylist[2]\n",
        "\n",
        "mylist[:]\n",
        "mylist[1:]\n",
        "mylist[:-1]\n",
        "mylist[2:-2]\n",
        "\n",
        "mylist[::2]\n",
        "mylist[1:9:2]\n",
        "mylist[::-1]"
      ]
    },
    {
      "cell_type": "markdown",
      "metadata": {
        "id": "nrAZI7okuJdd"
      },
      "source": [
        "## Changing a value"
      ]
    },
    {
      "cell_type": "code",
      "execution_count": 10,
      "metadata": {
        "colab": {
          "base_uri": "https://localhost:8080/",
          "height": 0
        },
        "id": "PyIPYTSMuNT1",
        "outputId": "573afae7-b02f-4a3f-b36a-f69954354a14"
      },
      "outputs": [
        {
          "output_type": "execute_result",
          "data": {
            "text/plain": [
              "[0, 1, 'Two', 3, 4, 5, 6]"
            ]
          },
          "metadata": {},
          "execution_count": 10
        }
      ],
      "source": [
        "mylist = [0, 1, 2, 3, 4, 5, 6]\n",
        "\n",
        "mylist[2] = \"Two\"\n",
        "\n",
        "mylist"
      ]
    },
    {
      "cell_type": "markdown",
      "metadata": {
        "id": "EpspfLe97PUR"
      },
      "source": [
        "## Number of elements"
      ]
    },
    {
      "cell_type": "code",
      "execution_count": 11,
      "metadata": {
        "colab": {
          "base_uri": "https://localhost:8080/",
          "height": 0
        },
        "id": "Fbnrl9PH7cYZ",
        "outputId": "d67b0e7c-1c7c-4e13-e446-e49e3bc960f0"
      },
      "outputs": [
        {
          "output_type": "execute_result",
          "data": {
            "text/plain": [
              "7"
            ]
          },
          "metadata": {},
          "execution_count": 11
        }
      ],
      "source": [
        "mylist = [0,1,2,3,4,5,6]\n",
        "\n",
        "len(mylist)"
      ]
    },
    {
      "cell_type": "markdown",
      "metadata": {
        "id": "gRmam3c6I4vD"
      },
      "source": [
        "## Adding (appending) element"
      ]
    },
    {
      "cell_type": "code",
      "execution_count": 12,
      "metadata": {
        "colab": {
          "base_uri": "https://localhost:8080/",
          "height": 0
        },
        "id": "Wxs7mZ9nI8m8",
        "outputId": "8df608d8-8594-46b7-d1ab-8fe077f81108"
      },
      "outputs": [
        {
          "output_type": "execute_result",
          "data": {
            "text/plain": [
              "[2, 5, 2]"
            ]
          },
          "metadata": {},
          "execution_count": 12
        }
      ],
      "source": [
        "a = [2,5]\n",
        "\n",
        "a.append(2)\n",
        "\n",
        "a"
      ]
    },
    {
      "cell_type": "markdown",
      "metadata": {
        "id": "bp4Cg9HE7kNk"
      },
      "source": [
        "## Removing elements"
      ]
    },
    {
      "cell_type": "code",
      "execution_count": 13,
      "metadata": {
        "colab": {
          "base_uri": "https://localhost:8080/",
          "height": 0
        },
        "id": "qLt8YbYz7rlX",
        "outputId": "b16fadcb-bb90-43b3-c505-a575bfb98878"
      },
      "outputs": [
        {
          "output_type": "execute_result",
          "data": {
            "text/plain": [
              "[1, 2, 3, 4]"
            ]
          },
          "metadata": {},
          "execution_count": 13
        }
      ],
      "source": [
        "mylist = [1, 2, 3, 4, 5]\n",
        "\n",
        "mylist.remove(5)\n",
        "\n",
        "mylist"
      ]
    },
    {
      "cell_type": "code",
      "execution_count": 14,
      "metadata": {
        "colab": {
          "base_uri": "https://localhost:8080/",
          "height": 0
        },
        "id": "AGOOM7YK73eX",
        "outputId": "0ffee5d1-bfdc-4e89-d807-500b6474092d"
      },
      "outputs": [
        {
          "output_type": "execute_result",
          "data": {
            "text/plain": [
              "[1, 3, 4]"
            ]
          },
          "metadata": {},
          "execution_count": 14
        }
      ],
      "source": [
        "del mylist[1]\n",
        "\n",
        "mylist\n"
      ]
    },
    {
      "cell_type": "markdown",
      "metadata": {
        "id": "9FJpaQitv7B1"
      },
      "source": [
        "# Tuples"
      ]
    },
    {
      "cell_type": "code",
      "execution_count": null,
      "metadata": {
        "id": "rt9OPQQIv-IT"
      },
      "outputs": [],
      "source": [
        "mytuple = (1, 3, 5, 6)\n",
        "\n"
      ]
    },
    {
      "cell_type": "markdown",
      "metadata": {
        "id": "9hd5YJqVxjyg"
      },
      "source": [
        "## Tuple indexing"
      ]
    },
    {
      "cell_type": "code",
      "execution_count": 15,
      "metadata": {
        "colab": {
          "base_uri": "https://localhost:8080/",
          "height": 0
        },
        "id": "9an58avvxPYE",
        "outputId": "9191cc2f-f16e-43a1-9966-0992dfa9b4e4"
      },
      "outputs": [
        {
          "output_type": "execute_result",
          "data": {
            "text/plain": [
              "3"
            ]
          },
          "metadata": {},
          "execution_count": 15
        }
      ],
      "source": [
        "mytuple = (1, 2, 3, 4, 5, 6)\n",
        "\n",
        "mytuple[2]"
      ]
    },
    {
      "cell_type": "markdown",
      "metadata": {
        "id": "GmvxKNouuMid"
      },
      "source": [
        "## `in` and `not in`"
      ]
    },
    {
      "cell_type": "code",
      "execution_count": null,
      "metadata": {
        "id": "59QQ8VziyCw0"
      },
      "outputs": [],
      "source": [
        "mytuple = (1, 3, 4, 5, 6)\n",
        "\n",
        "2 in mytuple"
      ]
    },
    {
      "cell_type": "markdown",
      "metadata": {
        "id": "pbLry4r7umaI"
      },
      "source": [
        "## Functions return multiple values as a tuples"
      ]
    },
    {
      "cell_type": "code",
      "execution_count": 16,
      "metadata": {
        "id": "1OUjDs2YtW0h"
      },
      "outputs": [],
      "source": [
        "def func(a, b): #a and b are floats\n",
        "    x = a + b\n",
        "    y = a - b\n",
        "\n",
        "    return x, y"
      ]
    },
    {
      "cell_type": "code",
      "execution_count": 17,
      "metadata": {
        "colab": {
          "base_uri": "https://localhost:8080/",
          "height": 0
        },
        "id": "Un1Tzvr5zNnq",
        "outputId": "a889d072-3ed2-4e7c-c667-df82c02ae064"
      },
      "outputs": [
        {
          "output_type": "stream",
          "name": "stdout",
          "text": [
            "(4, -2)\n"
          ]
        }
      ],
      "source": [
        "a = func(1, 3)\n",
        "\n",
        "print(a)"
      ]
    },
    {
      "cell_type": "code",
      "source": [
        "a[1] = 5"
      ],
      "metadata": {
        "id": "E75IERHWMNm_",
        "outputId": "8e32affb-c405-4e6c-b961-8b83ae60d244",
        "colab": {
          "base_uri": "https://localhost:8080/",
          "height": 181
        }
      },
      "execution_count": 18,
      "outputs": [
        {
          "output_type": "error",
          "ename": "TypeError",
          "evalue": "'tuple' object does not support item assignment",
          "traceback": [
            "\u001b[0;31m---------------------------------------------------------------------------\u001b[0m",
            "\u001b[0;31mTypeError\u001b[0m                                 Traceback (most recent call last)",
            "\u001b[0;32m<ipython-input-18-8274b6782611>\u001b[0m in \u001b[0;36m<cell line: 1>\u001b[0;34m()\u001b[0m\n\u001b[0;32m----> 1\u001b[0;31m \u001b[0ma\u001b[0m\u001b[0;34m[\u001b[0m\u001b[0;36m1\u001b[0m\u001b[0;34m]\u001b[0m \u001b[0;34m=\u001b[0m \u001b[0;36m5\u001b[0m\u001b[0;34m\u001b[0m\u001b[0;34m\u001b[0m\u001b[0m\n\u001b[0m",
            "\u001b[0;31mTypeError\u001b[0m: 'tuple' object does not support item assignment"
          ]
        }
      ]
    },
    {
      "cell_type": "markdown",
      "metadata": {
        "id": "Kh2SS7Sb0XER"
      },
      "source": [
        "# Dictionaries"
      ]
    },
    {
      "cell_type": "markdown",
      "metadata": {
        "id": "ehU223Kt0ow6"
      },
      "source": [
        "สมมติว่าทางมหาวิทยาลัยวางแผนการเก็บข้อมูล **รหัสนักศึกษา** และ **ชื่อ-นามสกุล** ของนักศึกษา เราอาจจะลองเก็บข้อมูลให้อยู่ในรูปของ tuple:\n",
        "```\n",
        "student1 = (690100101 , \"Peter Piper\")\n",
        "```\n",
        "สามารถดึงรหัสของนักศึกษาโดยใช้ `student1[0]` และดึงชื่อด้วย `student1[1]`\n",
        "```\n",
        "student1[0]\n",
        "out: 690100101\n",
        "student1[1]\n",
        "out: \"Peter Piper\"\n",
        "```\n",
        "แต่บางครั้งเราก็อยากจะดึงชื่อของนักศึกษาโดยใช้รหัสนักศึกษา ตัวอย่างเช่น\n",
        "```\n",
        "student1[690100101]\n",
        "out: \"Peter Piper\"\n",
        "```\n",
        "เราสามารถทำได้โดยการเก็บข้อมูลไว้ใน **dictionary** แทน"
      ]
    },
    {
      "cell_type": "code",
      "execution_count": 20,
      "metadata": {
        "id": "wJtvjTWJ3YzR",
        "outputId": "84c3904b-3026-4193-88ac-62e8d068f2ae",
        "colab": {
          "base_uri": "https://localhost:8080/",
          "height": 0
        }
      },
      "outputs": [
        {
          "output_type": "execute_result",
          "data": {
            "text/plain": [
              "{101: 'John Doe', 102: 'Mary Jane'}"
            ]
          },
          "metadata": {},
          "execution_count": 20
        }
      ],
      "source": [
        "students = {101: \"Peter Parker\",\n",
        "            102: \"Mary Jane\",\n",
        "            101: \"John Doe\"}\n",
        "\n",
        "students"
      ]
    },
    {
      "cell_type": "code",
      "source": [
        "students[102]"
      ],
      "metadata": {
        "id": "zgmAU2NTM8eL",
        "outputId": "bc131ea4-2afc-4f5d-8c1c-a15eed648930",
        "colab": {
          "base_uri": "https://localhost:8080/",
          "height": 35
        }
      },
      "execution_count": 21,
      "outputs": [
        {
          "output_type": "execute_result",
          "data": {
            "text/plain": [
              "'Mary Jane'"
            ],
            "application/vnd.google.colaboratory.intrinsic+json": {
              "type": "string"
            }
          },
          "metadata": {},
          "execution_count": 21
        }
      ]
    },
    {
      "cell_type": "markdown",
      "metadata": {
        "id": "7MX6sNKh3vqh"
      },
      "source": [
        "dictionary ประกอบไปด้วย 2 ส่วน: **key** (`101`, `102`) และ **value** (`\"Peter Piper\"`, `\"Mary Jane\"`) โดยที่การเรียก key ใน dictionary นั้น เปรียบเสมือนการไขกุญแจเพื่อเรียก value ที่มากับ key นั้น"
      ]
    },
    {
      "cell_type": "code",
      "execution_count": null,
      "metadata": {
        "id": "WSDWLZ8mvfrL"
      },
      "outputs": [],
      "source": [
        "students[102]"
      ]
    },
    {
      "cell_type": "markdown",
      "metadata": {
        "id": "NiJpKXJv58BJ"
      },
      "source": [
        "## Adding/Modifying values of dict"
      ]
    },
    {
      "cell_type": "code",
      "execution_count": 22,
      "metadata": {
        "colab": {
          "base_uri": "https://localhost:8080/",
          "height": 0
        },
        "id": "PtrfXZNG6d0B",
        "outputId": "b9702885-fd36-4b51-cedf-15ae2cddcafd"
      },
      "outputs": [
        {
          "output_type": "execute_result",
          "data": {
            "text/plain": [
              "{101: 'John Doe', 102: 'Mary Jane', 103: 'Jeehun'}"
            ]
          },
          "metadata": {},
          "execution_count": 22
        }
      ],
      "source": [
        "students[103] = \"Jeehun\"\n",
        "\n",
        "students"
      ]
    },
    {
      "cell_type": "code",
      "execution_count": 23,
      "metadata": {
        "colab": {
          "base_uri": "https://localhost:8080/",
          "height": 0
        },
        "id": "P2UY3u4_6iC1",
        "outputId": "0e92de81-edb8-44b3-cf55-e0d457c71ab1"
      },
      "outputs": [
        {
          "output_type": "execute_result",
          "data": {
            "text/plain": [
              "{101: 'Peter Pan', 102: 'Mary Jane', 103: 'Jeehun'}"
            ]
          },
          "metadata": {},
          "execution_count": 23
        }
      ],
      "source": [
        "students[101] = \"Peter Pan\"\n",
        "\n",
        "students"
      ]
    },
    {
      "cell_type": "markdown",
      "metadata": {
        "id": "bF58ozvmBh8c"
      },
      "source": [
        "## Obtain the keys, values, and key+value pairs"
      ]
    },
    {
      "cell_type": "code",
      "execution_count": 27,
      "metadata": {
        "colab": {
          "base_uri": "https://localhost:8080/",
          "height": 0
        },
        "id": "wohkOH1RBoa2",
        "outputId": "c36e75cb-bf60-4302-bd11-1d5f1654eb00"
      },
      "outputs": [
        {
          "output_type": "execute_result",
          "data": {
            "text/plain": [
              "[(101, 'Peter Pan'), (102, 'Mary Jane'), (103, 'Jeehun')]"
            ]
          },
          "metadata": {},
          "execution_count": 27
        }
      ],
      "source": [
        "list(students.keys())\n",
        "#students.values()\n",
        "list(students.items())"
      ]
    },
    {
      "cell_type": "markdown",
      "metadata": {
        "id": "ojzRPRzzeB5f"
      },
      "source": [
        "## Dictionary comprehension"
      ]
    },
    {
      "cell_type": "code",
      "execution_count": 28,
      "metadata": {
        "id": "yJUB3IzReB5g",
        "outputId": "588af15c-23d3-4315-aaa3-51b3b3b9c5f0",
        "colab": {
          "base_uri": "https://localhost:8080/",
          "height": 0
        }
      },
      "outputs": [
        {
          "output_type": "execute_result",
          "data": {
            "text/plain": [
              "{1: 1, 2: 4, 3: 9, 4: 16, 5: 25, 6: 36, 7: 49, 8: 64, 9: 81, 10: 100}"
            ]
          },
          "metadata": {},
          "execution_count": 28
        }
      ],
      "source": [
        "{n: n ** 2 for n in range(1, 11)}"
      ]
    },
    {
      "cell_type": "markdown",
      "metadata": {
        "id": "nOUlgUTxDOr6"
      },
      "source": [
        "## A dictionary is an implementation of a hash table\n",
        "<img src=\"https://upload.wikimedia.org/wikipedia/commons/thumb/7/7d/Hash_table_3_1_1_0_1_0_0_SP.svg/800px-Hash_table_3_1_1_0_1_0_0_SP.svg.png\" width=\"400\" height=\"300\" />"
      ]
    },
    {
      "cell_type": "markdown",
      "metadata": {
        "id": "KTwPkaU5RI09"
      },
      "source": [
        "### * การหาค่าใน list ใช้เวลา `O(n)`\n",
        "### * การหาค่าใน key ของ dictionary ใช้เวลา `O(1)`"
      ]
    },
    {
      "cell_type": "markdown",
      "metadata": {
        "id": "kkCy1n7dDeAO"
      },
      "source": [
        "#### Comparing searching in a list and a dict"
      ]
    },
    {
      "cell_type": "code",
      "execution_count": 29,
      "metadata": {
        "id": "J4x76VS4DeAP",
        "outputId": "1c9e5cb1-34d7-4ee4-ec0d-51c2e041403a",
        "colab": {
          "base_uri": "https://localhost:8080/",
          "height": 0
        }
      },
      "outputs": [
        {
          "output_type": "stream",
          "name": "stdout",
          "text": [
            "10000\n"
          ]
        }
      ],
      "source": [
        "my_long_list = [i for i in range(10000)]\n",
        "\n",
        "counter = 0\n",
        "for j in range(100000):\n",
        "  if j in my_long_list:\n",
        "    counter += 1\n",
        "\n",
        "print(counter)"
      ]
    },
    {
      "cell_type": "code",
      "execution_count": 32,
      "metadata": {
        "id": "7L9dvuTvDeAQ",
        "outputId": "f3e0f686-2834-4bba-ed95-3c9d1d088837",
        "colab": {
          "base_uri": "https://localhost:8080/",
          "height": 0
        }
      },
      "outputs": [
        {
          "output_type": "stream",
          "name": "stdout",
          "text": [
            "10000\n"
          ]
        }
      ],
      "source": [
        "my_long_dict = {i:i for i in range(10000)}\n",
        "\n",
        "counter = 0\n",
        "for j in range(100000):\n",
        "  if j in my_long_dict.keys():\n",
        "    counter += 1\n",
        "\n",
        "print(counter)"
      ]
    },
    {
      "cell_type": "markdown",
      "metadata": {
        "id": "cZp5xOacDeAS"
      },
      "source": [
        "### Exercise: Working with a list of dictionaries\n",
        "\n",
        "Below is a list of movie ratings (imdb) from 15 viewers.\n",
        "\n",
        "1. Write code to compute the average of the ratings.\n",
        "2. Write code to find the most common category watched by these 15 viewers."
      ]
    },
    {
      "cell_type": "code",
      "execution_count": 33,
      "metadata": {
        "id": "M5EK33uqDeAT"
      },
      "outputs": [],
      "source": [
        "# Dictionary of movies\n",
        "\n",
        "movies = [\n",
        "{\n",
        "\"name\": \"Usual Suspects\",\n",
        "\"imdb\": 7.0,\n",
        "\"category\": \"Thriller\"\n",
        "},\n",
        "{\n",
        "\"name\": \"Hitman\",\n",
        "\"imdb\": 6.3,\n",
        "\"category\": \"Action\"\n",
        "},\n",
        "{\n",
        "\"name\": \"Dark Knight\",\n",
        "\"imdb\": 9.0,\n",
        "\"category\": \"Adventure\"\n",
        "},\n",
        "{\n",
        "\"name\": \"The Help\",\n",
        "\"imdb\": 8.0,\n",
        "\"category\": \"Drama\"\n",
        "},\n",
        "{\n",
        "\"name\": \"The Choice\",\n",
        "\"imdb\": 6.2,\n",
        "\"category\": \"Romance\"\n",
        "},\n",
        "{\n",
        "\"name\": \"Colonia\",\n",
        "\"imdb\": 7.4,\n",
        "\"category\": \"Romance\"\n",
        "},\n",
        "{\n",
        "\"name\": \"Love\",\n",
        "\"imdb\": 6.0,\n",
        "\"category\": \"Romance\"\n",
        "},\n",
        "{\n",
        "\"name\": \"Bride Wars\",\n",
        "\"imdb\": 5.4,\n",
        "\"category\": \"Romance\"\n",
        "},\n",
        "{\n",
        "\"name\": \"AlphaJet\",\n",
        "\"imdb\": 3.2,\n",
        "\"category\": \"War\"\n",
        "},\n",
        "{\n",
        "\"name\": \"Ringing Crime\",\n",
        "\"imdb\": 4.0,\n",
        "\"category\": \"Crime\"\n",
        "},\n",
        "{\n",
        "\"name\": \"Joking muck\",\n",
        "\"imdb\": 7.2,\n",
        "\"category\": \"Comedy\"\n",
        "},\n",
        "{\n",
        "\"name\": \"What is the name\",\n",
        "\"imdb\": 9.2,\n",
        "\"category\": \"Suspense\"\n",
        "},\n",
        "{\n",
        "\"name\": \"Detective\",\n",
        "\"imdb\": 7.0,\n",
        "\"category\": \"Suspense\"\n",
        "},\n",
        "{\n",
        "\"name\": \"Exam\",\n",
        "\"imdb\": 4.2,\n",
        "\"category\": \"Thriller\"\n",
        "},\n",
        "{\n",
        "\"name\": \"We Two\",\n",
        "\"imdb\": 7.2,\n",
        "\"category\": \"Romance\"\n",
        "}\n",
        "]"
      ]
    },
    {
      "cell_type": "code",
      "source": [],
      "metadata": {
        "id": "_Q5Wq-pqP-OC"
      },
      "execution_count": null,
      "outputs": []
    }
  ],
  "metadata": {
    "colab": {
      "provenance": []
    },
    "kernelspec": {
      "display_name": "Python 3 (ipykernel)",
      "language": "python",
      "name": "python3"
    },
    "language_info": {
      "codemirror_mode": {
        "name": "ipython",
        "version": 3
      },
      "file_extension": ".py",
      "mimetype": "text/x-python",
      "name": "python",
      "nbconvert_exporter": "python",
      "pygments_lexer": "ipython3",
      "version": "3.10.12"
    }
  },
  "nbformat": 4,
  "nbformat_minor": 0
}