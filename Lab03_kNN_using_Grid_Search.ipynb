{
 "cells": [
  {
   "cell_type": "markdown",
   "metadata": {
    "id": "_50o8bV-nMaF"
   },
   "source": [
    "### Statistical Learning for Data Science 2 (229352)\n",
    "#### Instructor: Donlapark Ponnoprat\n",
    "\n",
    "#### [Course website](https://donlapark.pages.dev/229352/)\n",
    "\n",
    "## Lab #3"
   ]
  },
  {
   "cell_type": "code",
   "execution_count": null,
   "metadata": {
    "colab": {
     "base_uri": "https://localhost:8080/"
    },
    "id": "tShvCHLSAsu6",
    "outputId": "d226f272-2fc4-48e3-8539-73ddb09c1adb"
   },
   "outputs": [],
   "source": [
    "from sklearn.datasets import fetch_20newsgroups\n",
    "\n",
    "train = fetch_20newsgroups(subset='train')\n",
    "test = fetch_20newsgroups(subset='test')\n",
    "\n",
    "Xtrain = train.data[:3000]\n",
    "ytrain = train.target[:3000]\n",
    "Xtest = test.data[:500]\n",
    "ytest = test.target[:500]\n",
    "\n",
    "print(\"X:\", len(Xtest))\n",
    "print(\"y:\", len(ytest))"
   ]
  },
  {
   "cell_type": "code",
   "execution_count": null,
   "metadata": {
    "colab": {
     "base_uri": "https://localhost:8080/"
    },
    "id": "DunmeISuAxVp",
    "outputId": "dae14abe-e269-4059-c9eb-809f5ee7bb9e"
   },
   "outputs": [],
   "source": [
    "print(\"X[0]:\", Xtrain[0])\n",
    "print(\"y[0]:\", ytrain[0])"
   ]
  },
  {
   "cell_type": "code",
   "execution_count": null,
   "metadata": {
    "colab": {
     "base_uri": "https://localhost:8080/"
    },
    "id": "OJF0Yf8kA4ZM",
    "outputId": "9528c541-a3a3-42bc-afae-895c55303b5e"
   },
   "outputs": [],
   "source": [
    "train.target_names"
   ]
  },
  {
   "cell_type": "markdown",
   "metadata": {
    "id": "TKIW_iS8A8KO"
   },
   "source": [
    "### Apply Tfidf ([documentation](https://scikit-learn.org/stable/modules/generated/sklearn.feature_extraction.text.TfidfVectorizer.html))"
   ]
  },
  {
   "cell_type": "code",
   "execution_count": null,
   "metadata": {
    "colab": {
     "base_uri": "https://localhost:8080/"
    },
    "id": "kkrbh0AtA8g5",
    "outputId": "565172f8-fbfd-4059-b31d-58efb7d9a9c6"
   },
   "outputs": [],
   "source": [
    "from sklearn.feature_extraction.text import TfidfVectorizer\n",
    "\n",
    "# define transformation\n",
    "tfidf = \n",
    "\n",
    "# fit+transform training set\n",
    "Xtrain_tfidf = \n",
    "\n",
    "# See output\n",
    "Xtrain_tfidf"
   ]
  },
  {
   "cell_type": "code",
   "execution_count": null,
   "metadata": {
    "id": "tGt73o2UA_Xg"
   },
   "outputs": [],
   "source": [
    "#tfidf.vocabulary_"
   ]
  },
  {
   "cell_type": "markdown",
   "metadata": {},
   "source": [
    "#### Exercise 1: Find post in the training set that is closest in tf-idf to the first post in the test set (`Xtest[0]`). Print the content of both posts (not the tf-idf vectors)."
   ]
  },
  {
   "cell_type": "markdown",
   "metadata": {
    "id": "8pPpNJ89A_pu"
   },
   "source": [
    "### Classify with k-Nearest Neighbor (kNN) ([documentation](https://scikit-learn.org/stable/modules/generated/sklearn.neighbors.KNeighborsClassifier.html))"
   ]
  },
  {
   "cell_type": "code",
   "execution_count": null,
   "metadata": {
    "colab": {
     "base_uri": "https://localhost:8080/"
    },
    "id": "7m7rhMAcBCOO",
    "outputId": "f99536ec-74ad-45e1-90cb-05258f47d3b4"
   },
   "outputs": [],
   "source": [
    "from sklearn.neighbors import KNeighborsClassifier\n",
    "\n",
    "# Define model\n",
    "nb = \n",
    "\n",
    "# Fit the model\n",
    "nb."
   ]
  },
  {
   "cell_type": "markdown",
   "metadata": {
    "id": "UKj8LWkYBFkY"
   },
   "source": [
    "Evaluate on the test set using [`classification_report`](https://scikit-learn.org/stable/modules/generated/sklearn.metrics.classification_report.html)\n",
    "\n",
    "We will focus on the [F1-score](https://scikit-learn.org/stable/modules/generated/sklearn.metrics.f1_score.html)"
   ]
  },
  {
   "cell_type": "code",
   "execution_count": null,
   "metadata": {
    "colab": {
     "base_uri": "https://localhost:8080/"
    },
    "id": "YfweGKT7Vkc0",
    "outputId": "65ced23c-540b-47d9-eb95-52b69c64e4a6"
   },
   "outputs": [],
   "source": [
    "from sklearn.metrics import classification_report\n",
    "\n",
    "# Transform the test set\n",
    "Xtest_tfidf = \n",
    "\n",
    "# Make predictions on the test set\n",
    "ypred = \n",
    "\n",
    "#report classification scores\n"
   ]
  },
  {
   "cell_type": "markdown",
   "metadata": {
    "id": "ZNQlI-b7BJyb"
   },
   "source": [
    "### Combine all methods into a [pipeline](https://scikit-learn.org/stable/modules/generated/sklearn.pipeline.Pipeline.html)"
   ]
  },
  {
   "cell_type": "code",
   "execution_count": null,
   "metadata": {
    "id": "6dHo0-mIBK0u"
   },
   "outputs": [],
   "source": [
    "from sklearn.pipeline import Pipeline\n",
    "\n",
    "pipeline = Pipeline([])\n",
    "\n",
    "# Fit the pipeline to the training set\n",
    "\n",
    "\n",
    "# Make predictions on the test set\n",
    "\n",
    "\n",
    "# report classification scores"
   ]
  },
  {
   "cell_type": "markdown",
   "metadata": {
    "id": "uHEZHkyaBNU6"
   },
   "source": [
    "Now we will use [grid search cross-validation](https://scikit-learn.org/stable/modules/generated/sklearn.model_selection.GridSearchCV.html) to find model with the best hyperparameters"
   ]
  },
  {
   "cell_type": "markdown",
   "metadata": {
    "id": "tmE7nqYPEy-G"
   },
   "source": [
    "![5CV](https://scikit-learn.org/stable/_images/grid_search_cross_validation.png)"
   ]
  },
  {
   "cell_type": "code",
   "execution_count": null,
   "metadata": {
    "id": "HRlxCcrvBN9S"
   },
   "outputs": [],
   "source": [
    "from sklearn.model_selection import GridSearchCV\n",
    "\n",
    "params = {}\n",
    "\n",
    "# Define GridSearchCV\n",
    "gridcv = GridSearchCV(pipeline, params,\n",
    "                      scoring='f1_macro', cv=3)\n",
    "\n",
    "# Fit and cross-validate the model on 3-fold data\n"
   ]
  },
  {
   "cell_type": "code",
   "execution_count": null,
   "metadata": {
    "id": "cCd-8EFBBR5F"
   },
   "outputs": [],
   "source": [
    "gridcv.best_estimator_"
   ]
  },
  {
   "cell_type": "code",
   "execution_count": null,
   "metadata": {
    "id": "jv4yI-fYBSBM"
   },
   "outputs": [],
   "source": [
    "# Make predictions on the test set\n",
    "\n",
    "\n",
    "# Report classification scores\n"
   ]
  },
  {
   "cell_type": "markdown",
   "metadata": {
    "id": "wtcscwZPBRJ2"
   },
   "source": [
    "#### Exercise 2:\n",
    "\n",
    "1. Use grid search 5-fold cross-validation across different values of the following two kNN parameters: `n_neighbors` and `metric`  **on the training set** to find the best model.\n",
    "\n",
    "2. For the best value of `n_neighbors` and `metric` you found above, compute the `f1_macro` score **on the test set**.\n",
    "* Print the value of `n_neighbors` and `metric`.\n",
    "* Print the model's `f1_macro` score."
   ]
  },
  {
   "cell_type": "code",
   "execution_count": null,
   "metadata": {
    "id": "U97-Uu5-BTxj"
   },
   "outputs": [],
   "source": []
  }
 ],
 "metadata": {
  "colab": {
   "provenance": []
  },
  "kernelspec": {
   "display_name": "Python 3 (ipykernel)",
   "language": "python",
   "name": "python3"
  },
  "language_info": {
   "codemirror_mode": {
    "name": "ipython",
    "version": 3
   },
   "file_extension": ".py",
   "mimetype": "text/x-python",
   "name": "python",
   "nbconvert_exporter": "python",
   "pygments_lexer": "ipython3",
   "version": "3.10.12"
  }
 },
 "nbformat": 4,
 "nbformat_minor": 4
}
