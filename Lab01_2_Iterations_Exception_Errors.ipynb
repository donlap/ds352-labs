{
 "cells": [
  {
   "cell_type": "markdown",
   "metadata": {},
   "source": [
    "### Statistical Learning for Data Science 2 (229352) \n",
    "#### Instructor: Donlapark Ponnoprat\n",
    "\n",
    "#### [Course website](https://donlapark.pages.dev/229352/)\n",
    "\n",
    "## Lab #2"
   ]
  },
  {
   "cell_type": "markdown",
   "metadata": {
    "id": "Pn2Pe3jXYuBO"
   },
   "source": [
    "# Iteration"
   ]
  },
  {
   "cell_type": "markdown",
   "metadata": {
    "id": "x4qsY4o3YvSq"
   },
   "source": [
    "ตัวอย่างของ iteration ที่เห็นได้บ่อยที่สุดคือการใช้ `for` loop"
   ]
  },
  {
   "cell_type": "code",
   "execution_count": 3,
   "metadata": {
    "colab": {
     "base_uri": "https://localhost:8080/"
    },
    "id": "nECp86IgWJSi",
    "outputId": "bd8ffda0-bf5f-42b1-e680-e9afa3b6f2b4"
   },
   "outputs": [
    {
     "name": "stdout",
     "output_type": "stream",
     "text": [
      "1\n",
      "3\n",
      "5\n",
      "7\n",
      "9\n"
     ]
    }
   ],
   "source": [
    "#Range\n",
    "\n",
    "myrange = range(1, 10, 2)\n",
    "\n",
    "for i in myrange:\n",
    "    print(i)"
   ]
  },
  {
   "cell_type": "code",
   "execution_count": 4,
   "metadata": {
    "colab": {
     "base_uri": "https://localhost:8080/"
    },
    "id": "9xx51HD7ZCbM",
    "outputId": "d599be7c-81b6-4594-fc36-7ecb089e764a"
   },
   "outputs": [
    {
     "name": "stdout",
     "output_type": "stream",
     "text": [
      "1\n",
      "3\n",
      "5\n",
      "7\n",
      "9\n"
     ]
    }
   ],
   "source": [
    "#List\n",
    "mylist = [1, 3, 5, 7, 9]\n",
    "\n",
    "for i in mylist:\n",
    "    print(i)"
   ]
  },
  {
   "cell_type": "markdown",
   "metadata": {
    "id": "j24wVVc6ZkEv"
   },
   "source": [
    "## `enumerate`"
   ]
  },
  {
   "cell_type": "markdown",
   "metadata": {
    "id": "tuF9lSNzZxpF"
   },
   "source": [
    "สมมติว่าข้างล่างนี้คือตัวอย่างของการทำนาย time series ใน 10 วันข้างหน้า"
   ]
  },
  {
   "cell_type": "code",
   "execution_count": 5,
   "metadata": {
    "id": "oExtgaYubFGP"
   },
   "outputs": [
    {
     "name": "stdout",
     "output_type": "stream",
     "text": [
      "0 34\n",
      "1 62\n",
      "2 21\n",
      "3 87\n",
      "4 95\n",
      "5 21\n",
      "6 42\n",
      "7 17\n",
      "8 39\n",
      "9 23\n"
     ]
    }
   ],
   "source": [
    "forecast = [34, 62, 21, 87, 95, 21, 42, 17, 39, 23]\n",
    "\n",
    "for i, value in enumerate(forecast):\n",
    "    print(i, value)"
   ]
  },
  {
   "cell_type": "markdown",
   "metadata": {
    "id": "7iB7RBlybOt-"
   },
   "source": [
    "สามารถใช้ `for` loop คู่กับ `enumerate` ในการดูว่าแต่ละค่านั้นคือค่าทำนายของวันที่เท่าไหร่"
   ]
  },
  {
   "cell_type": "code",
   "execution_count": null,
   "metadata": {
    "colab": {
     "base_uri": "https://localhost:8080/"
    },
    "id": "6kvkQFuJbgZ4",
    "outputId": "16dd1da4-b06e-4ce8-a705-b1b22f920bae"
   },
   "outputs": [],
   "source": []
  },
  {
   "cell_type": "markdown",
   "metadata": {
    "id": "Iyqk63INZoyF"
   },
   "source": [
    "## Iterator"
   ]
  },
  {
   "cell_type": "markdown",
   "metadata": {
    "id": "YFbpQEXEcvap"
   },
   "source": [
    "อีกวิธีหนึ่งในการสร้าง loop นอกจากการใช้ `range` หรือ `list` แล้ว เราสามารถสร้าง `iterator` โดยใช้ฟังก์ชัน `iter` ครอบ `list` ของสิ่งที่เราอยากจะให้วน loop ไปเรื่อย ๆ"
   ]
  },
  {
   "cell_type": "code",
   "execution_count": 12,
   "metadata": {
    "id": "89FIdrV_ZoG9"
   },
   "outputs": [],
   "source": [
    "#iter\n",
    "\n",
    "current_number = iter([2, 4, 6, 8])\n",
    "\n"
   ]
  },
  {
   "cell_type": "code",
   "execution_count": 13,
   "metadata": {
    "colab": {
     "base_uri": "https://localhost:8080/"
    },
    "id": "9dtaenUfi4Qh",
    "outputId": "6b429919-35e7-4f7a-ab77-339625f8ee97"
   },
   "outputs": [
    {
     "data": {
      "text/plain": [
       "2"
      ]
     },
     "execution_count": 13,
     "metadata": {},
     "output_type": "execute_result"
    }
   ],
   "source": [
    "#next\n",
    "\n",
    "next(current_number)"
   ]
  },
  {
   "cell_type": "markdown",
   "metadata": {},
   "source": [
    "## ใช้ Iterator ใน for loop"
   ]
  },
  {
   "cell_type": "code",
   "execution_count": 15,
   "metadata": {
    "colab": {
     "base_uri": "https://localhost:8080/"
    },
    "id": "KcMnCLSLgjXK",
    "outputId": "955343be-2bc4-421f-d58e-c470810b9adc"
   },
   "outputs": [
    {
     "name": "stdout",
     "output_type": "stream",
     "text": [
      "4\n",
      "6\n",
      "8\n"
     ]
    }
   ],
   "source": [
    "# for loop\n",
    "\n",
    "for i in current_number:\n",
    "    print(i)"
   ]
  },
  {
   "cell_type": "code",
   "execution_count": 16,
   "metadata": {},
   "outputs": [
    {
     "name": "stdout",
     "output_type": "stream",
     "text": [
      "2\n",
      "4\n",
      "6\n",
      "8\n"
     ]
    }
   ],
   "source": [
    "# another way\n",
    "\n",
    "current_number = iter([2, 4, 6, 8])\n",
    "\n",
    "for i in range(4):\n",
    "    print(next(current_number))"
   ]
  },
  {
   "cell_type": "markdown",
   "metadata": {},
   "source": [
    "## Convert Iterator to List"
   ]
  },
  {
   "cell_type": "code",
   "execution_count": 18,
   "metadata": {},
   "outputs": [
    {
     "data": {
      "text/plain": [
       "[2, 4, 6, 8]"
      ]
     },
     "execution_count": 18,
     "metadata": {},
     "output_type": "execute_result"
    }
   ],
   "source": [
    "current_number = iter([2, 4, 6, 8])\n",
    "\n",
    "list(current_number)"
   ]
  },
  {
   "cell_type": "markdown",
   "metadata": {
    "id": "SJh6xAhWhEHV"
   },
   "source": [
    "## `zip`"
   ]
  },
  {
   "cell_type": "markdown",
   "metadata": {
    "id": "hxwxpDsuhGqJ"
   },
   "source": [
    "บางครั้งเราต้องการวน loop ตาม items ในหลายๆ list พร้อมกัน ตัวอย่างเช่นชื่อ สัญชาติ และสาขาของนักวิจัย 12 ท่านข้างล่างนี้"
   ]
  },
  {
   "cell_type": "code",
   "execution_count": 20,
   "metadata": {
    "id": "EmixIIbMWJbs"
   },
   "outputs": [],
   "source": [
    "names = [\n",
    "    'Frances Arnold', 'George Smith', 'Gregory Winter',\n",
    "    'Denis Mukwege', 'Nadia Murad'\n",
    "]\n",
    "\n",
    "nationalities = [\n",
    "    'USA', 'USA', 'UK',\n",
    "    'DRC', 'Iraq'\n",
    "]\n",
    "\n",
    "categories = [\n",
    "    'Chemistry', 'Chemistry', 'Chemistry',\n",
    "    'Peace', 'Peace'\n",
    "]"
   ]
  },
  {
   "cell_type": "code",
   "execution_count": 21,
   "metadata": {
    "id": "wmb0mKY1ivsh"
   },
   "outputs": [],
   "source": [
    "#zip\n",
    "\n",
    "scientists = zip(names, nationalities, categories)"
   ]
  },
  {
   "cell_type": "code",
   "execution_count": 22,
   "metadata": {},
   "outputs": [
    {
     "name": "stdout",
     "output_type": "stream",
     "text": [
      "<zip object at 0x7f489b338940>\n"
     ]
    }
   ],
   "source": [
    "print(scientists)"
   ]
  },
  {
   "cell_type": "code",
   "execution_count": 26,
   "metadata": {
    "colab": {
     "base_uri": "https://localhost:8080/"
    },
    "id": "MQXNP220gX5m",
    "outputId": "22985c23-7a73-452d-b17f-20f70f4aa5ee"
   },
   "outputs": [
    {
     "data": {
      "text/plain": [
       "('Denis Mukwege', 'DRC', 'Peace')"
      ]
     },
     "execution_count": 26,
     "metadata": {},
     "output_type": "execute_result"
    }
   ],
   "source": [
    "#next\n",
    "\n",
    "next(scientists)"
   ]
  },
  {
   "cell_type": "code",
   "execution_count": 28,
   "metadata": {
    "colab": {
     "base_uri": "https://localhost:8080/"
    },
    "id": "eQfvGOUsjFjY",
    "outputId": "085649a1-f620-4eb6-f1d0-37ac9c52cb83"
   },
   "outputs": [
    {
     "name": "stdout",
     "output_type": "stream",
     "text": [
      "Frances Arnold USA Chemistry\n",
      "George Smith USA Chemistry\n",
      "Gregory Winter UK Chemistry\n",
      "Denis Mukwege DRC Peace\n",
      "Nadia Murad Iraq Peace\n"
     ]
    }
   ],
   "source": [
    "#for loop\n",
    "\n",
    "for name, nationality, category in zip(names, nationalities, categories):\n",
    "    print(name, nationality, category)"
   ]
  },
  {
   "cell_type": "markdown",
   "metadata": {},
   "source": [
    "## Convert to list"
   ]
  },
  {
   "cell_type": "code",
   "execution_count": 29,
   "metadata": {},
   "outputs": [
    {
     "data": {
      "text/plain": [
       "[('Nadia Murad', 'Iraq', 'Peace')]"
      ]
     },
     "execution_count": 29,
     "metadata": {},
     "output_type": "execute_result"
    }
   ],
   "source": [
    "list(scientists)"
   ]
  },
  {
   "cell_type": "markdown",
   "metadata": {},
   "source": [
    "## Convert to Dict"
   ]
  },
  {
   "cell_type": "code",
   "execution_count": 30,
   "metadata": {},
   "outputs": [
    {
     "data": {
      "text/plain": [
       "{'pen': 12, 'paper': 1, 'pencil': 7, 'eraser': 9}"
      ]
     },
     "execution_count": 30,
     "metadata": {},
     "output_type": "execute_result"
    }
   ],
   "source": [
    "items = [\"pen\", \"paper\", \"pencil\", \"eraser\"]\n",
    "prices = [12, 1, 7, 9]\n",
    "\n",
    "dict(zip(items, prices))"
   ]
  },
  {
   "cell_type": "markdown",
   "metadata": {
    "id": "B58b7_o8UaW-"
   },
   "source": [
    "## ใช้ `zip` กับ iterator"
   ]
  },
  {
   "cell_type": "code",
   "execution_count": 31,
   "metadata": {
    "colab": {
     "base_uri": "https://localhost:8080/"
    },
    "id": "zq9HgoYKUMi9",
    "outputId": "69f56753-6e16-4f3e-fd24-f48aad0ac3c7"
   },
   "outputs": [
    {
     "name": "stdout",
     "output_type": "stream",
     "text": [
      "pen 12\n",
      "paper 1\n",
      "pencil 7\n",
      "eraser 9\n"
     ]
    }
   ],
   "source": [
    "items = iter([\"pen\", \"paper\", \"pencil\", \"eraser\"])\n",
    "prices = iter([12, 1, 7, 9])\n",
    "\n",
    "for item, price in zip(items, prices):\n",
    "    print(item, price)"
   ]
  },
  {
   "cell_type": "markdown",
   "metadata": {
    "id": "1lUOFNYDgXbw"
   },
   "source": [
    "# Errors and Exception handling"
   ]
  },
  {
   "cell_type": "markdown",
   "metadata": {
    "id": "cobPyoB_mmwC"
   },
   "source": [
    "## SyntaxError\n",
    "\n",
    "เกิดขึ้นในกรณีที่โค้ดมี format ที่ไม่ถูกต้องตามหลักการของ python หรือว่ามีโค้ดบางส่วนที่ขาดหายไป"
   ]
  },
  {
   "cell_type": "code",
   "execution_count": 32,
   "metadata": {
    "colab": {
     "base_uri": "https://localhost:8080/",
     "height": 132
    },
    "id": "2vZyBRRAm46T",
    "outputId": "c279805c-39bb-40fa-d535-d96063d23e48"
   },
   "outputs": [
    {
     "ename": "SyntaxError",
     "evalue": "incomplete input (2645629469.py, line 1)",
     "output_type": "error",
     "traceback": [
      "\u001b[0;36m  Cell \u001b[0;32mIn [32], line 1\u001b[0;36m\u001b[0m\n\u001b[0;31m    my_list = [1,2,3\u001b[0m\n\u001b[0m                    ^\u001b[0m\n\u001b[0;31mSyntaxError\u001b[0m\u001b[0;31m:\u001b[0m incomplete input\n"
     ]
    }
   ],
   "source": [
    "my_list = [1,2,3"
   ]
  },
  {
   "cell_type": "code",
   "execution_count": 33,
   "metadata": {
    "colab": {
     "base_uri": "https://localhost:8080/",
     "height": 132
    },
    "id": "YrPg33h7m_xa",
    "outputId": "36921d1a-f0a6-4166-f762-9a010742891a"
   },
   "outputs": [
    {
     "ename": "SyntaxError",
     "evalue": "expected ':' (3964378094.py, line 1)",
     "output_type": "error",
     "traceback": [
      "\u001b[0;36m  Cell \u001b[0;32mIn [33], line 1\u001b[0;36m\u001b[0m\n\u001b[0;31m    for i in range(5)\u001b[0m\n\u001b[0m                     ^\u001b[0m\n\u001b[0;31mSyntaxError\u001b[0m\u001b[0;31m:\u001b[0m expected ':'\n"
     ]
    }
   ],
   "source": [
    "for i in range(5)\n",
    "    print(i)"
   ]
  },
  {
   "cell_type": "code",
   "execution_count": 35,
   "metadata": {
    "colab": {
     "base_uri": "https://localhost:8080/"
    },
    "id": "A7vIAJtmnPHg",
    "outputId": "1a32e1b1-ddb1-453f-eea8-3a2dc56fec15"
   },
   "outputs": [
    {
     "ename": "SyntaxError",
     "evalue": "'(' was never closed (2036724691.py, line 5)",
     "output_type": "error",
     "traceback": [
      "\u001b[0;36m  Cell \u001b[0;32mIn [35], line 5\u001b[0;36m\u001b[0m\n\u001b[0;31m    variance = np.sum(np.array(my_list) - np.mean(my_list)**2/(len(my_list) - 1)\u001b[0m\n\u001b[0m                     ^\u001b[0m\n\u001b[0;31mSyntaxError\u001b[0m\u001b[0;31m:\u001b[0m '(' was never closed\n"
     ]
    }
   ],
   "source": [
    "import numpy as np\n",
    "\n",
    "my_list = [2, 65, 82, 13, 845, 84, 265, 97, 43]\n",
    "\n",
    "variance = np.sum(np.array(my_list) - np.mean(my_list)**2/(len(my_list) - 1)\n",
    "\n",
    "print(variance)"
   ]
  },
  {
   "cell_type": "markdown",
   "metadata": {
    "id": "JMRnlLhrpEQp"
   },
   "source": [
    "## RuntimeError\n",
    "\n",
    "เกิดขึ้นในกรณีที่โค้ดผ่านการเช็ค format ผ่าน แต่เกิดปัญหาขึ้นตอนรันโค้ด"
   ]
  },
  {
   "cell_type": "markdown",
   "metadata": {
    "id": "T_grg0ObNt4_"
   },
   "source": [
    "### 1. TypeError"
   ]
  },
  {
   "cell_type": "code",
   "execution_count": 39,
   "metadata": {
    "colab": {
     "base_uri": "https://localhost:8080/"
    },
    "id": "oWjVyGJ7MQtb",
    "outputId": "91f6ad69-e4b9-4a0f-c357-62a292cbdad8"
   },
   "outputs": [
    {
     "ename": "TypeError",
     "evalue": "unsupported operand type(s) for +: 'int' and 'str'",
     "output_type": "error",
     "traceback": [
      "\u001b[0;31m---------------------------------------------------------------------------\u001b[0m",
      "\u001b[0;31mTypeError\u001b[0m                                 Traceback (most recent call last)",
      "Cell \u001b[0;32mIn [39], line 1\u001b[0m\n\u001b[0;32m----> 1\u001b[0m \u001b[38;5;28mprint\u001b[39m(\u001b[38;5;241;43m4\u001b[39;49m\u001b[43m \u001b[49m\u001b[38;5;241;43m+\u001b[39;49m\u001b[43m \u001b[49m\u001b[38;5;124;43m\"\u001b[39;49m\u001b[38;5;124;43mKings\u001b[39;49m\u001b[38;5;124;43m\"\u001b[39;49m)\n",
      "\u001b[0;31mTypeError\u001b[0m: unsupported operand type(s) for +: 'int' and 'str'"
     ]
    }
   ],
   "source": [
    "print(4 + \"Kings\")"
   ]
  },
  {
   "cell_type": "markdown",
   "metadata": {
    "id": "Y5TRuQzeC8I6"
   },
   "source": [
    "### 2. IndexError"
   ]
  },
  {
   "cell_type": "code",
   "execution_count": 40,
   "metadata": {
    "colab": {
     "base_uri": "https://localhost:8080/",
     "height": 184
    },
    "id": "1mFWe-5CMdl-",
    "outputId": "00ae87c9-2a60-44ae-8c36-4cc06b0530f6"
   },
   "outputs": [
    {
     "ename": "IndexError",
     "evalue": "list index out of range",
     "output_type": "error",
     "traceback": [
      "\u001b[0;31m---------------------------------------------------------------------------\u001b[0m",
      "\u001b[0;31mIndexError\u001b[0m                                Traceback (most recent call last)",
      "Cell \u001b[0;32mIn [40], line 2\u001b[0m\n\u001b[1;32m      1\u001b[0m mylist \u001b[38;5;241m=\u001b[39m [\u001b[38;5;241m1\u001b[39m, \u001b[38;5;241m2\u001b[39m, \u001b[38;5;241m3\u001b[39m, \u001b[38;5;241m4\u001b[39m]\n\u001b[0;32m----> 2\u001b[0m \u001b[38;5;28mprint\u001b[39m(\u001b[43mmylist\u001b[49m\u001b[43m[\u001b[49m\u001b[38;5;241;43m4\u001b[39;49m\u001b[43m]\u001b[49m)\n",
      "\u001b[0;31mIndexError\u001b[0m: list index out of range"
     ]
    }
   ],
   "source": [
    "mylist = [1, 2, 3, 4]\n",
    "print(mylist[4])"
   ]
  },
  {
   "cell_type": "code",
   "execution_count": 41,
   "metadata": {
    "colab": {
     "base_uri": "https://localhost:8080/",
     "height": 201
    },
    "id": "iJuEUOwFO68y",
    "outputId": "f2a10462-e617-455b-a8bf-7633d5566dc0"
   },
   "outputs": [
    {
     "ename": "IndexError",
     "evalue": "index 2 is out of bounds for axis 0 with size 2",
     "output_type": "error",
     "traceback": [
      "\u001b[0;31m---------------------------------------------------------------------------\u001b[0m",
      "\u001b[0;31mIndexError\u001b[0m                                Traceback (most recent call last)",
      "Cell \u001b[0;32mIn [41], line 5\u001b[0m\n\u001b[1;32m      1\u001b[0m \u001b[38;5;28;01mimport\u001b[39;00m \u001b[38;5;21;01mnumpy\u001b[39;00m \u001b[38;5;28;01mas\u001b[39;00m \u001b[38;5;21;01mnp\u001b[39;00m\n\u001b[1;32m      3\u001b[0m myarray \u001b[38;5;241m=\u001b[39m np\u001b[38;5;241m.\u001b[39marray([[\u001b[38;5;241m1\u001b[39m, \u001b[38;5;241m2\u001b[39m], \n\u001b[1;32m      4\u001b[0m                     [\u001b[38;5;241m3\u001b[39m, \u001b[38;5;241m4\u001b[39m]])\n\u001b[0;32m----> 5\u001b[0m \u001b[43mmyarray\u001b[49m\u001b[43m[\u001b[49m\u001b[38;5;241;43m2\u001b[39;49m\u001b[43m,\u001b[49m\u001b[38;5;241;43m2\u001b[39;49m\u001b[43m]\u001b[49m\n",
      "\u001b[0;31mIndexError\u001b[0m: index 2 is out of bounds for axis 0 with size 2"
     ]
    }
   ],
   "source": [
    "import numpy as np\n",
    "\n",
    "myarray = np.array([[1, 2], \n",
    "                    [3, 4]])\n",
    "myarray[2,2]"
   ]
  },
  {
   "cell_type": "markdown",
   "metadata": {
    "id": "yRJ9DuocpEVj"
   },
   "source": [
    "### 3. KeyError"
   ]
  },
  {
   "cell_type": "code",
   "execution_count": 42,
   "metadata": {
    "colab": {
     "base_uri": "https://localhost:8080/",
     "height": 201
    },
    "id": "irtuktbnP37H",
    "outputId": "40604154-204f-4182-b6c7-b6becc00fd0e"
   },
   "outputs": [
    {
     "ename": "KeyError",
     "evalue": "'Mike'",
     "output_type": "error",
     "traceback": [
      "\u001b[0;31m---------------------------------------------------------------------------\u001b[0m",
      "\u001b[0;31mKeyError\u001b[0m                                  Traceback (most recent call last)",
      "Cell \u001b[0;32mIn [42], line 3\u001b[0m\n\u001b[1;32m      1\u001b[0m mydict \u001b[38;5;241m=\u001b[39m {\u001b[38;5;124m'\u001b[39m\u001b[38;5;124mWill\u001b[39m\u001b[38;5;124m'\u001b[39m: \u001b[38;5;241m14\u001b[39m, \u001b[38;5;124m'\u001b[39m\u001b[38;5;124mLucas\u001b[39m\u001b[38;5;124m'\u001b[39m: \u001b[38;5;241m14\u001b[39m, \u001b[38;5;124m'\u001b[39m\u001b[38;5;124mDustin\u001b[39m\u001b[38;5;124m'\u001b[39m: \u001b[38;5;241m14\u001b[39m}\n\u001b[0;32m----> 3\u001b[0m \u001b[43mmydict\u001b[49m\u001b[43m[\u001b[49m\u001b[38;5;124;43m\"\u001b[39;49m\u001b[38;5;124;43mMike\u001b[39;49m\u001b[38;5;124;43m\"\u001b[39;49m\u001b[43m]\u001b[49m\n",
      "\u001b[0;31mKeyError\u001b[0m: 'Mike'"
     ]
    }
   ],
   "source": [
    "mydict = {'Will': 14, 'Lucas': 14, 'Dustin': 14}\n",
    "\n",
    "mydict[\"Mike\"]"
   ]
  },
  {
   "cell_type": "markdown",
   "metadata": {
    "id": "wdO3w1BPpEZu"
   },
   "source": [
    "### 4. NameError"
   ]
  },
  {
   "cell_type": "code",
   "execution_count": 43,
   "metadata": {
    "colab": {
     "base_uri": "https://localhost:8080/",
     "height": 201
    },
    "id": "t6eBLn6RR7uh",
    "outputId": "da23746e-8470-4bdd-d638-fac0f1b70a6a"
   },
   "outputs": [
    {
     "ename": "NameError",
     "evalue": "name 'sample_data' is not defined",
     "output_type": "error",
     "traceback": [
      "\u001b[0;31m---------------------------------------------------------------------------\u001b[0m",
      "\u001b[0;31mNameError\u001b[0m                                 Traceback (most recent call last)",
      "Cell \u001b[0;32mIn [43], line 3\u001b[0m\n\u001b[1;32m      1\u001b[0m \u001b[38;5;28;01mimport\u001b[39;00m \u001b[38;5;21;01mpandas\u001b[39;00m \u001b[38;5;28;01mas\u001b[39;00m \u001b[38;5;21;01mpd\u001b[39;00m\n\u001b[0;32m----> 3\u001b[0m X \u001b[38;5;241m=\u001b[39m pd\u001b[38;5;241m.\u001b[39mread_csv(\u001b[43msample_data\u001b[49m\u001b[38;5;241m/\u001b[39mmnist_test\u001b[38;5;241m.\u001b[39mcsv)\n",
      "\u001b[0;31mNameError\u001b[0m: name 'sample_data' is not defined"
     ]
    }
   ],
   "source": [
    "import pandas as pd\n",
    "\n",
    "X = pd.read_csv(sample_data/mnist_test.csv)"
   ]
  },
  {
   "cell_type": "markdown",
   "metadata": {
    "id": "7IXIU460pEd2"
   },
   "source": [
    "### 5. IndentationError"
   ]
  },
  {
   "cell_type": "code",
   "execution_count": 44,
   "metadata": {
    "colab": {
     "base_uri": "https://localhost:8080/",
     "height": 132
    },
    "id": "4TQL9xt4UBD4",
    "outputId": "38e214fc-a30f-4057-e248-586a3e9f94f6"
   },
   "outputs": [
    {
     "ename": "IndentationError",
     "evalue": "expected an indented block after 'for' statement on line 1 (2676854282.py, line 2)",
     "output_type": "error",
     "traceback": [
      "\u001b[0;36m  Cell \u001b[0;32mIn [44], line 2\u001b[0;36m\u001b[0m\n\u001b[0;31m    print num\u001b[0m\n\u001b[0m    ^\u001b[0m\n\u001b[0;31mIndentationError\u001b[0m\u001b[0;31m:\u001b[0m expected an indented block after 'for' statement on line 1\n"
     ]
    }
   ],
   "source": [
    "for num in [1,2,3,4]:\n",
    "    print num"
   ]
  },
  {
   "cell_type": "code",
   "execution_count": 46,
   "metadata": {
    "colab": {
     "base_uri": "https://localhost:8080/",
     "height": 132
    },
    "id": "D_NdELzdWiwA",
    "outputId": "44d1f39b-4723-4b0b-979b-2bd40af3e91a"
   },
   "outputs": [
    {
     "name": "stdout",
     "output_type": "stream",
     "text": [
      "1\n",
      "1\n",
      "1\n",
      "2\n",
      "2\n",
      "2\n",
      "3\n",
      "3\n",
      "3\n",
      "4\n",
      "4\n",
      "4\n"
     ]
    }
   ],
   "source": [
    "for num in [1,2,3,4]:\n",
    "  for word in ['one', 'two', 'three']:\n",
    "      print(num)"
   ]
  },
  {
   "cell_type": "markdown",
   "metadata": {
    "id": "u1bTVNDFpEmM"
   },
   "source": [
    "### 6. OverflowError"
   ]
  },
  {
   "cell_type": "code",
   "execution_count": 48,
   "metadata": {
    "colab": {
     "base_uri": "https://localhost:8080/"
    },
    "id": "x1DEyyd1Whkr",
    "outputId": "99cbede4-0604-4ce1-9d27-d35d5173ab84"
   },
   "outputs": [
    {
     "name": "stdout",
     "output_type": "stream",
     "text": [
      "1000000000000000000000000000000000000000000000000000000000000000000000000000000000000000000000000000000000000000000000000000000000000000000000000000000000000000000000000000000000000000000000000000000000000000000000000000000000000000000000000000000000000000000000000000000000000000000000000000000000000000000000\n"
     ]
    }
   ],
   "source": [
    "x = 10\n",
    "\n",
    "print(x**309)"
   ]
  },
  {
   "cell_type": "markdown",
   "metadata": {
    "id": "XYImwbLXXfNh"
   },
   "source": [
    "วิธีการหาและแก้ bug ใน python\n",
    "\n",
    "1. หา line ที่มี error \n",
    "\n",
    "  ใส่ `print` ลงไปในที่ต่างๆ ของโค้ดเพื่อหาจุดผิด\n",
    "\n",
    "2. ถ้าไม่เคยเห็น error ชนิดนั้นมาก่อน หรือไม่รู้วิธีแก้ไข ลองนำ error กับชื่อ package ที่ใช้ไปค้นหาใน google ว่าเคยมีคนที่เคยเจอปัญหาเหมือนกันหรือไม่\n",
    "\n",
    "\n",
    "\n"
   ]
  },
  {
   "cell_type": "code",
   "execution_count": 49,
   "metadata": {
    "colab": {
     "base_uri": "https://localhost:8080/"
    },
    "id": "Ce56jDLYnT0c",
    "outputId": "9fcab297-b2ea-4e35-d56d-a98899cae9e5"
   },
   "outputs": [
    {
     "data": {
      "text/plain": [
       "4.0"
      ]
     },
     "execution_count": 49,
     "metadata": {},
     "output_type": "execute_result"
    }
   ],
   "source": [
    "import numpy as np\n",
    "\n",
    "num = (1,2,3,4,5,6,7)\n",
    "\n",
    "np.mean(num)"
   ]
  },
  {
   "cell_type": "markdown",
   "metadata": {
    "id": "-tKQqf_mnhGV"
   },
   "source": [
    "## Exercise 1: ใช้ `zip` เพื่อสร้าง List ที่มี tuple ของ movie ID และ movie name เรื่องต่างๆ"
   ]
  },
  {
   "cell_type": "code",
   "execution_count": null,
   "metadata": {
    "id": "JPrlhKKMnwqW"
   },
   "outputs": [],
   "source": [
    "lst1 = [\"Toy Story\", \"Transformers\", \"Star Wars\", \"Titanic\"]\n",
    "lst2 = [1, 45366, 2451, 132]\n",
    "\n",
    "movie_id_name = #TODO: your code here\n",
    "\n",
    "print(movie_id_name)"
   ]
  },
  {
   "cell_type": "markdown",
   "metadata": {},
   "source": [
    "## Exercise 2: แก้ error ในโค้ดข้างล่างนี้"
   ]
  },
  {
   "cell_type": "markdown",
   "metadata": {},
   "source": [
    "1."
   ]
  },
  {
   "cell_type": "code",
   "execution_count": null,
   "metadata": {
    "id": "JmcAcmtJY5n5"
   },
   "outputs": [],
   "source": [
    "authrs = {\n",
    "    \"Charles Dickens\": \"1870\",\n",
    "    \"William Thackeray\": \"1863\",\n",
    "    \"Anthony Trollope\": \"1882\",\n",
    "    \"Gerard Manley Hopkins\": \"1889\"\n",
    "\n",
    "for author date in authors.items{}:\n",
    "    print(f\"{author} died in {date}\")\n",
    "}"
   ]
  },
  {
   "cell_type": "markdown",
   "metadata": {
    "id": "E1ui6xAkjbBG"
   },
   "source": [
    "2."
   ]
  },
  {
   "cell_type": "code",
   "execution_count": null,
   "metadata": {
    "id": "WgsoIlMudz6F"
   },
   "outputs": [],
   "source": [
    "year == int.input(\"What year were you born? '))\n",
    "\n",
    "if year <= 1996\n",
    "    print(\"You are a Millennial!\")\n",
    "elif year > 1996 && year < 2012:\n",
    "    print(\"You are a Zoomer!\")\n",
    "elif:\n",
    "    print(\"You are an Alpha!\")"
   ]
  },
  {
   "cell_type": "markdown",
   "metadata": {
    "id": "CbU4mzm7jfmp"
   },
   "source": [
    "3."
   ]
  },
  {
   "cell_type": "code",
   "execution_count": null,
   "metadata": {
    "id": "uewwLkATfmsd"
   },
   "outputs": [],
   "source": [
    "class Person:\n",
    "  def init(self, first_name, last_name):\n",
    "    self.first = first_name\n",
    "    self.last = last_nme\n",
    "  def speak(self):\n",
    "  print(\"My name is + \" self.first + \" \" + self.last)\n",
    "\n",
    "me = Person(\"Timothee\", \"Chalamet\")\n",
    "you = Person(\"Jennifer\", \"Lawrence\")\n",
    "\n",
    "me.speak\n",
    "you.speak"
   ]
  },
  {
   "cell_type": "markdown",
   "metadata": {
    "id": "9UyR_4w3jg84"
   },
   "source": [
    "4. ฟังก์ชัน `minimum` มี input เป็น `list` ใช้ในการหาสมาชิกที่ต่ำที่สุดใน `list` นั้น แต่พอลองทดสอบฟังก์ชันข้างล่างพบว่า output ไม่เป็นไปตามที่คาดหวังไว้ จงแก้ไขฟังก์ชันให้ถูกต้อง"
   ]
  },
  {
   "cell_type": "code",
   "execution_count": null,
   "metadata": {
    "id": "ucYBWLmNjPvA"
   },
   "outputs": [],
   "source": [
    "def minimum(some_list):\n",
    "    a = 0\n",
    "    for x in range(1, len(some_list)):\n",
    "        if some_list[x] < a:\n",
    "            a = some_list[x]\n",
    "    return a\n",
    "\n",
    "minimum([76,31,90,39,12])"
   ]
  },
  {
   "cell_type": "markdown",
   "metadata": {
    "id": "WKBRYrq1sCvm"
   },
   "source": [
    "5. แก้โค้ดข้างล่างต่อไปนี้ เพื่อแสดงผลอุณหภูมิในแต่ละเดือนตั้งแต่เดือนมกราคม (Jan) ถึงเดือนธันวาคม (Dec)"
   ]
  },
  {
   "cell_type": "code",
   "execution_count": null,
   "metadata": {
    "id": "nSLsn4VTsEJj"
   },
   "outputs": [],
   "source": [
    "months = iter(['Jun', 'Feb','Mar', 'Apr', \n",
    "          \"May\", \"Jun\", \"Jul\", \"Aug\",\n",
    "          \"Sep\", \"Oct\", \"Nov\", \"Dec\"])\n",
    "temps = iter([27, 28, 30, 31, 30, 30, 30, 30, 29, 29, 28, 26])\n",
    "\n",
    "months_temps = (months, temps)\n",
    "\n",
    "for i in range(12):\n",
    "  month, temp = next(months_temps)\n",
    "  print(f\"Average temperature in {month} is {temp}C\")"
   ]
  },
  {
   "cell_type": "markdown",
   "metadata": {
    "id": "PDOKHI1QohMv"
   },
   "source": [
    "6. สมมติว่าเรามี array สองตัวคือ \n",
    "\n",
    "`x = [1, 2, 3]` และ `y = [[4, 5, 6], [7, 8, 9]]`\n",
    "\n",
    "ต้องการนำ `x` และ `y` มาต่อกันให้ได้ array ที่มีขนาด 3x3 ดังนี้:\n",
    "\n",
    "`[[1, 2, 3], [4, 5, 6], [7, 8, 9]]`\n",
    "\n",
    "ด้วยการใช้ฟังก์ชัน `np.concatenate` ([reference](https://numpy.org/doc/stable/reference/generated/numpy.concatenate.html)) แต่ว่าลองรันโค้ดข้างล่างแล้วเกิด error ขึ้นมา\n",
    "\n",
    "ลองทำการศึกษา reference ที่ให้ไว้ข้างบนและลองใช้ google เพื่อหาวิธีในการแก้ error ในโค้ดข้างล่างนี้"
   ]
  },
  {
   "cell_type": "code",
   "execution_count": null,
   "metadata": {
    "id": "cL0vLWsIoibT"
   },
   "outputs": [],
   "source": [
    "import numpy as np\n",
    "\n",
    "x = np.array([1, 2, 3])\n",
    "y = np.array([[4, 5, 6],[7, 8, 9]])\n",
    "\n",
    "np.concatenate((x,y), axis = 0)"
   ]
  },
  {
   "cell_type": "markdown",
   "metadata": {
    "id": "0Sf4DRtBWHHG"
   },
   "source": [
    "อย่าลืม log out gmail หลังทำปฏิบัติการเสร็จสิ้น"
   ]
  }
 ],
 "metadata": {
  "colab": {
   "collapsed_sections": [],
   "provenance": []
  },
  "kernelspec": {
   "display_name": "Python 3 (ipykernel)",
   "language": "python",
   "name": "python3"
  },
  "language_info": {
   "codemirror_mode": {
    "name": "ipython",
    "version": 3
   },
   "file_extension": ".py",
   "mimetype": "text/x-python",
   "name": "python",
   "nbconvert_exporter": "python",
   "pygments_lexer": "ipython3",
   "version": "3.10.12"
  }
 },
 "nbformat": 4,
 "nbformat_minor": 4
}
