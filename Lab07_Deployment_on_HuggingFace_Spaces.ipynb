{
  "cells": [
    {
      "cell_type": "markdown",
      "metadata": {
        "id": "somuyPIMdG5c"
      },
      "source": [
        "We will train an XGBoost model on the Adult's Income dataset and deploy it on Hugging Face spaces."
      ]
    },
    {
      "cell_type": "code",
      "execution_count": null,
      "metadata": {
        "id": "vasWF9DQDJKU"
      },
      "outputs": [],
      "source": [
        "!pip install xgboost\n",
        "!pip install scikit-learn"
      ]
    },
    {
      "cell_type": "code",
      "execution_count": null,
      "metadata": {
        "id": "RP_o-DGsnyo3"
      },
      "outputs": [],
      "source": [
        "!wget http://www.donlapark.cmustat.com/Income.csv"
      ]
    },
    {
      "cell_type": "code",
      "execution_count": null,
      "metadata": {
        "id": "4Yy0kMnBc0tg"
      },
      "outputs": [],
      "source": [
        "import pandas as pd\n",
        "from sklearn.compose import ColumnTransformer\n",
        "from sklearn.pipeline import Pipeline\n",
        "from sklearn.preprocessing import OneHotEncoder, StandardScaler\n",
        "\n",
        "from xgboost import XGBClassifier\n",
        "\n",
        "\n",
        "EDU_DICT = {'Preschool': 1,\n",
        "            '1st-4th': 2,\n",
        "            '5th-6th': 3,\n",
        "            '7th-8th': 4,\n",
        "            '9th': 5,\n",
        "            '10th': 6,\n",
        "            '11th': 7,\n",
        "            '12th': 8,\n",
        "            'HS-grad': 9,\n",
        "            'Some-college': 10,\n",
        "            'Assoc-voc': 11,\n",
        "            'Assoc-acdm': 12,\n",
        "            'Bachelors': 13,\n",
        "            'Masters': 14,\n",
        "            'Prof-school': 15,\n",
        "            'Doctorate': 16\n",
        "            }\n",
        "\n",
        "\n",
        "X_train = pd.read_csv('Income.csv')\n",
        "\n",
        "X_train"
      ]
    },
    {
      "cell_type": "code",
      "execution_count": null,
      "metadata": {
        "id": "4WPI4fNVc3vo"
      },
      "outputs": [],
      "source": [
        "y_train = X_train.pop(\"income\")\n",
        "y_train = (y_train == \">50K\").astype(int)\n",
        "X_train['education'].replace(EDU_DICT, inplace=True)\n",
        "\n",
        "# Names of numerical features\n",
        "num_col = X_train.select_dtypes(include=['int64', 'float64']).columns\n",
        "# Names of categorical features\n",
        "cat_col = X_train.select_dtypes(include=['object', 'bool']).columns\n",
        "\n",
        "print(num_col)\n",
        "print(cat_col)"
      ]
    },
    {
      "cell_type": "code",
      "execution_count": null,
      "metadata": {
        "id": "abRubksdc92_"
      },
      "outputs": [],
      "source": [
        "preprocessor = ColumnTransformer([(\"scaler\", StandardScaler(), num_col),\n",
        "                                  (\"onehot\", OneHotEncoder(sparse=False), cat_col)])\n",
        "\n",
        "model = Pipeline(steps=[('preprocessor', preprocessor),\n",
        "                        ('classifier', XGBClassifier())])\n",
        "\n",
        "model.fit(X_train, y_train)"
      ]
    },
    {
      "cell_type": "markdown",
      "metadata": {
        "id": "FmzmLkZbdC9o"
      },
      "source": [
        "### Saving the model"
      ]
    },
    {
      "cell_type": "code",
      "execution_count": null,
      "metadata": {
        "id": "hE1jMrbfoy8j"
      },
      "outputs": [],
      "source": [
        "import joblib\n",
        "\n",
        "joblib.dump(model, 'model.joblib')"
      ]
    },
    {
      "cell_type": "code",
      "execution_count": null,
      "metadata": {
        "id": "clal6uHpdEwm"
      },
      "outputs": [],
      "source": [
        "unique_values = {col:X_train[col].unique() for col in cat_col}\n",
        "unique_values['education'] = list(EDU_DICT.keys())\n",
        "\n",
        "joblib.dump(unique_values, 'unique_values.joblib')\n"
      ]
    },
    {
      "cell_type": "code",
      "execution_count": null,
      "metadata": {
        "id": "HP5a-2AUrqcz"
      },
      "outputs": [],
      "source": [
        "unique_values"
      ]
    },
    {
      "cell_type": "code",
      "source": [
        "import sklearn\n",
        "\n",
        "print(sklearn.__version__)"
      ],
      "metadata": {
        "id": "5CGcNmzE_dUs"
      },
      "execution_count": null,
      "outputs": []
    },
    {
      "cell_type": "code",
      "source": [],
      "metadata": {
        "id": "AadRIbBX_4Vs"
      },
      "execution_count": null,
      "outputs": []
    }
  ],
  "metadata": {
    "colab": {
      "provenance": []
    },
    "kernelspec": {
      "display_name": "Python 3 (ipykernel)",
      "language": "python",
      "name": "python3"
    },
    "language_info": {
      "codemirror_mode": {
        "name": "ipython",
        "version": 3
      },
      "file_extension": ".py",
      "mimetype": "text/x-python",
      "name": "python",
      "nbconvert_exporter": "python",
      "pygments_lexer": "ipython3",
      "version": "3.10.12"
    }
  },
  "nbformat": 4,
  "nbformat_minor": 0
}