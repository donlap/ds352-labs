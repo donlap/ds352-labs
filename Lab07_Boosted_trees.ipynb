{
  "cells": [
    {
      "cell_type": "markdown",
      "id": "d59e5148-ca0d-4b24-852f-bdd61722d236",
      "metadata": {
        "id": "d59e5148-ca0d-4b24-852f-bdd61722d236"
      },
      "source": [
        "### Statistical Learning for Data Science 2 (229352)\n",
        "#### Instructor: Donlapark Ponnoprat\n",
        "\n",
        "#### [Course website](https://donlapark.pages.dev/229352/)\n",
        "\n",
        "## Lab #6"
      ]
    },
    {
      "cell_type": "markdown",
      "id": "575620de-7160-4790-bfd3-436022dd81c3",
      "metadata": {
        "id": "575620de-7160-4790-bfd3-436022dd81c3"
      },
      "source": [
        "## Boosted tree models on a simulated dataset"
      ]
    },
    {
      "cell_type": "markdown",
      "id": "84469bfa-1347-413a-bbe5-d9a833ef44a0",
      "metadata": {
        "id": "84469bfa-1347-413a-bbe5-d9a833ef44a0"
      },
      "source": [
        "- [AdaBoostClassifier documentation](https://scikit-learn.org/stable/modules/generated/sklearn.ensemble.AdaBoostClassifier.html#sklearn-ensemble-adaboostclassifier)\n",
        "- [XGBClassifier documentation](https://xgboost.readthedocs.io/en/stable/python/python_api.html#xgboost.XGBClassifier)\n",
        "- [LGBMClassifier documentation](https://lightgbm.readthedocs.io/en/latest/pythonapi/lightgbm.LGBMClassifier.html#lightgbm-lgbmclassifier)\n",
        "- [GridSeachCV documentation](https://scikit-learn.org/stable/modules/generated/sklearn.model_selection.GridSearchCV.html)\n",
        "\n",
        "\n",
        "- [Data](https://github.com/donlapark/ds352-labs/raw/main/Lab06-data.zip)\n"
      ]
    },
    {
      "cell_type": "markdown",
      "id": "5af19014-2d32-4897-90fd-2dd107ed0d79",
      "metadata": {
        "id": "5af19014-2d32-4897-90fd-2dd107ed0d79"
      },
      "source": [
        "Perform GridSearchCV of the following three models on the provided training set (`X_train.csv` and `y_train.csv`)\n",
        "\n",
        "1. Evaluate these models on the test set (`X_test.csv` and `y_test.csv`).\n",
        "\n",
        "2. For each model, plot the feature importances\n",
        "\n",
        "For `AdaBoostClassifier`, feature importances can be obtained by calling the `feature_importances` attribute after fitting the model.\n",
        "\n",
        "For `XGBClassifier` and `LGBMClassifier`, feature importances can be obtained using the library’s `plot_importance` function. Here is a minimal example in XGBoost:\n",
        "\n",
        "- AdaBoost. Grid search over `n_estimators` and `learning_rate`.\n",
        "- XGBoost. Grid search over `n_estimators`, `max_depth` and `learning_rate`.\n",
        "- LightGBM. Grid search over `n_estimators`, `max_depth` and `learning_rate`."
      ]
    },
    {
      "cell_type": "code",
      "execution_count": null,
      "id": "997befe6-4a34-454e-8f8e-2ac646ce92c5",
      "metadata": {
        "id": "997befe6-4a34-454e-8f8e-2ac646ce92c5"
      },
      "outputs": [],
      "source": [
        "from xgboost import XGBClassifier, plot_importance\n",
        "\n",
        "from sklearn import datasets\n",
        "\n",
        "\n",
        "iris = datasets.load_iris()\n",
        "X = iris.data\n",
        "y = iris.target\n",
        "\n",
        "model = XGBClassifier()\n",
        "model.fit(X, y)\n",
        "plot_importance(model);"
      ]
    },
    {
      "cell_type": "code",
      "execution_count": null,
      "id": "66ac700c-08b7-4eda-819c-f5892341d581",
      "metadata": {
        "id": "66ac700c-08b7-4eda-819c-f5892341d581"
      },
      "outputs": [],
      "source": [
        "from xgboost import plot_tree\n",
        "\n",
        "plot_tree(model, num_trees=1);"
      ]
    },
    {
      "cell_type": "code",
      "execution_count": null,
      "id": "5076897a-065b-4c7e-a3a3-61b846acce2d",
      "metadata": {
        "id": "5076897a-065b-4c7e-a3a3-61b846acce2d"
      },
      "outputs": [],
      "source": [
        "import pandas as pd\n",
        "\n",
        "data = pd.read_csv('X_train.csv', header=None)\n",
        "\n",
        "\n",
        "data\n",
        "\n"
      ]
    },
    {
      "cell_type": "code",
      "execution_count": null,
      "id": "de297d6a-f85c-4971-95e7-3e42893160cf",
      "metadata": {
        "id": "de297d6a-f85c-4971-95e7-3e42893160cf"
      },
      "outputs": [],
      "source": [
        "import numpy as np\n",
        "\n",
        "data = np.genfromtxt(\"X_train.csv\", delimiter=\",\")\n",
        "\n",
        "data"
      ]
    },
    {
      "cell_type": "code",
      "execution_count": null,
      "id": "b6a68d2b-0a07-42b0-adcf-8e91bf128d04",
      "metadata": {
        "id": "b6a68d2b-0a07-42b0-adcf-8e91bf128d04"
      },
      "outputs": [],
      "source": []
    }
  ],
  "metadata": {
    "kernelspec": {
      "display_name": "Python 3 (ipykernel)",
      "language": "python",
      "name": "python3"
    },
    "language_info": {
      "codemirror_mode": {
        "name": "ipython",
        "version": 3
      },
      "file_extension": ".py",
      "mimetype": "text/x-python",
      "name": "python",
      "nbconvert_exporter": "python",
      "pygments_lexer": "ipython3",
      "version": "3.10.12"
    },
    "colab": {
      "provenance": []
    }
  },
  "nbformat": 4,
  "nbformat_minor": 5
}