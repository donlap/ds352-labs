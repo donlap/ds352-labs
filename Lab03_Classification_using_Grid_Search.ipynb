{
 "cells": [
  {
   "cell_type": "code",
   "execution_count": null,
   "metadata": {
    "colab": {
     "base_uri": "https://localhost:8080/"
    },
    "id": "tShvCHLSAsu6",
    "outputId": "d226f272-2fc4-48e3-8539-73ddb09c1adb"
   },
   "outputs": [],
   "source": [
    "from sklearn.datasets import fetch_20newsgroups\n",
    "\n",
    "train = fetch_20newsgroups(subset='train')\n",
    "test = fetch_20newsgroups(subset='test')\n",
    "\n",
    "Xtrain = train.data\n",
    "ytrain = train.target\n",
    "Xtest = test.data\n",
    "ytest = test.target\n",
    "\n",
    "print(\"X:\", len(Xtrain))\n",
    "print(\"y:\", len(ytrain))"
   ]
  },
  {
   "cell_type": "code",
   "execution_count": null,
   "metadata": {
    "colab": {
     "base_uri": "https://localhost:8080/"
    },
    "id": "DunmeISuAxVp",
    "outputId": "dae14abe-e269-4059-c9eb-809f5ee7bb9e"
   },
   "outputs": [],
   "source": [
    "print(\"X[0]:\", Xtrain[0])\n",
    "print(\"y[0]:\", ytrain[0])"
   ]
  },
  {
   "cell_type": "code",
   "execution_count": null,
   "metadata": {
    "colab": {
     "base_uri": "https://localhost:8080/"
    },
    "id": "OJF0Yf8kA4ZM",
    "outputId": "9528c541-a3a3-42bc-afae-895c55303b5e"
   },
   "outputs": [],
   "source": [
    "train.target_names"
   ]
  },
  {
   "cell_type": "markdown",
   "metadata": {
    "id": "TKIW_iS8A8KO"
   },
   "source": [
    "### Apply Tfidf ([documentation](https://scikit-learn.org/stable/modules/generated/sklearn.feature_extraction.text.TfidfVectorizer.html))"
   ]
  },
  {
   "cell_type": "code",
   "execution_count": null,
   "metadata": {
    "colab": {
     "base_uri": "https://localhost:8080/"
    },
    "id": "kkrbh0AtA8g5",
    "outputId": "565172f8-fbfd-4059-b31d-58efb7d9a9c6"
   },
   "outputs": [],
   "source": [
    "from sklearn.feature_extraction.text import TfidfVectorizer\n",
    "\n",
    "tfidf = TfidfVectorizer(stop_words = 'english',\n",
    "                        ngram_range = (2, 2))\n",
    "Xtrain_tfidf = tfidf.fit_transform(Xtrain)\n",
    "\n",
    "Xtrain_tfidf"
   ]
  },
  {
   "cell_type": "code",
   "execution_count": null,
   "metadata": {
    "colab": {
     "base_uri": "https://localhost:8080/"
    },
    "id": "tGt73o2UA_Xg",
    "outputId": "66ce57b4-a9f4-4059-ffd5-2a568c74bf98"
   },
   "outputs": [],
   "source": [
    "#tfidf.vocabulary_"
   ]
  },
  {
   "cell_type": "markdown",
   "metadata": {
    "id": "8pPpNJ89A_pu"
   },
   "source": [
    "### Classify with Naive Bayes ([documentation](https://scikit-learn.org/stable/modules/generated/sklearn.naive_bayes.MultinomialNB.html))"
   ]
  },
  {
   "cell_type": "code",
   "execution_count": null,
   "metadata": {
    "colab": {
     "base_uri": "https://localhost:8080/"
    },
    "id": "7m7rhMAcBCOO",
    "outputId": "f99536ec-74ad-45e1-90cb-05258f47d3b4"
   },
   "outputs": [],
   "source": [
    "from sklearn.naive_bayes import MultinomialNB\n",
    "\n",
    "nb = MultinomialNB(alpha = 1)\n",
    "nb.fit(Xtrain_tfidf, ytrain)"
   ]
  },
  {
   "cell_type": "markdown",
   "metadata": {
    "id": "UKj8LWkYBFkY"
   },
   "source": [
    "Evaluate on the test set using [`classification_report`](https://scikit-learn.org/stable/modules/generated/sklearn.metrics.classification_report.html) \n",
    "\n",
    "We will focus on the [F1-score](https://scikit-learn.org/stable/modules/generated/sklearn.metrics.f1_score.html)"
   ]
  },
  {
   "cell_type": "code",
   "execution_count": null,
   "metadata": {
    "colab": {
     "base_uri": "https://localhost:8080/"
    },
    "id": "YfweGKT7Vkc0",
    "outputId": "65ced23c-540b-47d9-eb95-52b69c64e4a6"
   },
   "outputs": [],
   "source": [
    "from sklearn.metrics import classification_report\n",
    "\n",
    "Xtest_tfidf = tfidf.transform(Xtest)\n",
    "\n",
    "ypred = nb.predict(Xtest_tfidf)\n",
    "\n",
    "print(classification_report(ytest, ypred))"
   ]
  },
  {
   "cell_type": "code",
   "execution_count": null,
   "metadata": {
    "id": "ejOwuLzUBG3E"
   },
   "outputs": [],
   "source": []
  },
  {
   "cell_type": "markdown",
   "metadata": {
    "id": "ZNQlI-b7BJyb"
   },
   "source": [
    "### Combine all methods into a [pipeline](https://scikit-learn.org/stable/modules/generated/sklearn.pipeline.Pipeline.html)"
   ]
  },
  {
   "cell_type": "code",
   "execution_count": null,
   "metadata": {
    "colab": {
     "base_uri": "https://localhost:8080/"
    },
    "id": "6dHo0-mIBK0u",
    "outputId": "ad8e0f23-6943-46a2-a774-8e71d88cf36c"
   },
   "outputs": [],
   "source": [
    "from sklearn.pipeline import Pipeline\n",
    "\n",
    "pipeline = Pipeline([('tfidf', TfidfVectorizer(stop_words = 'english')),\n",
    "                     ('nb', MultinomialNB())])\n",
    "\n",
    "pipeline.fit(Xtrain, ytrain)\n",
    "ypred = pipeline.predict(Xtest)\n",
    "print(classification_report(ytest, ypred))"
   ]
  },
  {
   "cell_type": "markdown",
   "metadata": {
    "id": "uHEZHkyaBNU6"
   },
   "source": [
    "Now we will use [grid search cross-validation](https://scikit-learn.org/stable/modules/generated/sklearn.model_selection.GridSearchCV.html) to find model with the best hyperparameters"
   ]
  },
  {
   "cell_type": "markdown",
   "metadata": {
    "id": "tmE7nqYPEy-G"
   },
   "source": [
    "![5CV](https://scikit-learn.org/stable/_images/grid_search_cross_validation.png)"
   ]
  },
  {
   "cell_type": "code",
   "execution_count": null,
   "metadata": {
    "colab": {
     "base_uri": "https://localhost:8080/"
    },
    "id": "HRlxCcrvBN9S",
    "outputId": "fc6adc8a-70fc-4b1c-d21e-acb9a3fe6a32"
   },
   "outputs": [],
   "source": [
    "from sklearn.model_selection import GridSearchCV\n",
    "\n",
    "params = {'tfidf__ngram_range': [(1, 1), (1, 2), (2, 2)],\n",
    "          'nb__alpha': [0.01, 0.1, 1, 10]}\n",
    "\n",
    "gridcv = GridSearchCV(pipeline, params, scoring = 'f1_macro', cv = 5)\n",
    "gridcv.fit(Xtrain, ytrain)"
   ]
  },
  {
   "cell_type": "code",
   "execution_count": null,
   "metadata": {
    "colab": {
     "base_uri": "https://localhost:8080/"
    },
    "id": "cCd-8EFBBR5F",
    "outputId": "f315c2ba-21b3-4ddf-ded0-2e1cba5b0b99"
   },
   "outputs": [],
   "source": [
    "gridcv.best_estimator_"
   ]
  },
  {
   "cell_type": "code",
   "execution_count": null,
   "metadata": {
    "colab": {
     "base_uri": "https://localhost:8080/"
    },
    "id": "jv4yI-fYBSBM",
    "outputId": "5a49b872-9611-402c-83d4-c6ee066080b6"
   },
   "outputs": [],
   "source": [
    "ypred = gridcv.predict(Xtest)\n",
    "print(classification_report(ytest, ypred))"
   ]
  },
  {
   "cell_type": "markdown",
   "metadata": {
    "id": "wtcscwZPBRJ2"
   },
   "source": [
    "#### Exercise\n",
    "\n",
    "1. For the Naive Bayes model, use grid search cross-validation across different values of `alpha` and `ngram_range` to find the best model.\n",
    "\n",
    "2. For the best value of `alpha` and `ngram_range`, compute the `f1_macro` score on the test set. \n",
    "* What value of `alpha` and `ngram_range` did you choose?\n",
    "* Whai is the model's `f1_macro` score?\n",
    "\n",
    "Extra: Try `GaussianNB` [documentation](https://scikit-learn.org/stable/modules/generated/sklearn.naive_bayes.GaussianNB.html). Do you get a better result?"
   ]
  },
  {
   "cell_type": "code",
   "execution_count": null,
   "metadata": {
    "id": "U97-Uu5-BTxj"
   },
   "outputs": [],
   "source": []
  }
 ],
 "metadata": {
  "colab": {
   "collapsed_sections": [],
   "provenance": []
  },
  "kernelspec": {
   "display_name": "Python 3 (ipykernel)",
   "language": "python",
   "name": "python3"
  },
  "language_info": {
   "codemirror_mode": {
    "name": "ipython",
    "version": 3
   },
   "file_extension": ".py",
   "mimetype": "text/x-python",
   "name": "python",
   "nbconvert_exporter": "python",
   "pygments_lexer": "ipython3",
   "version": "3.10.12"
  }
 },
 "nbformat": 4,
 "nbformat_minor": 4
}
