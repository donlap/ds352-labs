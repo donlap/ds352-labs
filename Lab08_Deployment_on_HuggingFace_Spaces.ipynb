{
  "cells": [
    {
      "cell_type": "markdown",
      "metadata": {
        "id": "hc9dBStnK-Vh"
      },
      "source": [
        "### Statistical Learning for Data Science 2 (229352)\n",
        "#### Instructor: Donlapark Ponnoprat\n",
        "\n",
        "#### [Course website](https://donlapark.pages.dev/229352/)\n",
        "\n",
        "## Lab #8"
      ]
    },
    {
      "cell_type": "markdown",
      "metadata": {
        "id": "somuyPIMdG5c"
      },
      "source": [
        "We will train an XGBoost regressor on the monitor dataset dataset and deploy it Github website."
      ]
    },
    {
      "cell_type": "code",
      "execution_count": null,
      "metadata": {
        "id": "4Yy0kMnBc0tg"
      },
      "outputs": [],
      "source": [
        "import pandas as pd\n",
        "import sklearn\n",
        "from sklearn.compose import ColumnTransformer\n",
        "from sklearn.pipeline import Pipeline\n",
        "from sklearn.preprocessing import StandardScaler, OneHotEncoder\n",
        "\n",
        "import xgboost\n",
        "from xgboost import XGBRegressor\n",
        "\n",
        "import joblib"
      ]
    },
    {
      "cell_type": "markdown",
      "source": [
        "We will need `Scikit-learn`'s version number for setting up HuggingFace's space."
      ],
      "metadata": {
        "id": "dbfj3ssgMs0d"
      }
    },
    {
      "cell_type": "code",
      "source": [
        "print(\"Scikit-learn's version:\", sklearn.__version__)\n",
        "print(\"xgboost's version:\", xgboost.__version__)"
      ],
      "metadata": {
        "id": "aigWNQfxMVd6"
      },
      "execution_count": null,
      "outputs": []
    },
    {
      "cell_type": "markdown",
      "source": [
        "First, download the data of monitor prices collected from Amazon [source](https://www.kaggle.com/datasets/durjoychandrapaul/amazon-products-sales-monitor-dataset)."
      ],
      "metadata": {
        "id": "iBxapjRXNcfD"
      }
    },
    {
      "cell_type": "code",
      "execution_count": null,
      "metadata": {
        "id": "RP_o-DGsnyo3"
      },
      "outputs": [],
      "source": [
        "!wget http://www.donlapark.cmustat.com/229352/monitors.csv"
      ]
    },
    {
      "cell_type": "code",
      "source": [
        "data = pd.read_csv('monitors.csv')\n",
        "\n",
        "data.head()"
      ],
      "metadata": {
        "id": "4Z09aCNcLNkb"
      },
      "execution_count": null,
      "outputs": []
    },
    {
      "cell_type": "code",
      "source": [
        "y_train = data[\"Price\"]\n",
        "X_train = data.drop([\"Title\", \"Price\"], axis=1)\n",
        "\n",
        "# Names of numerical features\n",
        "num_col = X_train.select_dtypes(include=['int64', 'float64']).columns\n",
        "# Names of categorical features\n",
        "cat_col = X_train.select_dtypes(include=['object', 'bool']).columns\n",
        "\n",
        "print(num_col)\n",
        "print(cat_col)"
      ],
      "metadata": {
        "id": "D4k9cx4RPUNh"
      },
      "execution_count": null,
      "outputs": []
    },
    {
      "cell_type": "code",
      "execution_count": null,
      "metadata": {
        "id": "abRubksdc92_"
      },
      "outputs": [],
      "source": [
        "preprocessor = ColumnTransformer([(\"scaler\", StandardScaler(), num_col),\n",
        "                                  (\"onehot\", OneHotEncoder(sparse=False), cat_col)])\n",
        "\n",
        "model = Pipeline(steps=[('preprocessor', preprocessor),\n",
        "                        ('regressor', XGBRegressor())])\n",
        "\n",
        "model.fit(X_train, y_train)"
      ]
    },
    {
      "cell_type": "markdown",
      "metadata": {
        "id": "FmzmLkZbdC9o"
      },
      "source": [
        "Save the model using `joblib`."
      ]
    },
    {
      "cell_type": "code",
      "execution_count": null,
      "metadata": {
        "id": "hE1jMrbfoy8j"
      },
      "outputs": [],
      "source": [
        "joblib.dump(model, 'model.joblib')"
      ]
    },
    {
      "cell_type": "markdown",
      "source": [
        "Save the list of brands---we will need it to create a dropdown menu."
      ],
      "metadata": {
        "id": "40jZxa52NECr"
      }
    },
    {
      "cell_type": "code",
      "execution_count": null,
      "metadata": {
        "id": "clal6uHpdEwm"
      },
      "outputs": [],
      "source": [
        "unique_values = {col:X_train[col].unique() for col in cat_col}\n",
        "joblib.dump(unique_values, 'unique_values.joblib')\n"
      ]
    },
    {
      "cell_type": "code",
      "execution_count": null,
      "metadata": {
        "id": "HP5a-2AUrqcz"
      },
      "outputs": [],
      "source": [
        "unique_values"
      ]
    },
    {
      "cell_type": "markdown",
      "source": [
        "### Exercise:\n",
        "1. Choose your own dataset from https://www.kaggle.com/datasets?topic=trendingDataset or any other website. Choose your own prediction task.\n",
        "\n",
        "2. Fit and deploy your prediction model on a Github website.\n",
        "\n",
        "3. Go to Assignment in Mango and send in the link to you website.\n"
      ],
      "metadata": {
        "id": "H6qu-l53N8pC"
      }
    },
    {
      "cell_type": "code",
      "source": [],
      "metadata": {
        "id": "OjbFu_-XOeoS"
      },
      "execution_count": null,
      "outputs": []
    }
  ],
  "metadata": {
    "colab": {
      "provenance": []
    },
    "kernelspec": {
      "display_name": "Python 3 (ipykernel)",
      "language": "python",
      "name": "python3"
    },
    "language_info": {
      "codemirror_mode": {
        "name": "ipython",
        "version": 3
      },
      "file_extension": ".py",
      "mimetype": "text/x-python",
      "name": "python",
      "nbconvert_exporter": "python",
      "pygments_lexer": "ipython3",
      "version": "3.10.12"
    }
  },
  "nbformat": 4,
  "nbformat_minor": 0
}